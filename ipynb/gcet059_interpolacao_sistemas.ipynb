{
  "nbformat": 4,
  "nbformat_minor": 0,
  "metadata": {
    "colab": {
      "provenance": [],
      "toc_visible": true,
      "mount_file_id": "1KTufL8qqVQJfPiwn3ksA55WyWHwnEMEV",
      "authorship_tag": "ABX9TyPfKrifvjptvOpN8cxE5EmD"
    },
    "kernelspec": {
      "name": "python3",
      "display_name": "Python 3"
    },
    "language_info": {
      "name": "python"
    }
  },
  "cells": [
    {
      "cell_type": "markdown",
      "source": [
        "<div class=\"logo\">\n",
        "  <a href=\"https://colab.research.google.com/github/profpaulonascimento/gcet059/blob/main/gcet059_interpolacao_sistemas.ipynb\">\n",
        "    <img src=\"https://colab.research.google.com/assets/colab-badge.svg\" alt=\"Open In Colab\"></a>\n",
        "</div>"
      ],
      "metadata": {
        "id": "aOwh7Io4uLC7"
      }
    },
    {
      "cell_type": "markdown",
      "source": [
        "# <font color=green> INTRODUÇÃO"
      ],
      "metadata": {
        "id": "hi1KYi4vwYEf"
      }
    },
    {
      "cell_type": "markdown",
      "source": [
        "<font size=4>Muitas funções são conhecidas apenas em um conjunto discreto e finito de pontos de intervalo $[a,b]$ como, por exemplo, a tabela abaixo, que relaciona calor específico da água e temperatura.\n",
        "\n",
        "<center>Tabela 01: Valores do calor específico da água entre 15°C e 60°C.</center>\n",
        "\n",
        "<center>\n",
        "\n",
        "|   |   |   |   |   |   |   |   |   |   |   |\n",
        "|---|---|---|---|---|---|---|---|---|---|---|\n",
        "|**Temperatura (°C)** | 15 | 20| 25| 30| 35| 40| 45| 50| 55| 60|\n",
        "|**Calor específico (J/(g·K))}** | 4.179| 4.181| 4.182| 4.184| 4.187| 4.192| 4.198| 4.205| 4.214| 4.216|\n",
        "\n",
        "</center>\n",
        "\n",
        "<font size=4>A partir desses dados, suponhamos que queiramos calcular o calor específico da água a $37{}^\\circ C$ e a temperatura para qual o calor específico é $4.2$. Assim, a interpolação pode ajudar na resolução deste problema.\n",
        "\n",
        "<font size=4>Interpolar consiste em aproximar uma função $f$ de determinada classe através de outra $g$ que não necessita estar nesta mesma classe (assim, podemos escolher uma que satisfaça determinadas propriedades que sejam ), sabendo que, em determinados pontos do domínio destas, as imagens são coincidentes. \n",
        "\n",
        "<font size=4>Consideremos o conjunto $X = \\{x_{0}, x_{1}, x_{2}, \\ldots, x_{n}\\}$ com $n+1$ elementos e a função:\n",
        "$$\\begin{array}{rcl}\n",
        "f : X & \\to & \\mathbb{R} \\\\\n",
        " x_{i} &\\mapsto& f(x_{i}).\n",
        "\\end{array}$$\n",
        "Devemos encontrar uma função $g(x)$, tal que\n",
        "$$g(x_{k}) = f(x_{k}), k \\in \\{0, 1, \\ldots, n\\}.$$\n",
        "\n",
        "<font size=4>Por exemplo, um truncamento da série de Taylor de uma função $f$ em torno do ponto $x=a$, $\\displaystyle \\sum_{n=0}^{\\infty} \\frac{(x-a)^n}{n!}f^{(n)}(a)$, é uma aproximação para a própria função $f$.\n",
        "\n",
        "<font size=4>Utilizamos a interpolação, principalmente, quando:\n",
        "* <font size=4>queremos determinar a imagem da função em um ponto cuja imagem não fora estabelecida, ou seja, não conhecemos a expressão analítica de $f(x)$ e, a partir dos pontos $(x_{0}; f(x_{0})$, $(x_{1}; f(x_{1})$, $\\ldots$, $(x_{n}; f(x_{n})$, obtemos o polinômio. Esta situação ocorre frequentemente quando se trabalha com dados experimentais e necessitamos manipular $f(x)$.\n",
        "* <font size=4>a função possui expressão extremamente complicada, de difícil ou impossível determinação. Visto isso, às vezes, se torna interessante sacrificar a precisão dos valores obtidos na imagem em prol do benefício da simplificação dos cálculos.\n",
        "\n",
        "<font size=4>Devido à razoável facilidade com a qual os polinômios podem ter as suas raízes, derivadas e integrais calculadas por métodos computacionais, estudaremos aqui o método da **interpolação polinomial**. Portanto, existe uma vantagem considerável na substituição de uma função, de expressão altamente complicada, por um polinômio, considerando uma margem de erro pequena e aceitável.\n",
        "\n",
        "<font size=4>Outros métodos são utilizados para uma aproximação por polinômio, dentre os quais podemos citar: o Método dos Quadrados Mínimos, a Osculação, o Mini-Max, etc.\n",
        "\n",
        "<font size=4>A garantia da existência de um polinômio que aproxime uma determinada função é dada pelo Teorema de Weirstrass, que afirma que toda função contínua pode ser arbitrariamente aproximada por um polinômio."
      ],
      "metadata": {
        "id": "7thLKGkwwcsv"
      }
    },
    {
      "cell_type": "markdown",
      "source": [
        "A seguir, temos um código que nos ajuda a visualizar como estão distribuídos os pontos da tabela no plano."
      ],
      "metadata": {
        "id": "l3QS67G33Hmz"
      }
    },
    {
      "cell_type": "code",
      "source": [
        "import numpy as np\n",
        "temperatura = [15, 20, 25, 30, 35, 40, 45, 50, 55, 60]\n",
        "calor = [4.179, 4.181, 4.182, 4.184, 4.187, 4.192, 4.198, 4.205, 4.214, 4.216]\n",
        "m = len(temperatura)\n",
        "pontos = np.zeros((m,2))\n",
        "for i in range(len(temperatura)):\n",
        "    pontos[i,0] = temperatura[i]\n",
        "    pontos[i,1] = calor[i]\n",
        "print(pontos.T)\n",
        "\n",
        "import matplotlib.pyplot as plt\n",
        "\n",
        "plt.scatter(temperatura,calor,s=5)\n",
        "plt.show()"
      ],
      "metadata": {
        "colab": {
          "base_uri": "https://localhost:8080/",
          "height": 465
        },
        "id": "FSPL5zOj0oWL",
        "outputId": "5a148603-2577-4bac-d3b1-1d7bcfd5d097"
      },
      "execution_count": null,
      "outputs": [
        {
          "output_type": "stream",
          "name": "stdout",
          "text": [
            "[[15.    20.    25.    30.    35.    40.    45.    50.    55.    60.   ]\n",
            " [ 4.179  4.181  4.182  4.184  4.187  4.192  4.198  4.205  4.214  4.216]]\n"
          ]
        },
        {
          "output_type": "display_data",
          "data": {
            "text/plain": [
              "<Figure size 640x480 with 1 Axes>"
            ],
            "image/png": "[encoded data removed]"
          },
          "metadata": {}
        }
      ]
    },
    {
      "cell_type": "markdown",
      "source": [
        "# <font color=green>INTERPOLAÇÃO POLINOMIAL"
      ],
      "metadata": {
        "id": "DAp7MWvY4EDz"
      }
    },
    {
      "cell_type": "markdown",
      "source": [
        "<font size=4>Neste tipo de interpolação, dados os $n+1$ pontos $(x_{i}; f(x_{i})), i = 0, 1, 2, \\ldots, n$, devemos aproximar $f(x)$ por um polinômio $p_{n}(x)$ de grau no máximo igual a $n$ tal que\n",
        "$$p_{n}(x_{i}) = f(x_{i}), \\forall\\ i \\in \\{0, 1, \\ldots, n\\}.$$\n",
        "Tal polinômio é então chamado **polinômio interpolador** de uma função $y = f(x)$ sobre um conjunto de pontos distintos $(x_{i}; f(x_{i})), i = 0, 1 , \\ldots, n$.\n",
        "\n",
        "<font size=4>Como um polinômio de grau $n$ possui $n+1$ coeficientes, estes coeficientes são elementos do conjunto solução do sistema de equações\n",
        "$$p_{n}(x_{i}) = f(x_{i}), i = 0, 1, \\ldots, n,$$\n",
        "ou seja,\n",
        "$$\\left\\{\\begin{array}{rcl}\n",
        "a_{0} + a_{1}x_{0} + a_2x_{0}^2 + \\ldots + a_{n}x_{0}^n & = & f(x_{0}) \\\\\n",
        "a_{0} + a_{1}x_{1} + a_2x_{1}^2 + \\ldots + a_{n}x_{1}^n & = & f(x_{1}) \\\\\n",
        "a_{0} + a_{1}x_{2} + a_2x_{2}^2 + \\ldots + a_{n}x_{2}^n & = & f(x_{2}) \\\\\n",
        " & \\vdots & \\\\\n",
        "a_{0} + a_{1}x_{n} + a_2x_{n}^2 + \\ldots + a_{n}x_{n}^n & = & f(x_{n})\n",
        "\\end{array}\\right.$$\n",
        "\n",
        "<font size=4>O sistema acima possui solução única. De fato, a matriz dos coeficientes\n",
        "$$X = \\left[\\begin{array}{ccccc}\n",
        "1 & x_{0} & x_{0}^2 & \\ldots & x_{0}^n \\\\\n",
        "1 & x_{1} & x_{1}^2 & \\ldots & x_{1}^n \\\\\n",
        "1 & x_{2} & x_{2}^2 & \\ldots & x_{2}^n \\\\\n",
        "\\vdots & \\vdots & \\vdots & \\vdots & \\vdots \\\\\n",
        "1 & x_{n} & x_{n}^2 & \\ldots & x_{n}^n\n",
        "\\end{array}\\right]$$\n",
        "é uma matriz de Vandermonde (matriz cujos termos de cada linha apresenta uma progressão geométrica) e seu determinante é obtido por\n",
        "$$\\det(X) = \\displaystyle \\prod_{j>i} (x_j-x_{i}).$$\n",
        "Como $x_{i} \\neq x_j, \\forall\\ i \\neq j$, temos que $\\det(X) \\neq 0$ e, portanto, o sistema linear admite única solução. Assim, podemos enunciar o seguinte teorema:\n",
        "\n",
        "<font size=4>**Teorema**:\n",
        "Existe um único polinômio $p_{n}(x)$, de grau menor ou igual a $n$, tal que:\n",
        "$$p_{n}(x_{i}) = f(x_{i}), i = 0, 1, \\ldots, n, x_{i} \\neq x_j, i \\neq j.$$"
      ],
      "metadata": {
        "id": "6Y-U50Dj1Gp8"
      }
    },
    {
      "cell_type": "markdown",
      "source": [
        "## Exemplo:"
      ],
      "metadata": {
        "id": "19-gbwdn1poQ"
      }
    },
    {
      "cell_type": "markdown",
      "source": [
        "<font size=4>Encontre um polinômio que interpola os pontos da tabela\n",
        "$$\\begin{array}{c|c|c|c}\n",
        "x & -1 & 0 & 2 \\\\ \\hline\n",
        "f(x) & 4 & 1 & -1\n",
        "\\end{array}$$"
      ],
      "metadata": {
        "id": "T_oKIO6e1swi"
      }
    },
    {
      "cell_type": "markdown",
      "source": [
        "## Solução:"
      ],
      "metadata": {
        "id": "tGzPN9wV9jAy"
      }
    },
    {
      "cell_type": "markdown",
      "source": [
        "<font size=4>Inicialmente, iremos colocar os dados da tabela como vetores, utilizando o `numpy array`."
      ],
      "metadata": {
        "id": "ltw7qPqj-PVj"
      }
    },
    {
      "cell_type": "code",
      "source": [
        "import numpy as np\n",
        "x1 = np.array([-1,0,2])\n",
        "y1 = np.array([4,1,-1])\n",
        "n = len(x1)\n",
        "x1.shape"
      ],
      "metadata": {
        "colab": {
          "base_uri": "https://localhost:8080/"
        },
        "id": "82-vlGTU13dA",
        "outputId": "75961207-207b-4a2f-a75c-2fe4e37613b4"
      },
      "execution_count": null,
      "outputs": [
        {
          "output_type": "execute_result",
          "data": {
            "text/plain": [
              "(3,)"
            ]
          },
          "metadata": {},
          "execution_count": 83
        }
      ]
    },
    {
      "cell_type": "markdown",
      "source": [
        "<font size=4>Para montarmos a matriz $X$, devemos observar que os elementos de cada coluna $j$, $j=0,1,2$, é dada por $(x[i])^j, i = 0,1,2$. "
      ],
      "metadata": {
        "id": "ZZ5i657t-rcQ"
      }
    },
    {
      "cell_type": "code",
      "source": [
        "x0 = pow(x1,0)\n",
        "x0"
      ],
      "metadata": {
        "colab": {
          "base_uri": "https://localhost:8080/"
        },
        "id": "r_fqrkif_93F",
        "outputId": "e2128d66-51ad-4b4f-c477-701b612f008c"
      },
      "execution_count": null,
      "outputs": [
        {
          "output_type": "execute_result",
          "data": {
            "text/plain": [
              "array([1, 1, 1])"
            ]
          },
          "metadata": {},
          "execution_count": 85
        }
      ]
    },
    {
      "cell_type": "code",
      "source": [
        "x2 = pow(x1,2)\n",
        "x2"
      ],
      "metadata": {
        "colab": {
          "base_uri": "https://localhost:8080/"
        },
        "id": "NXnuelfA7Mso",
        "outputId": "7791ad11-8242-4ee3-855c-aaf4924fabda"
      },
      "execution_count": null,
      "outputs": [
        {
          "output_type": "execute_result",
          "data": {
            "text/plain": [
              "array([1, 0, 4])"
            ]
          },
          "metadata": {},
          "execution_count": 86
        }
      ]
    },
    {
      "cell_type": "markdown",
      "source": [
        "<font size=4>Contruímos a matriz $X$ de ordem $n$, qeu possui, inicialmente, elementos iguais a zero."
      ],
      "metadata": {
        "id": "cQRtPHTbB3Ik"
      }
    },
    {
      "cell_type": "code",
      "source": [
        "X = np.zeros((n,n))\n",
        "X"
      ],
      "metadata": {
        "colab": {
          "base_uri": "https://localhost:8080/"
        },
        "id": "wT666yQI7mJs",
        "outputId": "60cd2366-775a-45e8-dbba-5030d5896eec"
      },
      "execution_count": null,
      "outputs": [
        {
          "output_type": "execute_result",
          "data": {
            "text/plain": [
              "array([[0., 0., 0.],\n",
              "       [0., 0., 0.],\n",
              "       [0., 0., 0.]])"
            ]
          },
          "metadata": {},
          "execution_count": 88
        }
      ]
    },
    {
      "cell_type": "markdown",
      "source": [
        "<font size=4>Atribuímos à cada coluna de $X$, o respectivo vetor coluna $xi$, $i=0,1,2$."
      ],
      "metadata": {
        "id": "liUhukGTCExs"
      }
    },
    {
      "cell_type": "code",
      "source": [
        "X[:,0]=x0\n",
        "X[:,1]=x1\n",
        "X[:,2]=x2\n",
        "X"
      ],
      "metadata": {
        "colab": {
          "base_uri": "https://localhost:8080/"
        },
        "id": "DnzqNsN3AuR3",
        "outputId": "1976754c-2ed3-42dd-b05e-276b2eb8ea12"
      },
      "execution_count": null,
      "outputs": [
        {
          "output_type": "execute_result",
          "data": {
            "text/plain": [
              "array([[ 1., -1.,  1.],\n",
              "       [ 1.,  0.,  0.],\n",
              "       [ 1.,  2.,  4.]])"
            ]
          },
          "metadata": {},
          "execution_count": 89
        }
      ]
    },
    {
      "cell_type": "markdown",
      "source": [
        "<font size=4>Para encontrar os coeficientes $a_0, a_1, a_2$ do polinômio $p_2(x) = a_0+a_1x+a_2x^2$, multiplicaremos $X^{-1}$ por $y1$, nesta ordem."
      ],
      "metadata": {
        "id": "_FqsEIiFCdZa"
      }
    },
    {
      "cell_type": "code",
      "source": [
        "a = np.linalg.inv(X)@y1"
      ],
      "metadata": {
        "colab": {
          "base_uri": "https://localhost:8080/"
        },
        "id": "2DWQ6YO_Djv_",
        "outputId": "3c0c18c9-e7a8-4cfe-ab86-55f1d3989230"
      },
      "execution_count": null,
      "outputs": [
        {
          "output_type": "execute_result",
          "data": {
            "text/plain": [
              "1.0"
            ]
          },
          "metadata": {},
          "execution_count": 95
        }
      ]
    },
    {
      "cell_type": "markdown",
      "source": [
        "<font size=4>O polinomio é então dado por:"
      ],
      "metadata": {
        "id": "iXuEAGGlDyrx"
      }
    },
    {
      "cell_type": "code",
      "source": [
        "import sympy as sp\n",
        "t = sp.symbols('t')\n",
        "\n",
        "p2 = lambda t: a[0]+a[1]*t+a[2]*t**2\n",
        "p2(t)"
      ],
      "metadata": {
        "colab": {
          "base_uri": "https://localhost:8080/",
          "height": 38
        },
        "id": "mRysUFVa6ZOw",
        "outputId": "6f65d9f6-a44e-449a-9514-00bcab030ca8"
      },
      "execution_count": null,
      "outputs": [
        {
          "output_type": "execute_result",
          "data": {
            "text/plain": [
              "0.666666666666667*t**2 - 2.33333333333333*t + 1.0"
            ],
            "text/latex": "$\\displaystyle 0.666666666666667 t^{2} - 2.33333333333333 t + 1.0$"
          },
          "metadata": {},
          "execution_count": 96
        }
      ]
    },
    {
      "cell_type": "markdown",
      "source": [
        "<font size=4>A seguir, o gráfico dos pontos da tabela e do polinômio interpolador."
      ],
      "metadata": {
        "id": "G1EO_4YQD__W"
      }
    },
    {
      "cell_type": "code",
      "source": [
        "import matplotlib.pyplot as plt\n",
        "s = np.linspace(-1,2,50)\n",
        "plt.plot(s,p2(s))\n",
        "plt.plot(x1,y1,'o')\n",
        "plt.xlabel('$x$');plt.ylabel('$y$')\n",
        "plt.show()"
      ],
      "metadata": {
        "colab": {
          "base_uri": "https://localhost:8080/",
          "height": 449
        },
        "id": "8ib76pFFEO05",
        "outputId": "3788f618-3e5e-4e2d-f977-237cbe654d8a"
      },
      "execution_count": null,
      "outputs": [
        {
          "output_type": "display_data",
          "data": {
            "text/plain": [
              "<Figure size 640x480 with 1 Axes>"
            ],
            "image/png": "[encoded data removed]"
          },
          "metadata": {}
        }
      ]
    },
    {
      "cell_type": "markdown",
      "source": [
        "# EXERCÍCIOS"
      ],
      "metadata": {
        "id": "0DJ48jr8Fasr"
      }
    },
    {
      "cell_type": "markdown",
      "source": [
        "## Questão 01"
      ],
      "metadata": {
        "id": "nzjWJjtmF-BX"
      }
    },
    {
      "cell_type": "markdown",
      "source": [
        "<font size=4>Dada a função $f(x) = 3x^4-2x+5$, com os valores de $f(1)$ e $f(2)$ determinar $p_{1}(1.5)$ e o erro absoluto ao determiná-lo."
      ],
      "metadata": {
        "id": "1T76ovgaFeYW"
      }
    },
    {
      "cell_type": "markdown",
      "source": [
        "## Questão 02"
      ],
      "metadata": {
        "id": "FaqKYBoUGLEN"
      }
    },
    {
      "cell_type": "markdown",
      "source": [
        "<font size=4>Calcule o calor específico aproximado da água a $32{}^\\circ C$, usando os valores da Tabela 01 e um polinômio interpolador de grau um."
      ],
      "metadata": {
        "id": "AMWpzzKXFsrB"
      }
    },
    {
      "cell_type": "markdown",
      "source": [
        "## Questão 03"
      ],
      "metadata": {
        "id": "H6Lk8C8kLrQ0"
      }
    },
    {
      "cell_type": "markdown",
      "source": [
        "<font size=4>Utilizando os valores $\\dfrac{\\pi}{10}$, $\\dfrac{2\\pi}{5}$ e $\\dfrac{4\\pi}{5}$, determine a função quadrática que interpola $f(x) = \\sin^2(x) (x+1)^{-1}$, trabalhando com 8 casas decimais."
      ],
      "metadata": {
        "id": "fvulfe6QFtGG"
      }
    },
    {
      "cell_type": "markdown",
      "source": [
        "## Questão 04"
      ],
      "metadata": {
        "id": "Ueo0KmTNLytp"
      }
    },
    {
      "cell_type": "markdown",
      "source": [
        "<font size=4>Determine o valor de $f(0.8)$ e o erro absoluto ocasionado pela aplicação da interpolação quadrática, no cálculo deste valor, usando os valores da função $f(x) = x^2-5x+6$ avaliados em $0.6$, $0.9$ e $1.1$. Utilizar 5 casas decimais."
      ],
      "metadata": {
        "id": "bhlOnmYJFtqb"
      }
    }
  ]
}