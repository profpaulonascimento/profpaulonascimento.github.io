{
  "nbformat": 4,
  "nbformat_minor": 0,
  "metadata": {
    "colab": {
      "provenance": [],
      "toc_visible": true,
      "authorship_tag": "ABX9TyPTDg1y2/7nLkGZGK6jxc4V"
    },
    "kernelspec": {
      "name": "python3",
      "display_name": "Python 3"
    },
    "language_info": {
      "name": "python"
    }
  },
  "cells": [
    {
      "cell_type": "markdown",
      "source": [
        "<div class=\"logo\">\n",
        "  <a href=\"https://colab.research.google.com/github/profpaulonascimento/gcet059/blob/main/gcet059_quadrados_minimos.ipynb\">\n",
        "    <img src=\"https://colab.research.google.com/assets/colab-badge.svg\" alt=\"Open In Colab\"></a>\n",
        "</div>"
      ],
      "metadata": {
        "id": "wVKcXzc-SQ0_"
      }
    },
    {
      "cell_type": "markdown",
      "source": [
        "# <font color=green>INTRODUÇÃO"
      ],
      "metadata": {
        "id": "T2z-v3-kFdnU"
      }
    },
    {
      "cell_type": "markdown",
      "source": [
        "<font size=4>Vimos, anteriormente, que a interpoladora é uma função que aproxima valores tabelados. Contudo, esta, geralmente não é aconselhável quando se é preciso obter um valor aproximado da função em algum ponto fora do intervalo de\n",
        "tabelamento (extrapolação).\n",
        "\n",
        "<!-- %Os valores tabelados geralmente são resultados de experimentos físicos, pois estes valores poderão conter erros inerentes que, em geral, não são previsíveis. -->\n",
        "\n",
        "<font size=4>Surge, então, a necessidade de se ajustar a esta tabela, uma função que seja uma ''boa aproximação'', considerando determinada propriedade constatada nesta, e que nos permita ``extrapolar'' com certa margem de segurança.\n",
        "\n",
        "<font size=4>Assim, o objetivo deste processo é aproximar uma função $f$ por outra função $g$, escolhida de uma família de funções, em duas situações distintas:\n",
        "\n",
        "\n",
        "<ul>\n",
        "<li> <font size=4>Domínio discreto: quando a função $f$ é dada por uma tabela de valores.</li>\n",
        "<li> <font size=4>Domínio contínuo: quando a função $f$ é dada por sua forma analítica.</li>\n",
        "</ul>"
      ],
      "metadata": {
        "id": "MQnT4nP0FhxE"
      }
    },
    {
      "cell_type": "markdown",
      "source": [
        "# <font color=green>O MÉTODO DOS QUADRADOS MÍNIMOS"
      ],
      "metadata": {
        "id": "rO-5-5d0Jye2"
      }
    },
    {
      "cell_type": "markdown",
      "source": [
        "<font size=4>Considere os $m+1$ pontos $(x_{i}; f(x_{i}))$, com $i$ assumindo valores inteiros entre $0$ e $m$.\n",
        "\n",
        "<font size=4>O **ajuste de curvas** consiste em:\n",
        "* escolhidas $n+1$ funções contínuas $g_j(x)$, definidas no intervalo $(x_{0},x_{m})$, encontrar $n+1$ escalares $\\alpha_j$ tais que a função $g(x) = \\displaystyle\\sum_{j = 0}^{n} \\alpha_j \\cdot g_j(x)$ se aproxime ao máximo de $f(x)$.\n",
        "\n",
        "<font size=4>Este modelo matemático é linear pois os $n+1$ coeficientes $\\alpha_j$, que devem ser determinados, aparecem linearmente, embora as funções $g_j(x)$ possam ser não lineares.\n",
        "\n",
        "<font size=4>Surge, então, a primeira pergunta: Como escolher as funções contínuas $g_j$?\n",
        "\n",
        "<font size=4>Esta escolha pode ser feita observando o gráfico dos pontos tabelados (diagrama de dispersão) ou nos baseando em fundamentos teóricos do experimento que forneceu a tabela.\n",
        "\n",
        "<font size=4>Seja $d_{i} = f(x_{i})-g(x_{i})$ o desvio existente entre as imagens de $f$ e $g$ em $x_{i}$, $i = 0, 1, \\ldots, m$.\n",
        "\n",
        "<font size=4>O **Método dos Quadrados Mínimos** (MQM) consiste em escolher os coeficientes $\\alpha_j$, $j = 0, \\ldots, n$, de tal forma que a soma dos quadrados dos desvios seja mínima, isto é:\n",
        "$$\\displaystyle\\sum_{i = 0}^{m} d_{i}^2 = \\displaystyle\\sum_{i = 0}^{m} [f(x_{i}) - g(x_{i})]^2 \\mbox{ é mínimo}.$$\n",
        "\n",
        "<font size=4>Assim, os coeficientes $\\alpha_j$, $j = 0, 1, 2, \\ldots, n$, que fazem com que $g(x)$ se aproxime ao máximo de $f(x)$, são os que minimizam a função:\n",
        "$$F(\\alpha_{0}, \\ldots, \\alpha_{n})\n",
        "= \\displaystyle\\sum_{i = 0}^{m} [f(x_{i}) - g(x_{i})]^2\n",
        "= \\displaystyle\\sum_{i = 0}^{m} \\left[f(x_{i}) - \\displaystyle\\sum_{j = 0}^{n} \\alpha_j g_j(x_{i})\\right]^2.$$\n",
        "\n",
        "<font size=4>Para isto, é necessário que as $n+1$ derivadas parciais de $F$ de primeira ordem se anulem, ou seja:\n",
        "$$\\dfrac{\\partial F}{\\partial \\alpha_j}(\\alpha_{0}, \\ldots, \\alpha_{n}) = 0, j = 0, \\ldots, n,$$\n",
        "ou seja,\n",
        "$$\\dfrac{\\partial F}{\\partial \\alpha_j}(\\alpha_{0}, \\ldots, \\alpha_j) = 2 \\cdot \\displaystyle\\sum_{i = 0}^{m} \\left[f(x_{i}) - \\displaystyle\\sum_{j = 0}^{n} \\alpha_j g_j(x_{i})\\right] \\cdot \\left[-g_j(x_{i})\\right] = 0,\\ j = 0, 1, 2, \\ldots, n.$$\n",
        "\n",
        "<font size=4>Para entender melhor o que construímos até aqui, observe o exemplo a seguir:"
      ],
      "metadata": {
        "id": "eSgdHV9hJsg8"
      }
    },
    {
      "cell_type": "markdown",
      "source": [
        "## Exemplo"
      ],
      "metadata": {
        "id": "uzvtKxBMK08V"
      }
    },
    {
      "cell_type": "markdown",
      "source": [
        "<font size=4>Vamos apresentar um exemplo em que a escolha do ajuste se baseia na distribuição\n",
        "$$\\{(-2,15), (-1,7), (0, 4), (1,2), (2,3), (3,6)\\}$$\n",
        "e, pela análise gráfica, determinar-se-á a equação polinomial da curva \\(y = g(x)\\) que melhor se ajusta à distribuição será a de uma parábola."
      ],
      "metadata": {
        "id": "HW25cye0LtkC"
      }
    },
    {
      "cell_type": "markdown",
      "source": [
        "### Solução:"
      ],
      "metadata": {
        "id": "bjyhEB47PS-U"
      }
    },
    {
      "cell_type": "code",
      "source": [
        "import matplotlib.pyplot as plt\n",
        "import numpy as np\n",
        "\n",
        "X = np.array([[-2,15], [-1,7], [0, 4], [1,2], [2,3], [3,6]])\n",
        "\n",
        "plt.figure(figsize = (5, 4))\n",
        "plt.scatter(X[:,0],X[:,1],s=7)\n",
        "plt.grid()\n",
        "plt.show();"
      ],
      "metadata": {
        "colab": {
          "base_uri": "https://localhost:8080/",
          "height": 368
        },
        "id": "SHMTg2qOLw55",
        "outputId": "d41a288c-d51c-478f-c35d-b179d2ac0ada"
      },
      "execution_count": 6,
      "outputs": [
        {
          "output_type": "display_data",
          "data": {
            "text/plain": [
              "<Figure size 500x400 with 1 Axes>"
            ],
            "image/png": "[encoded data removed]"
          },
          "metadata": {}
        }
      ]
    },
    {
      "cell_type": "markdown",
      "source": [
        "<font size=4>Uma parábola tem equação $g(x) = \\alpha_{2} x^{2} + \\alpha_{1} x + \\alpha_{0}$.\n",
        "\n",
        "<font size=4>Para cada ponto $(x_{i},y_{i})$ do conjunto, temos os desvios quadráticos dados por:\n",
        "$$F = \\displaystyle\\sum_{i = 0}^{5} \\left[y_{i} - (\\alpha_{2} x_{i}^2 + \\alpha_{1} x_{i} + \\alpha_{0}) \\right]^2 $$\n",
        "\n",
        "<font size=4>Para encontramos os valores de $\\alpha_j, j = 0, 1, 2,$ que minimizam $F$ e consequentemente, aproximam $g$ de $f$, temos que resolver o sistema:\n",
        "$$\\dfrac{\\partial F}{\\partial \\alpha_j} = 0,\\ j = 0, 1, 2.$$\n",
        "\n",
        "<font size=4>Sendo assim,\n",
        "\n",
        "* <font size=4>para $j = 0$\n",
        "$$0 = \\dfrac{\\partial F}{\\partial \\alpha_{0}}\n",
        " = \\displaystyle\\sum_{i = 0}^{5} 2 \\left[y_{i} - (\\alpha_{2} x_{i}^2 + \\alpha_{1} x_{i} + \\alpha_{0}) \\right],\n",
        "$$\n",
        "ou seja,\n",
        "$$\\displaystyle\\sum_{i = 0}^{5} y_{i} = \\alpha_{2} \\displaystyle\\sum_{i = 0}^{5} x_{i}^2 + \\alpha_{1} \\displaystyle\\sum_{i = 0}^{5} x_{i} + \\alpha_{0} \\displaystyle\\sum_{i = 0}^{5} x_{i}^{0}.$$\n",
        "\n",
        "* <font size=4>para $j = 1$\n",
        "$$0 = \\dfrac{\\partial F}{\\partial \\alpha_{1}}\n",
        " = \\displaystyle\\sum_{i = 0}^{5} 2x_{i} \\left[y_{i} - (\\alpha_{2} x_{i}^2 + \\alpha_{1} x_{i} + \\alpha_{0}) \\right],\n",
        "$$\n",
        "ou seja,\n",
        "$$\\displaystyle\\sum_{i = 0}^{5} y_{i}x_{i} = \\alpha_{2} \\displaystyle\\sum_{i = 0}^{5} x_{i}^{3} + \\alpha_{1} \\displaystyle\\sum_{i = 0}^{5} x_{i}^2 + \\alpha_{0} \\displaystyle\\sum_{i = 0}^{5} x_{i}.$$\n",
        "\n",
        "* <font size=4>para $j = 2$\n",
        "$$0 = \\dfrac{\\partial F}{\\partial \\alpha_{2}}\n",
        " = \\displaystyle\\sum_{i = 0}^{5} 2x_{i}^2 \\left[y_{i} - (\\alpha_{2} x_{i}^2 + \\alpha_{1} x_{i} + \\alpha_{0}) \\right],\n",
        "$$\n",
        "ou seja,\n",
        "$$\\displaystyle\\sum_{i = 0}^{5} y_{i}x_{i}^2 = \\alpha_{2} \\displaystyle\\sum_{i = 0}^{5} x_{i}^4 + \\alpha_{1} \\displaystyle\\sum_{i = 0}^{5} x_{i}^{3} + \\alpha_{0} \\displaystyle\\sum_{i = 0}^{5} x_{i}^2;$$\n",
        "\n",
        "<font size=4>Temos, então, um sistema linear com três equações e três incógnitas.\n",
        "\n",
        "<font size=4>Se fizermos $\\alpha = \\begin{bmatrix} \\alpha_{0} & \\alpha_{1} & \\alpha_{2} \\end{bmatrix}^t$,\n",
        "$Y = \\begin{bmatrix}\n",
        "\\displaystyle\\sum_{i=0}^{5} x_{i}^{0} f(x_{i}) &\n",
        "\\displaystyle\\sum_{i=0}^{5} x_{i}^{1} f(x_{i}) &\n",
        "\\displaystyle\\sum_{i=0}^{5} x_{i}^{2} f(x_{i})\n",
        "\\end{bmatrix}^t$ e\n",
        "$$G = \\begin{bmatrix}\n",
        "\\displaystyle\\sum_{i=0}^{5} x_{i}^{0} & \\displaystyle\\sum_{i=0}^{5} x_{i}^{1} & \\displaystyle\\sum_{i=0}^{5} x_{i}^{2} \\\\\n",
        "\\displaystyle\\sum_{i=0}^{5} x_{i}^{1} & \\displaystyle\\sum_{i=0}^{5} x_{i}^{2} & \\displaystyle\\sum_{i=0}^{5} x_{i}^{3} \\\\\n",
        "\\displaystyle\\sum_{i=0}^{5} x_{i}^{2} & \\displaystyle\\sum_{i=0}^{5} x_{i}^{3} & \\displaystyle\\sum_{i=0}^{5} x_{i}^{4}\n",
        "\\end{bmatrix},$$\n",
        "o sistema linear pode ser escrito na forma matricial\n",
        "$$G\\alpha = Y \\implies \\alpha = G^{-1} Y.$$\n",
        "\n",
        "<font size=4>A tabela, montada a seguir, nos ajuda a encontrar a matriz $\\alpha$.\n",
        "\n",
        "<center>\n",
        "\n",
        "| $x_{i}$ | $y_{i}$ | $x_{i}^4$ | $x_{i}^{3}$ | $x_{i}^2$ | $x_{i}^{0}$ | $x_{i}^2y_{i}$ | $x_{i}y_{i}$ |\n",
        "| ---: | ---: | --- | --- | --- | --- | --- | --- |\n",
        "| $-2$ | $15$ |   |   |   |   |   |   |\n",
        "| $-1$ | $ 7$ |   |   |   |   |   |   |\n",
        "| $ 0$ | $ 4$ |   |   |   |   |   |   |\n",
        "| $ 1$ | $ 2$ |   |   |   |   |   |   |\n",
        "| $ 2$ | $ 3$ |   |   |   |   |   |   |\n",
        "| $ 3$ | $ 6$ |   |   |   |   |   |   |\n",
        "\n",
        "</center>"
      ],
      "metadata": {
        "id": "ULj7aAJdK3Mf"
      }
    },
    {
      "cell_type": "markdown",
      "source": [],
      "metadata": {
        "id": "B7slWfWePGjr"
      }
    },
    {
      "cell_type": "code",
      "source": [
        "# Construindo a tabela\n",
        "import pandas as pd\n",
        "\n",
        "tabela = pd.DataFrame()\n",
        "tabela['x_i'] = X[:, 0]\n",
        "tabela['fx_i'] = X[:, 1]\n",
        "tabela['x_i^4'] = X[:, 0]**4\n",
        "tabela['x_i^3'] = X[:, 0]**3\n",
        "tabela['x_i^2'] = X[:, 0]**2\n",
        "tabela['x_i^0'] = X[:, 0]**0\n",
        "tabela['x_i^2fx_i'] = X[:, 0]**2*X[:,1]\n",
        "tabela['x_ifx_i'] = X[:, 0]*X[:,1]\n",
        "\n",
        "nova_linha = {\n",
        "'x_i': '',\n",
        "'fx_i': '',\n",
        "'x_i^4': (X[:, 0]**4).sum(),\n",
        "'x_i^3': (X[:, 0]**3).sum(),\n",
        "'x_i^2': (X[:, 0]**2).sum(),\n",
        "'x_i^0': (X[:, 0]**0).sum(),\n",
        "'x_i^2fx_i': (X[:, 0]**2*X[:,1]).sum(),\n",
        "'x_ifx_i': (X[:, 0]*X[:,1]).sum()\n",
        "}\n",
        "\n",
        "tabela = tabela.append(nova_linha, ignore_index=True)\n",
        "tabela"
      ],
      "metadata": {
        "colab": {
          "base_uri": "https://localhost:8080/",
          "height": 323
        },
        "id": "yJfeh9-CQyPU",
        "outputId": "89480f34-c5c0-471b-d0df-86719570bf72"
      },
      "execution_count": 14,
      "outputs": [
        {
          "output_type": "stream",
          "name": "stderr",
          "text": [
            "<ipython-input-14-a65b48247a89>:25: FutureWarning: The frame.append method is deprecated and will be removed from pandas in a future version. Use pandas.concat instead.\n",
            "  tabela = tabela.append(nova_linha, ignore_index=True)\n"
          ]
        },
        {
          "output_type": "execute_result",
          "data": {
            "text/plain": [
              "  x_i fx_i  x_i^4  x_i^3  x_i^2  x_i^0  x_i^2fx_i  x_ifx_i\n",
              "0  -2   15     16     -8      4      1         60      -30\n",
              "1  -1    7      1     -1      1      1          7       -7\n",
              "2   0    4      0      0      0      1          0        0\n",
              "3   1    2      1      1      1      1          2        2\n",
              "4   2    3     16      8      4      1         12        6\n",
              "5   3    6     81     27      9      1         54       18\n",
              "6             115     27     19      6        135      -11"
            ],
            "text/html": [
              "\n",
              "  <div id=\"df-90e165be-b11d-4fc6-bafe-f1eba208ee95\">\n",
              "    <div class=\"colab-df-container\">\n",
              "      <div>\n",
              "<style scoped>\n",
              "    .dataframe tbody tr th:only-of-type {\n",
              "        vertical-align: middle;\n",
              "    }\n",
              "\n",
              "    .dataframe tbody tr th {\n",
              "        vertical-align: top;\n",
              "    }\n",
              "\n",
              "    .dataframe thead th {\n",
              "        text-align: right;\n",
              "    }\n",
              "</style>\n",
              "<table border=\"1\" class=\"dataframe\">\n",
              "  <thead>\n",
              "    <tr style=\"text-align: right;\">\n",
              "      <th></th>\n",
              "      <th>x_i</th>\n",
              "      <th>fx_i</th>\n",
              "      <th>x_i^4</th>\n",
              "      <th>x_i^3</th>\n",
              "      <th>x_i^2</th>\n",
              "      <th>x_i^0</th>\n",
              "      <th>x_i^2fx_i</th>\n",
              "      <th>x_ifx_i</th>\n",
              "    </tr>\n",
              "  </thead>\n",
              "  <tbody>\n",
              "    <tr>\n",
              "      <th>0</th>\n",
              "      <td>-2</td>\n",
              "      <td>15</td>\n",
              "      <td>16</td>\n",
              "      <td>-8</td>\n",
              "      <td>4</td>\n",
              "      <td>1</td>\n",
              "      <td>60</td>\n",
              "      <td>-30</td>\n",
              "    </tr>\n",
              "    <tr>\n",
              "      <th>1</th>\n",
              "      <td>-1</td>\n",
              "      <td>7</td>\n",
              "      <td>1</td>\n",
              "      <td>-1</td>\n",
              "      <td>1</td>\n",
              "      <td>1</td>\n",
              "      <td>7</td>\n",
              "      <td>-7</td>\n",
              "    </tr>\n",
              "    <tr>\n",
              "      <th>2</th>\n",
              "      <td>0</td>\n",
              "      <td>4</td>\n",
              "      <td>0</td>\n",
              "      <td>0</td>\n",
              "      <td>0</td>\n",
              "      <td>1</td>\n",
              "      <td>0</td>\n",
              "      <td>0</td>\n",
              "    </tr>\n",
              "    <tr>\n",
              "      <th>3</th>\n",
              "      <td>1</td>\n",
              "      <td>2</td>\n",
              "      <td>1</td>\n",
              "      <td>1</td>\n",
              "      <td>1</td>\n",
              "      <td>1</td>\n",
              "      <td>2</td>\n",
              "      <td>2</td>\n",
              "    </tr>\n",
              "    <tr>\n",
              "      <th>4</th>\n",
              "      <td>2</td>\n",
              "      <td>3</td>\n",
              "      <td>16</td>\n",
              "      <td>8</td>\n",
              "      <td>4</td>\n",
              "      <td>1</td>\n",
              "      <td>12</td>\n",
              "      <td>6</td>\n",
              "    </tr>\n",
              "    <tr>\n",
              "      <th>5</th>\n",
              "      <td>3</td>\n",
              "      <td>6</td>\n",
              "      <td>81</td>\n",
              "      <td>27</td>\n",
              "      <td>9</td>\n",
              "      <td>1</td>\n",
              "      <td>54</td>\n",
              "      <td>18</td>\n",
              "    </tr>\n",
              "    <tr>\n",
              "      <th>6</th>\n",
              "      <td></td>\n",
              "      <td></td>\n",
              "      <td>115</td>\n",
              "      <td>27</td>\n",
              "      <td>19</td>\n",
              "      <td>6</td>\n",
              "      <td>135</td>\n",
              "      <td>-11</td>\n",
              "    </tr>\n",
              "  </tbody>\n",
              "</table>\n",
              "</div>\n",
              "      <button class=\"colab-df-convert\" onclick=\"convertToInteractive('df-90e165be-b11d-4fc6-bafe-f1eba208ee95')\"\n",
              "              title=\"Convert this dataframe to an interactive table.\"\n",
              "              style=\"display:none;\">\n",
              "        \n",
              "  <svg xmlns=\"http://www.w3.org/2000/svg\" height=\"24px\"viewBox=\"0 0 24 24\"\n",
              "       width=\"24px\">\n",
              "    <path d=\"M0 0h24v24H0V0z\" fill=\"none\"/>\n",
              "    <path d=\"M18.56 5.44l.94 2.06.94-2.06 2.06-.94-2.06-.94-.94-2.06-.94 2.06-2.06.94zm-11 1L8.5 8.5l.94-2.06 2.06-.94-2.06-.94L8.5 2.5l-.94 2.06-2.06.94zm10 10l.94 2.06.94-2.06 2.06-.94-2.06-.94-.94-2.06-.94 2.06-2.06.94z\"/><path d=\"M17.41 7.96l-1.37-1.37c-.4-.4-.92-.59-1.43-.59-.52 0-1.04.2-1.43.59L10.3 9.45l-7.72 7.72c-.78.78-.78 2.05 0 2.83L4 21.41c.39.39.9.59 1.41.59.51 0 1.02-.2 1.41-.59l7.78-7.78 2.81-2.81c.8-.78.8-2.07 0-2.86zM5.41 20L4 18.59l7.72-7.72 1.47 1.35L5.41 20z\"/>\n",
              "  </svg>\n",
              "      </button>\n",
              "      \n",
              "  <style>\n",
              "    .colab-df-container {\n",
              "      display:flex;\n",
              "      flex-wrap:wrap;\n",
              "      gap: 12px;\n",
              "    }\n",
              "\n",
              "    .colab-df-convert {\n",
              "      background-color: #E8F0FE;\n",
              "      border: none;\n",
              "      border-radius: 50%;\n",
              "      cursor: pointer;\n",
              "      display: none;\n",
              "      fill: #1967D2;\n",
              "      height: 32px;\n",
              "      padding: 0 0 0 0;\n",
              "      width: 32px;\n",
              "    }\n",
              "\n",
              "    .colab-df-convert:hover {\n",
              "      background-color: #E2EBFA;\n",
              "      box-shadow: 0px 1px 2px rgba(60, 64, 67, 0.3), 0px 1px 3px 1px rgba(60, 64, 67, 0.15);\n",
              "      fill: #174EA6;\n",
              "    }\n",
              "\n",
              "    [theme=dark] .colab-df-convert {\n",
              "      background-color: #3B4455;\n",
              "      fill: #D2E3FC;\n",
              "    }\n",
              "\n",
              "    [theme=dark] .colab-df-convert:hover {\n",
              "      background-color: #434B5C;\n",
              "      box-shadow: 0px 1px 3px 1px rgba(0, 0, 0, 0.15);\n",
              "      filter: drop-shadow(0px 1px 2px rgba(0, 0, 0, 0.3));\n",
              "      fill: #FFFFFF;\n",
              "    }\n",
              "  </style>\n",
              "\n",
              "      <script>\n",
              "        const buttonEl =\n",
              "          document.querySelector('#df-90e165be-b11d-4fc6-bafe-f1eba208ee95 button.colab-df-convert');\n",
              "        buttonEl.style.display =\n",
              "          google.colab.kernel.accessAllowed ? 'block' : 'none';\n",
              "\n",
              "        async function convertToInteractive(key) {\n",
              "          const element = document.querySelector('#df-90e165be-b11d-4fc6-bafe-f1eba208ee95');\n",
              "          const dataTable =\n",
              "            await google.colab.kernel.invokeFunction('convertToInteractive',\n",
              "                                                     [key], {});\n",
              "          if (!dataTable) return;\n",
              "\n",
              "          const docLinkHtml = 'Like what you see? Visit the ' +\n",
              "            '<a target=\"_blank\" href=https://colab.research.google.com/notebooks/data_table.ipynb>data table notebook</a>'\n",
              "            + ' to learn more about interactive tables.';\n",
              "          element.innerHTML = '';\n",
              "          dataTable['output_type'] = 'display_data';\n",
              "          await google.colab.output.renderOutput(dataTable, element);\n",
              "          const docLink = document.createElement('div');\n",
              "          docLink.innerHTML = docLinkHtml;\n",
              "          element.appendChild(docLink);\n",
              "        }\n",
              "      </script>\n",
              "    </div>\n",
              "  </div>\n",
              "  "
            ]
          },
          "metadata": {},
          "execution_count": 14
        }
      ]
    },
    {
      "cell_type": "markdown",
      "source": [
        "Façamos $Y = \\begin{bmatrix} 37 & -11 & 135 \\end{bmatrix}^t$, $\\alpha = \\begin{bmatrix} \\alpha_{0} & \\alpha_{1} & \\alpha_{2}\\end{bmatrix}^t$ e \n",
        "$$G = \\left[\\begin{array}{rrr}\n",
        "6 & 3 & 19 \\\\\n",
        "3 & 19 & 27 \\\\\n",
        "19 & 27 & 115\n",
        "\\end{array}\\right]$$\n",
        "\n",
        "Então, a solução do sistema $G\\ \\alpha = Y$ é:\n",
        "$$\\alpha = G^{-1}Y = \\begin{bmatrix} 1.26785714 & -2.95357143 & 3.62857143\\end{bmatrix}^t.$$"
      ],
      "metadata": {
        "id": "h0SOcPSQPC5i"
      }
    },
    {
      "cell_type": "code",
      "source": [
        "# Solução do sistema\n",
        "\n",
        "Y = np.array([[37],[-11],[135]])\n",
        "G = np.array([\n",
        "    [(X[:,0]**0).sum(), (X[:,0]**1).sum(), (X[:,0]**2).sum()],\n",
        "    [(X[:,0]**1).sum(), (X[:,0]**2).sum(), (X[:,0]**3).sum()],\n",
        "    [(X[:,0]**2).sum(), (X[:,0]**3).sum(), (X[:,0]**4).sum()]\n",
        "    ])\n",
        "\n",
        "alpha = np.linalg.inv(G)@Y\n",
        "alpha"
      ],
      "metadata": {
        "colab": {
          "base_uri": "https://localhost:8080/"
        },
        "id": "qkFV0ka2aFuQ",
        "outputId": "4c4c0926-ad15-4fdb-810d-16e59afc9c07"
      },
      "execution_count": 16,
      "outputs": [
        {
          "output_type": "execute_result",
          "data": {
            "text/plain": [
              "array([[ 3.62857143],\n",
              "       [-2.95357143],\n",
              "       [ 1.26785714]])"
            ]
          },
          "metadata": {},
          "execution_count": 16
        }
      ]
    },
    {
      "cell_type": "markdown",
      "source": [
        "Com os valores dos dos coeficientes $\\alpha$, obtemos a solução dos quadrados mínimos:\n",
        "$$p_2(x) = \\alpha_2 x^2 + \\alpha_1 x + \\alpha_0.$$\n",
        "\n",
        "Observe o gráfico do polinômio e os pontos da distribuição"
      ],
      "metadata": {
        "id": "BhSu3bZUaBFY"
      }
    },
    {
      "cell_type": "code",
      "source": [
        "import matplotlib.pyplot as plt\n",
        "import numpy as np\n",
        "\n",
        "X = np.array([[-2,15], [-1,7], [0, 4], [1,2], [2,3], [3,6]])\n",
        "x = np.linspace(-2,3,100)\n",
        "p2 = lambda x: alpha[2]*x**2+alpha[1]*x+alpha[0]\n",
        "\n",
        "plt.figure(figsize = (5, 4))\n",
        "plt.scatter(X[:,0],X[:,1])\n",
        "plt.plot(x,p2(x))\n",
        "plt.grid()\n",
        "plt.show()"
      ],
      "metadata": {
        "colab": {
          "base_uri": "https://localhost:8080/",
          "height": 368
        },
        "id": "a89RdlD4flnA",
        "outputId": "ee42c49c-f840-4c4b-8ae3-75e3f22acc18"
      },
      "execution_count": 18,
      "outputs": [
        {
          "output_type": "display_data",
          "data": {
            "text/plain": [
              "<Figure size 500x400 with 1 Axes>"
            ],
            "image/png": "[encoded data removed]"
          },
          "metadata": {}
        }
      ]
    },
    {
      "cell_type": "markdown",
      "source": [
        "# <font color=green>AJUSTE LINEAR"
      ],
      "metadata": {
        "id": "f-1R9cj-rAbF"
      }
    },
    {
      "cell_type": "markdown",
      "source": [
        "<font size=4>Dada uma distribuição com $m+1$ pontos $(x_{i}, f(x_{i}))$, $i = 0, 1, 2, \\ldots, m$ e as $n+1$ funções $g_j(x)$, $j = 0, 1, 2, \\ldots, n$, escolhidas de alguma forma, o que queremos encontrar é a reta que melhor se ajusta a estes pontos, no sentido dos quadrados mínimos.\n",
        "\n",
        "<font size=4>Como o ajuste será feito por uma reta, tomaremos $g_{0}(x) = x^{0} = 1$ e $g_{1}(x) = x$, isto é $f(x) \\approx g(x) = \\alpha_{0} + \\alpha_{1} x$.\n",
        "\n",
        "<font size=4>O resíduo para cada par $(\\alpha_{0}, \\alpha_{1})$ e para cada $x$ será\n",
        "$$r(\\alpha_{0}, \\alpha_{1}; f(x)) = f(x) - \\alpha_{0} - \\alpha_{1} x.$$\n",
        "\n",
        "<font size=4>Assim, pelo método dos quadrados mínimos, devemos encontrar os valores de $\\alpha_{0}$ e de $\\alpha_{1}$ que minimizam a função:\n",
        "$$F(\\alpha_{0}, \\alpha_{1}) = \\displaystyle\\sum_{i=0}^{m} [f(x_{i}) - \\alpha_{0} - \\alpha_{1} x_{i}]^{2}.$$\n",
        "\n",
        "<font size=4>Do Cálculo Diferencial, sabemos que a condição necessária para encontrar pontos críticos de funções diferenciáveis é que suas derivadas parciais se anulem, isto é,\n",
        "$$\\begin{array}{rcl}\n",
        "\\left\\{\\begin{array}{rcl}\n",
        "\\dfrac{\\partial}{\\partial \\alpha_{0}} F(\\alpha_{0}, \\alpha_{1}) &=& 0 \\\\\n",
        "\\dfrac{\\partial}{\\partial \\alpha_{1}} F(\\alpha_{0}, \\alpha_{1}) &=& 0\n",
        "\\end{array}\\right.\n",
        "&\\implies&\n",
        "\\left\\{\\begin{array}{rcl}\n",
        "-2 \\displaystyle\\sum_{i=0}^{m} [f(x_{i}) - \\alpha_{0} - \\alpha_{1} x_{i}] &=& 0 \\\\\n",
        "-2 \\displaystyle\\sum_{i=0}^{m} [f(x_{i}) - \\alpha_{0} - \\alpha_{1} x_{i}] x_{i} &=& 0\n",
        "\\end{array}\\right. \\\\[1.3cm]\n",
        "&\\implies&\n",
        "\\left\\{\\begin{array}{rcl}\n",
        "\\displaystyle\\sum_{i=0}^{m} f(x_{i}) - \\displaystyle\\sum_{i=0}^{m} \\alpha_{0} - \\displaystyle\\sum_{i=0}^{m} \\alpha_{1} x_{i} &=& 0 \\\\\n",
        "\\displaystyle\\sum_{i=0}^{m} f(x_{i}) x_{i} - \\displaystyle\\sum_{i=0}^{m} \\alpha_{0} x_{i} - \\displaystyle\\sum_{i=0}^{m} \\alpha_{1} x_{i}^{2} &=& 0\n",
        "\\end{array}\\right. \\\\[1.3cm]\n",
        "&\\implies&\n",
        "\\left\\{\\begin{array}{rcl}\n",
        "(m+1) \\alpha_{0} + \\alpha_{1} \\displaystyle\\sum_{i=0}^{m} x_{i} &=& \\displaystyle\\sum_{i=0}^{m} f(x_{i}) \\\\\n",
        "\\alpha_{0} \\displaystyle\\sum_{i=0}^{m} x_{i} + \\alpha_{1} \\displaystyle\\sum_{i=0}^{m} x_{i}^{2} &=& \\displaystyle\\sum_{i=0}^{m} f(x_{i}) x_{i}\n",
        "\\end{array}\\right.\n",
        "\\end{array}$$\n",
        "\n",
        "<font size=4>Assim, a solução do sistema de equações lineares é:\n",
        "$$\\begin{array}{rclcrcl}\n",
        "\\alpha_{1}\n",
        "&=& \\dfrac{(m+1) \\displaystyle\\sum_{i=0}^{m} f(x_{i}) x_{i}- \\displaystyle\\sum_{i=0}^{m} x_{i} \\displaystyle\\sum_{i=0}^{m} f(x_{i})}{(m+1) \\displaystyle\\sum_{i=0}^{m} x_{i}^{2} - \\left(\\displaystyle\\sum_{i=0}^{m} x_{i}\\right)^{2}}\n",
        "& \\mbox{ e } &\n",
        "\\alpha_{0}\n",
        "&=&\n",
        "\\dfrac{\\displaystyle\\sum_{i=0}^{m} f(x_{i}) - \\left(\\displaystyle\\sum_{i=0}^{m} x_{i}\\right) \\alpha_{1}}{m+1}\n",
        "\\end{array}$$\n",
        "e, com esses valores, o resíduo apresenta o seu menor valor.\n",
        "\n",
        "<font size=4>O método de encontrar a reta que minimiza o quadrado da distância aos pontos de uma distribuição é conhecido como regressão linear.\n",
        "\n",
        "<font size=4>O exemplo a seguir apresenta um modo prático de calcular esses coeficientes"
      ],
      "metadata": {
        "id": "JtEitvf_Z83E"
      }
    },
    {
      "cell_type": "markdown",
      "source": [
        "## Exemplo"
      ],
      "metadata": {
        "id": "iENMsX7Qrp-d"
      }
    },
    {
      "cell_type": "markdown",
      "source": [
        "Ajustar, por uma reta, os dados da distribuição $(1.3,2.0)$, $(2.4, 3.5)$, $(3.3, 2.7)$, $(4.1, 3.7)$, $(5.3,7.1)$ e $(6.2,2.2)$, de modo que o resíduo seja a menor possível."
      ],
      "metadata": {
        "id": "lOLII1TRrs_q"
      }
    },
    {
      "cell_type": "markdown",
      "source": [
        "### Solução:"
      ],
      "metadata": {
        "id": "saUFFxElOpVK"
      }
    },
    {
      "cell_type": "markdown",
      "source": [
        "Vamos iniciamente criar a distribuição $X$ utilizando o numpy"
      ],
      "metadata": {
        "id": "GQpKwrLFshw3"
      }
    },
    {
      "cell_type": "code",
      "source": [
        "import numpy as np\n",
        "\n",
        "X = np.array([\n",
        "    [1.3,2.0],\n",
        "    [2.4,3.5],\n",
        "    [3.3,2.7],\n",
        "    [5.3,7.1],\n",
        "    [6.2,2.2]])\n",
        "\n",
        "X"
      ],
      "metadata": {
        "colab": {
          "base_uri": "https://localhost:8080/"
        },
        "id": "_kirURFtr2iV",
        "outputId": "6aac47e4-d851-40f1-c8ac-571d0253c95d"
      },
      "execution_count": null,
      "outputs": [
        {
          "output_type": "execute_result",
          "data": {
            "text/plain": [
              "array([[1.3, 2. ],\n",
              "       [2.4, 3.5],\n",
              "       [3.3, 2.7],\n",
              "       [5.3, 7.1],\n",
              "       [6.2, 2.2]])"
            ]
          },
          "metadata": {},
          "execution_count": 56
        }
      ]
    },
    {
      "cell_type": "code",
      "source": [
        "Y = np.array([\n",
        "    [(X[:,0]**0*X[:,1]).sum()],\n",
        "    [(X[:,0]**1*X[:,1]).sum()],\n",
        "])\n",
        "\n",
        "G = np.array([\n",
        "    [(X[:,0]**0).sum(), (X[:,0]**1).sum()],\n",
        "    [(X[:,0]**1).sum(), (X[:,0]**2).sum()]\n",
        "])\n",
        "\n",
        "Y.shape"
      ],
      "metadata": {
        "colab": {
          "base_uri": "https://localhost:8080/"
        },
        "id": "yl1S09sfs0Rn",
        "outputId": "3e2d51c4-573e-4f26-887e-df9c276a5813"
      },
      "execution_count": null,
      "outputs": [
        {
          "output_type": "execute_result",
          "data": {
            "text/plain": [
              "(2, 1)"
            ]
          },
          "metadata": {},
          "execution_count": 62
        }
      ]
    },
    {
      "cell_type": "code",
      "source": [
        "alpha = np.linalg.inv(G)@Y\n",
        "alpha"
      ],
      "metadata": {
        "colab": {
          "base_uri": "https://localhost:8080/"
        },
        "id": "Yhryggzxuude",
        "outputId": "fbddbd5d-6675-4102-953b-16f5a2d322f5"
      },
      "execution_count": null,
      "outputs": [
        {
          "output_type": "execute_result",
          "data": {
            "text/plain": [
              "array([[2.05109622],\n",
              "       [0.39159562]])"
            ]
          },
          "metadata": {},
          "execution_count": 64
        }
      ]
    },
    {
      "cell_type": "code",
      "source": [
        "import matplotlib.pyplot as plt\n",
        "\n",
        "plt.scatter(X[:,0],X[:,1])\n",
        "\n",
        "x = np.linspace(1,7,100)\n",
        "p1 = lambda x: alpha[1]*x+alpha[0]\n",
        "plt.plot(x,p1(x))\n",
        "\n",
        "plt.show()"
      ],
      "metadata": {
        "colab": {
          "base_uri": "https://localhost:8080/",
          "height": 430
        },
        "id": "w_tHAvB4u25b",
        "outputId": "1e09d59a-95fd-4530-8bb3-579daa54b6ec"
      },
      "execution_count": null,
      "outputs": [
        {
          "output_type": "display_data",
          "data": {
            "text/plain": [
              "<Figure size 640x480 with 1 Axes>"
            ],
            "image/png": "[encoded data removed]"
          },
          "metadata": {}
        }
      ]
    },
    {
      "cell_type": "markdown",
      "source": [
        "# <font color=green>AJUSTE POLINOMIAL"
      ],
      "metadata": {
        "id": "8If6yjRKDVHz"
      }
    },
    {
      "cell_type": "markdown",
      "source": [
        "No ajuste por um polinômio:\n",
        "\\begin{equation}\n",
        "g(x) = \\alpha_{0} + \\alpha_{1} x + \\alpha_{2} x^{2} + \\ldots + \\alpha_{n} x^{n}\n",
        "\\end{equation}\n",
        "as equações normais são:\n",
        "\n",
        "\\begin{equation}\\newcommand{\\arraystretch}{2.0}\n",
        "\\begin{bmatrix}\n",
        "m+1                        & \\sum\\limits_{i=0}^{m} x_{i} & \\sum\\limits_{i=0}^{m} x_{i}^{2} & \\cdots & \\sum\\limits_{i=0}^{m} x_{i}^{n} \\\\\n",
        "\\sum\\limits_{i=0}^{m} x_{i} & \\sum\\limits_{i=0}^{m} x_{i}^{2} & \\sum\\limits_{i=0}^{m} x_{i}^{3} & \\cdots & \\sum\\limits_{i=0}^{m} x_{i}^{n+1} \\\\\n",
        "\\sum\\limits_{i=0}^{m} x_{i}^{2} & \\sum\\limits_{i=0}^{m} x_{i}^{3} & \\sum\\limits_{i=0}^{m} x_{i}^{4} & \\cdots & \\sum\\limits_{i=0}^{m} x_{i}^{n+2} \\\\\n",
        "\\vdots & \\vdots & \\vdots & \\ddots & \\vdots \\\\\n",
        "\\sum\\limits_{i=0}^{m} x_{i}^{n} & \\sum\\limits_{i=0}^{m} x_{i}^{n+1} & \\sum\\limits_{i=0}^{m} x_{i}^{n+2} & \\cdots & \\sum\\limits_{i=0}^{m} x_{i}^{2n}\n",
        "\\end{bmatrix}\n",
        "\\begin{bmatrix}\n",
        "\\alpha_{0} \\\\[0.5cm]\n",
        "\\alpha_{1} \\\\[0.5cm]\n",
        "\\alpha_{2} \\\\[0.5cm]\n",
        "\\vdots \\\\[0.5cm]\n",
        "\\alpha_{n}\n",
        "\\end{bmatrix}\n",
        "=\n",
        "\\begin{bmatrix}\n",
        "\\sum\\limits_{i=0}^{m} f(x_{i}) \\\\\n",
        "\\sum\\limits_{i=0}^{m} x_{i} f(x_{i}) \\\\\n",
        "\\sum\\limits_{i=0}^{m} x_{i}^{2} f(x_{i}) \\\\\n",
        "\\vdots \\\\\n",
        "\\sum\\limits_{i=0}^{m} x_{i}^{n} f(x_{i})\n",
        "\\end{bmatrix}\n",
        "\\end{equation}"
      ],
      "metadata": {
        "id": "O_xotlARDclT"
      }
    },
    {
      "cell_type": "markdown",
      "source": [
        "## Exemplo"
      ],
      "metadata": {
        "id": "qJaHH9x1Dp-N"
      }
    },
    {
      "cell_type": "markdown",
      "source": [
        "Ajuste os pontos\n",
        "$(-2,-20.5)$,\n",
        "$(-1.5,-12.8)$,\n",
        "$(0.1,-2.7)$,\n",
        "$(1.2,3.7)$,\n",
        "$(2.6,8.1)$ e\n",
        "$(3.4,12.2)$\n",
        "a um polinômio de grau três e determine a soma dos quadrados dos resíduos. Esboce, no mesmo sistema, o gráfico do polinômio e os pontos."
      ],
      "metadata": {
        "id": "-W20GIp9ElHw"
      }
    },
    {
      "cell_type": "markdown",
      "source": [
        "### Solução:"
      ],
      "metadata": {
        "id": "WMp1kpTyF5bK"
      }
    },
    {
      "cell_type": "markdown",
      "source": [
        "O polinômio é escrito como\n",
        "$$p_3(x) = \\alpha_{3}x^{3} + \\alpha_{2} x^{2} + \\alpha_{1} x^{1}  \\alpha_{0} x^{0}$$\n",
        "\n",
        "Executaremos os codigos a seguir para determinar o que se pede"
      ],
      "metadata": {
        "id": "quo21j83F9OG"
      }
    },
    {
      "cell_type": "code",
      "source": [
        "import numpy as np\n",
        "import sympy as sp\n",
        "\n",
        "x = sp.symbols('x')\n",
        "\n",
        "X = np.array([\n",
        "    [-2.0,-20.5],\n",
        "    [-1.5,-12.8],\n",
        "    [0.10,-2.70],\n",
        "    [1.20,3.700],\n",
        "    [2.60,8.100],\n",
        "    [3.40,12.20]\n",
        "    ])\n",
        "\n",
        "X"
      ],
      "metadata": {
        "colab": {
          "base_uri": "https://localhost:8080/"
        },
        "id": "WheXWyACEkbU",
        "outputId": "2f1a6245-4884-4304-92a3-7a3ae92ac60b"
      },
      "execution_count": 20,
      "outputs": [
        {
          "output_type": "execute_result",
          "data": {
            "text/plain": [
              "array([[ -2. , -20.5],\n",
              "       [ -1.5, -12.8],\n",
              "       [  0.1,  -2.7],\n",
              "       [  1.2,   3.7],\n",
              "       [  2.6,   8.1],\n",
              "       [  3.4,  12.2]])"
            ]
          },
          "metadata": {},
          "execution_count": 20
        }
      ]
    },
    {
      "cell_type": "code",
      "source": [
        "Y = np.array([\n",
        "    [(X[:,0]**0*X[:,1]).sum()],\n",
        "    [(X[:,0]**1*X[:,1]).sum()],\n",
        "    [(X[:,0]**2*X[:,1]).sum()],\n",
        "    [(X[:,0]**3*X[:,1]).sum()],\n",
        "])\n",
        "\n",
        "G = np.array([\n",
        "    [(X[:,0]**0).sum(), (X[:,0]**1).sum(), (X[:,0]**2).sum(), (X[:,0]**3).sum()],\n",
        "    [(X[:,0]**1).sum(), (X[:,0]**2).sum(), (X[:,0]**3).sum(), (X[:,0]**4).sum()],\n",
        "    [(X[:,0]**2).sum(), (X[:,0]**3).sum(), (X[:,0]**4).sum(), (X[:,0]**5).sum()],\n",
        "    [(X[:,0]**3).sum(), (X[:,0]**4).sum(), (X[:,0]**5).sum(), (X[:,0]**6).sum()],\n",
        "])"
      ],
      "metadata": {
        "id": "6X3OqhppDpbO"
      },
      "execution_count": 21,
      "outputs": []
    },
    {
      "cell_type": "code",
      "source": [
        "alpha = np.linalg.inv(G)@Y\n",
        "alpha"
      ],
      "metadata": {
        "colab": {
          "base_uri": "https://localhost:8080/"
        },
        "id": "J_b67BpHHkj8",
        "outputId": "f7641a0c-1bb9-4ec6-da9d-7f46c81bd8f7"
      },
      "execution_count": 22,
      "outputs": [
        {
          "output_type": "execute_result",
          "data": {
            "text/plain": [
              "array([[-2.20765981],\n",
              "       [ 5.43525756],\n",
              "       [-1.19853176],\n",
              "       [ 0.24934955]])"
            ]
          },
          "metadata": {},
          "execution_count": 22
        }
      ]
    },
    {
      "cell_type": "code",
      "source": [
        "def pn(n):\n",
        "    return sum(alpha[n]*x**n for n in range(n+1))"
      ],
      "metadata": {
        "id": "yyEmzvqkHyB3"
      },
      "execution_count": 23,
      "outputs": []
    },
    {
      "cell_type": "code",
      "source": [
        "pn(3)[0]"
      ],
      "metadata": {
        "colab": {
          "base_uri": "https://localhost:8080/",
          "height": 39
        },
        "id": "kb2_S9aVIoUW",
        "outputId": "71eb457d-f798-49a3-9b94-48a6902434c0"
      },
      "execution_count": 24,
      "outputs": [
        {
          "output_type": "execute_result",
          "data": {
            "text/plain": [
              "0.249349548947733*x**3 - 1.19853176339207*x**2 + 5.43525755996951*x - 2.20765980656988"
            ],
            "text/latex": "$\\displaystyle 0.249349548947733 x^{3} - 1.19853176339207 x^{2} + 5.43525755996951 x - 2.20765980656988$"
          },
          "metadata": {},
          "execution_count": 24
        }
      ]
    },
    {
      "cell_type": "code",
      "source": [
        "import matplotlib.pyplot as plt\n",
        "\n",
        "\n",
        "x = np.linspace(-3,4,100)\n",
        "p3 = lambda x: 0.249349548947733*x**3-1.19853176339207*x**2+5.43525755996951*x-2.20765980656988\n",
        "\n",
        "plt.figure(figsize=(5,4))\n",
        "plt.grid()\n",
        "plt.scatter(X[:,0],X[:,1],s=7)\n",
        "plt.plot(x,p3(x))\n",
        "\n",
        "plt.show()"
      ],
      "metadata": {
        "colab": {
          "base_uri": "https://localhost:8080/",
          "height": 368
        },
        "id": "MlZLW6CIHvYc",
        "outputId": "8632bd8b-8860-41a5-ae43-b07fac76fe74"
      },
      "execution_count": 27,
      "outputs": [
        {
          "output_type": "display_data",
          "data": {
            "text/plain": [
              "<Figure size 500x400 with 1 Axes>"
            ],
            "image/png": "[encoded data removed]"
          },
          "metadata": {}
        }
      ]
    },
    {
      "cell_type": "markdown",
      "source": [
        "# <font color=green>AJUSTE PARA O CASO CONTÍNUO"
      ],
      "metadata": {
        "id": "RtoR32LeOwr-"
      }
    },
    {
      "cell_type": "markdown",
      "source": [
        "Neste caso, teremos que aproximar a função $f: [a,b] \\to \\mathbb{R}$ por outra $g: [a,b] \\to \\mathbb{R}$ que minimize o desvio\n",
        "$$\\displaystyle\\int_{a}^{b} (f(x) - g(x))^{2}\\ dx.$$"
      ],
      "metadata": {
        "id": "27zPleCjOyDp"
      }
    },
    {
      "cell_type": "markdown",
      "source": [
        "## Exemplo"
      ],
      "metadata": {
        "id": "PFVYlcSrPMn7"
      }
    },
    {
      "cell_type": "markdown",
      "source": [
        "Determine a função afim que se aproxima da função $f(x) = 2x^{3}-x+3$, no intervalo $[0,1]$."
      ],
      "metadata": {
        "id": "XaqeYzY7PPRW"
      }
    },
    {
      "cell_type": "markdown",
      "source": [
        "### Solução:"
      ],
      "metadata": {
        "id": "vMX_dBtVPXP3"
      }
    },
    {
      "cell_type": "markdown",
      "source": [
        "<font size=4>Queremos minimizar a função:\n",
        "$$\\begin{array}{rcl}\n",
        "F(a,b)\n",
        "& = & \\displaystyle\\int_{0}^{1} [2x^{3}-x+3 - (ax+b)]^{2} \\\\\n",
        "& = & \\displaystyle\\int_{0}^{1} [2x^{3}-(1+a)x+(3-b)]^{2} \\\\\n",
        "& = & \\displaystyle\\int_{0}^{1} [2x^{3}-(1+a)x+(3-b)]^{2} \\\\\n",
        "& = & \\displaystyle\\int_{0}^{1} 8x^6-4(1+a)x^4+4(3-b)x^{3}+(1+a)^{2}x^{2}-2(1+a)(3-b)x+(3-b)^{2} \\\\\n",
        "& = & \\dfrac{8}{7}x^7-\\dfrac{4(1+a)}{5}x^5+(3-b)x^4+\\dfrac{(1+a)^{2}}{3}x^{3}-(1+a)(3-b)x^{2}+(3-b)^2x\\Big|_{0}^{1} \\\\\n",
        "& = & \\dfrac{8}{7}-\\dfrac{4(1+a)}{5}+(3-b)+\\dfrac{(1+a)^2}{3}-(1+a)(3-b)+(3-b)^2\n",
        "\\end{array}$$\n",
        "\n",
        "<font size=4>Analogamente ao caso discreto, devemos anular as derivadas com respeito aos coeficientes da função de ajuste $g$.\n",
        "\n",
        "<font size=4>Assim,\n",
        "$$0\n",
        " = \\dfrac{\\partial F}{\\partial a}\n",
        " = \\dfrac{-4}{5}+\\dfrac{2}{3} (1+a)-(3-b)\n",
        "\\Rightarrow 47 = 10a+15b.$$\n",
        "\n",
        "<font size=4>$$0 = \\dfrac{\\partial F}{\\partial b}\n",
        " = -1+(1+a)-2(3-b)\n",
        "\\Rightarrow 6 = a+2b$$\n",
        "Portanto, $a = \\dfrac{4}{5}$ e $b = \\dfrac{13}{5}$."
      ],
      "metadata": {
        "id": "pWJ63IGEPZSi"
      }
    },
    {
      "cell_type": "markdown",
      "source": [
        "<font size=4>A seguir o esboço do gráfico das funções $f$ e $g$."
      ],
      "metadata": {
        "id": "S0pada0nP6dU"
      }
    },
    {
      "cell_type": "code",
      "source": [
        "import matplotlib.pyplot as plt\n",
        "import numpy as np\n",
        "\n",
        "x = np.linspace(-2,2,500)\n",
        "\n",
        "\n",
        "f = lambda x: 2*x**3-x+3\n",
        "g = lambda x: 4/5*x+13/5\n",
        "\n",
        "plt.figure(figsize = (5,4))\n",
        "plt.grid()\n",
        "plt.plot(x,f(x))\n",
        "plt.plot(x,g(x))\n",
        "\n",
        "plt.show()"
      ],
      "metadata": {
        "colab": {
          "base_uri": "https://localhost:8080/",
          "height": 368
        },
        "id": "kAaYZXQIPL8G",
        "outputId": "523681fe-90a5-45de-ffa9-5af6b997c094"
      },
      "execution_count": 29,
      "outputs": [
        {
          "output_type": "display_data",
          "data": {
            "text/plain": [
              "<Figure size 500x400 with 1 Axes>"
            ],
            "image/png": "[encoded data removed]"
          },
          "metadata": {}
        }
      ]
    },
    {
      "cell_type": "markdown",
      "source": [
        "<font size=4>A aproximação pelo MQM fica cada vez mais trabalhoso à medida que aumentamos o número de coeficientes a determinar na função de ajuste. Esta função pode ser usada em problemas para obter aproximações em valores fora do intervalo considerado."
      ],
      "metadata": {
        "id": "c2Woa14jRP1G"
      }
    },
    {
      "cell_type": "markdown",
      "source": [
        "# <font color=green>EXERCÍCIOS"
      ],
      "metadata": {
        "id": "7T3xds4sRRb9"
      }
    },
    {
      "cell_type": "markdown",
      "source": [
        "#### Questão 01"
      ],
      "metadata": {
        "id": "RkPHTELLRVlE"
      }
    },
    {
      "cell_type": "markdown",
      "source": [
        "<font size=4>Use o método dos quadrados mínimos, de maneira conveniente, para obter uma aproximação da função $f$ dada por $f(0) = 1$; $f(1) = 2$; $f(2) = 5 $ e $f(3) = 7$:\n",
        "\n",
        "<font size=4>(a) por uma função afim;\n",
        "\n",
        "<font size=4>(b) por uma função quadrática."
      ],
      "metadata": {
        "id": "XEghZJoiRkrm"
      }
    },
    {
      "cell_type": "markdown",
      "source": [
        "#### Questão 02"
      ],
      "metadata": {
        "id": "wFQA3hxtTDP3"
      }
    },
    {
      "cell_type": "markdown",
      "source": [
        "<font size=4>Um objeto foi lançado verticalmente do alto de um prédio. Sua altura $h $ (em metros) foi registrada a cada segundo, após o lançamento, e os dados obtidos encontram-se dados pela função $h(1) = 192$; $h(2) = 180$; $h(3) = 150$; $h(4) = 115$ e $h(5) = 72$.\n",
        "\n",
        "<font size=4>Utilize o método dos mínimos quadrados para estimar a altura do prédio h, a velocidade inicial\n",
        "de lançamento $v_{0} $ e o valor da aceleração da gravidade $g$."
      ],
      "metadata": {
        "id": "fOjKjpjtTHCW"
      }
    },
    {
      "cell_type": "markdown",
      "source": [
        "#### Questão 03"
      ],
      "metadata": {
        "id": "A1cc87ECTPQf"
      }
    },
    {
      "cell_type": "markdown",
      "source": [
        "<font size=4>Determine os coeficientes $a$; $b $ e $c $ de maneira a tornar mínimo o valor da integral\n",
        "\n",
        "<font size=4>(a) $\\displaystyle\\int_{-\\pi}^{\\pi} \\left[\\cos(x) - (a+bx+cx^{2})\\right]^2\\ dx$;\n",
        "\n",
        "<font size=4>(b) $\\displaystyle\\int_{0}^{1} \\left[(a + bx + c \\cos(2\\pi x) - \\sin(2\\pi x)\\right]^2\\ dx$."
      ],
      "metadata": {
        "id": "QMzb-jGfTRt6"
      }
    },
    {
      "cell_type": "markdown",
      "source": [
        "#### Questão 04"
      ],
      "metadata": {
        "id": "zTqRzJ3nTnwn"
      }
    },
    {
      "cell_type": "markdown",
      "source": [
        "<font size=4>Seja $f(x) = e - |x| $ definida no intervalo $[-e, e]$. Determine o polinômio quadrático que melhor aproxima $f $ no intervalo dado."
      ],
      "metadata": {
        "id": "2uMfMQLOTulB"
      }
    },
    {
      "cell_type": "markdown",
      "source": [
        "#### Questão 05"
      ],
      "metadata": {
        "id": "mZtDuDtQTyaI"
      }
    },
    {
      "cell_type": "markdown",
      "source": [
        "<font size=4>Os preços, em reais, de um fundo imobiliário, registrados durante $6 $ meses consecutivos $(t_{i} = i, i = 1, \\ldots, 6)$; são\n",
        "$$P = \\{11.30,\\ 11.8,\\ 11.2,\\ 11.3,\\ 10,5,\\ 11.1\\}.$$ Desejamos estimar o comportamento dos preços segundo uma função afim $p(t) = \\alpha + \\beta t$; atribuindo maior peso $\\lambda $ às observações mais recentes. Usaremos, na ordem apresentada, os seguintes pesos para os meses de $1 $ a $6$: $\\lambda = \\{0,5,\\ 0,6,\\ 0,7,\\ 0,8,\\ 0,9,\\ 1.0\\}$. Determine: (a) a reta de ajuste de mínimos quadrados $P(t)$; segundo o produto interno $<x,y> = \\displaystyle\\sum_{1}^{6} \\lambda_{i} x_{i}y_{i}$; e a volatilidade da amostra, isto é, o valor $\\sigma $ dado por $\\sigma^2 = \\displaystyle\\sum_{1}^{6} \\lambda_{i} (P_{i} - p(t_{i}))^2$; onde $P_{i} $ são as componentes do vetor $P $ dos preços do ativo financeiro."
      ],
      "metadata": {
        "id": "DOXohbVoT1J1"
      }
    },
    {
      "cell_type": "markdown",
      "source": [
        "#### Questão 06"
      ],
      "metadata": {
        "id": "jtkYktW9T3Wy"
      }
    },
    {
      "cell_type": "markdown",
      "source": [
        "<font size=4>São dadas as funções $u = (-1/2,\\ -1/2,\\ 0,\\ 3/2,\\ 1/2)$; $v = (0,\\ 1,\\ -1,\\ 1,\\ 0)$; $w = (1,\\ 2,\\ 0,\\ 1,\\ 0) $ e $p = (1,\\ 1,\\ 1,\\ 1,\\ 1)$; todas elas definidas nos pontos $x_{i} = i, i = 1, \\ldots, 5$. Desejamos determinar $a$; $b $ e $c $ reais, tal que $||f - p|| $ seja mínimo, onde $f = au + bv + cw $ e $||f - p||^2 = \\displaystyle\\sum_{i = 1}^{5} (f(x_{i}) - p(x_{i}))^2$.\n",
        "\n",
        "<font size=4>(a) Escreva um sistema linear para a resolução deste problema.\n",
        "\n",
        "<font size=4>(b) Verifique se o critério de Sassenfeld para convergência do método de Gauss-Seidel é satisfeito\n",
        "para este sistema.\n",
        "\n",
        "<font size=4>(c) Reordene o sistema (através de uma reordenação dos vetores $u$; $v $ e $w$) de forma a garantir a convergência do método de Gauss-Seidel para este sistema."
      ],
      "metadata": {
        "id": "bHrr88S4T6N8"
      }
    },
    {
      "cell_type": "markdown",
      "source": [
        "#### Questão 07"
      ],
      "metadata": {
        "id": "F4YYy7PUT_T_"
      }
    },
    {
      "cell_type": "markdown",
      "source": [
        "<font size=4>Mediu-se o valor de uma função $f $ nos instantes $0, 1, 2 $ e $3$; obtendo-se respectivamente os valores $0,6$; $4,7$; $40 $ e $365$. Sabendo que $f(x) $ é da forma $f(x) = a\\ 3^{bx}$; utilize o método dos mínimos quadrados para estimar os valores de $a $ e $b$."
      ],
      "metadata": {
        "id": "t_kw310eUE5p"
      }
    },
    {
      "cell_type": "markdown",
      "source": [
        "#### Questão 08"
      ],
      "metadata": {
        "id": "YkhIeG4yUKFU"
      }
    },
    {
      "cell_type": "markdown",
      "source": [
        "<font size=4>Em uma fábrica dispõe-se de 3 máquinas para produção dos produtos $p_{1}, p_{2}, p_3 $ e $p_4$. A máquina $m_{1} $ produz $6 $ toneladas por hora, sendo $3 $ de $p_{1}$; $0 $ de $p_{2}$; $1 $ de $p_3 $ e $2 $ de $p_4$; a máquina $m_{2} $ produz $6 $ toneladas por hora, sendo $2 $ de $p_{1}$; $1 $ de $p_{2}$; $2 $ de $p_3 $ e $1 $ de $p_4$; enquanto que a máquina $m_3 $ produz $5 $ toneladas por hora, sendo $1 $ de $p_{1}$; $3 $ de $p_{2}$; $0 $ de $p_3 $ e $1 $ de $p_4$. A fábrica recebe um pedido de $11 $ toneladas de $p_{1}$; $7,9 $ de $p_{2}$; $6,4 $ de $p_3 $ e $9,3 $ de $p_4$. Determine quantas horas deve ser utilizada cada máquina de maneira que a soma dos quadrados das diferenças entre as quantidades pedidas e produzidas de cada produto seja mínima."
      ],
      "metadata": {
        "id": "75aGhwq3UM4t"
      }
    },
    {
      "cell_type": "markdown",
      "source": [
        "#### Questão 09"
      ],
      "metadata": {
        "id": "3ANGjfrXUQUI"
      }
    },
    {
      "cell_type": "markdown",
      "source": [
        "<font size=4>Aproxime, utilizando MMQ, a função $f$; dada por $f(0) = 10$; $f(1) = 15$; $f(2) = 23$; $f(3) = 33$; $f(4) = 45$; $f(5) = 58$; $f(6) = 69$; pela função $g(t) = \\dfrac{100}{1 + \\alpha e^{-\\beta t}}$."
      ],
      "metadata": {
        "id": "i8A9XesMUQ0b"
      }
    },
    {
      "cell_type": "markdown",
      "source": [
        "#### Questão 10"
      ],
      "metadata": {
        "id": "XbWVz3eyUYQG"
      }
    },
    {
      "cell_type": "markdown",
      "source": [
        "<font size=4>As posições de um cometa (em coordenadas polares convenientes) foram obtidas através da relação\n",
        "$$\\begin{array}{r|rrrrr}\n",
        "\\theta & 48^\\circ & 67^\\circ & 83^\\circ & 108^\\circ & 126^\\circ \\\\ \\hline\n",
        "r & 2,70 & 2,00 & 1.61 & 1.20 & 1.02\n",
        "\\end{array}$$\n",
        "\n",
        "<font size=4>Sabendo que a órbita do cometa é descrita pela lei de Kepler\n",
        "$$r = \\dfrac{\\rho}{1 - e \\cos(\\theta)},$$\n",
        "estime $\\rho $ e $e $ usando o método dos quadrados mínimos ."
      ],
      "metadata": {
        "id": "wqaZgwz2Ubhe"
      }
    },
    {
      "cell_type": "markdown",
      "source": [
        "#### Questão 11"
      ],
      "metadata": {
        "id": "hVoX7XsnUfy5"
      }
    },
    {
      "cell_type": "markdown",
      "source": [
        "<font size=4>Um objeto, arremessado do alto de um edifício, teve registradas as medidas $y(1) = 113$; $y(2) = 92$; $y(3) = 69$; $y(4) = 33 $ e $y(1) = 4$; com $y = y(x)$; em que $y $ representa a altura do objeto (em metros) em uma distância $x $ ao edifício, na direção horizontal.\n",
        "\n",
        "<font size=4>(a) Use o método dos mínimos quadrados para estimar a trajetória (suponha um movimento uniformemente acelerado sob a ação de $g = 10 m/s^2$).\n",
        "\n",
        "<font size=4>(b) Que estimativa se obtém para a altura do edifício e para a velocidade de lançamento do objeto?"
      ],
      "metadata": {
        "id": "-XfgYt4xUlxR"
      }
    },
    {
      "cell_type": "markdown",
      "source": [
        "#### Questão 12"
      ],
      "metadata": {
        "id": "MCmuRMaeUnLu"
      }
    },
    {
      "cell_type": "markdown",
      "source": [
        "<font size=4>Considere a função $f(x) = \\dfrac{x + 1}{x^{2} + 1}$; definida no intervalo $[-2, 1]$. Aproxime $f $ por um polinômio quadrático $g$; utilizando o MQM."
      ],
      "metadata": {
        "id": "y9CB5fFRUpjz"
      }
    },
    {
      "cell_type": "markdown",
      "source": [
        "#### Questão 13"
      ],
      "metadata": {
        "id": "n1FIVq4HUxf2"
      }
    },
    {
      "cell_type": "markdown",
      "source": [
        "<font size=4>Mediu-se o valor aproximado de uma função $f$; obtendo-se os seguintes valores:\n",
        "$$\\begin{array}{r|rrrrr}\n",
        "x & -2 & -1 & 0 & 1 & 2 \\\\ \\hline\n",
        "f(x) & 1 & 2 & 8 & 4 & 1\n",
        "\\end{array}$$\n",
        "\n",
        "<font size=4>Sabendo que $f(x) = \\alpha\\ 2^{\\beta(x-\\lambda)^2}$;\n",
        "\n",
        "<font size=4>(a) Utilize o método dos mínimos quadrados para estimar os valores de $\\alpha$; $\\beta $ e $\\lambda$. Mostre todas as etapas da linearização, da montagem do sistema, e resolva o sistema analiticamente ou com algum método numérico ensinado na disciplina (Eliminação de Gauss, Jacobi ou Gauss-Seidel).\n",
        "\n",
        "<font size=4>(b) Calcule o erro cometido na aproximação."
      ],
      "metadata": {
        "id": "BOqiqse2Uz-g"
      }
    },
    {
      "cell_type": "markdown",
      "source": [
        "#### Questão 14"
      ],
      "metadata": {
        "id": "2O6Tum1OU8lB"
      }
    },
    {
      "cell_type": "markdown",
      "source": [
        "<font size=4>Conhece-se os seguintes valores de uma função: $f(0,25) = 0,082$; $f(0,5) = 0,27$; $f(1) = 1$; $f(2) = 4,3 $ e $f(4) = 21$. Aproxime $f(x) $ por uma função do tipo $g(x) = ax^{b+c \\log_{2}(x)} $ segundo um método dos mínimos quadrados (discreto)."
      ],
      "metadata": {
        "id": "OWT66jixU_4s"
      }
    },
    {
      "cell_type": "markdown",
      "source": [
        "#### Questão 15"
      ],
      "metadata": {
        "id": "2C2R5C6XVDT9"
      }
    },
    {
      "cell_type": "markdown",
      "source": [
        "<font size=4>Seja $f(x) = 1 - |x|$; definida para $-1 \\le x \\le 1$. Encontre $a $ e $b $ reais que minimizam a integral\n",
        "$$\\displaystyle\\int_{-1}^{1} [f(x) - ax^{2} - b]^2\\ dx.$$\n",
        "Trabalhe com frações e forneça a resposta exata."
      ],
      "metadata": {
        "id": "eZecRxGsVFrX"
      }
    },
    {
      "cell_type": "markdown",
      "source": [
        "#### Questão 16"
      ],
      "metadata": {
        "id": "k1T6aUTjVIEN"
      }
    },
    {
      "cell_type": "markdown",
      "source": [
        "<font size=4>As coordenadas de um ponto $P(x, y) $ no plano podem ser determinadas conhecendo-se a distância dele a três\n",
        "pontos de referência $P_{i} = (x_{i}, y_{i}), i = 1, 2, 3$; não colineares. Se $P $ está próximo à origem e os pontos de referência longe dela, a distância $d_{i} $ de $P $ a $P_{i} $ pode ser aproximada pela expressão\n",
        "$$d_{i} = r_{i} - \\dfrac{r_{i}}{x_{i}} x - \\dfrac{r_{i}}{y_{i}} y,$$\n",
        "onde $r_{i} = \\sqrt{x_{i}^2 + y_{i}^2}$.\n",
        "\n",
        "<font size=4>As medidas das distâncias estão sujeitas a erros. Foram medidas as distâncias $d_{1} = 49,4$; $d_{2} = 49,6 $ e $d_3 = 51.2 $ em relação aos pontos $P_{1}(50, 0)$; $P_{2}(-30, 40) $ e $P_3(-30, -40)$; respectivamente. Determine as coordenadas de $P $ resolvendo o sistema linear sobredeterminado para $(x, y) $ segundo o MMQ."
      ],
      "metadata": {
        "id": "QE_bdaCKVL23"
      }
    }
  ]
}