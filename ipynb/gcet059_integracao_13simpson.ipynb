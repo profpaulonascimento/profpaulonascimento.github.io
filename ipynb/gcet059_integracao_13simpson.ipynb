{
  "nbformat": 4,
  "nbformat_minor": 0,
  "metadata": {
    "colab": {
      "provenance": [],
      "toc_visible": true,
      "authorship_tag": "ABX9TyMGS/bBJYYuhBgIPUVIElrK"
    },
    "kernelspec": {
      "name": "python3",
      "display_name": "Python 3"
    },
    "language_info": {
      "name": "python"
    }
  },
  "cells": [
    {
      "cell_type": "markdown",
      "source": [
        "<div class=\"logo\">\n",
        "  <a href=\"https://colab.research.google.com/github/profpaulonascimento/gcet059/blob/main/gcet059_integracao_13simpson.ipynb\">\n",
        "    <img src=\"https://colab.research.google.com/assets/colab-badge.svg\" alt=\"Open In Colab\"></a>\n",
        "</div>"
      ],
      "metadata": {
        "id": "4xTCanJmYLAW"
      }
    },
    {
      "cell_type": "markdown",
      "source": [
        "# <font color=green> MÉTODO 1/3 DE SIMPSON"
      ],
      "metadata": {
        "id": "lgdMO-DFdjzm"
      }
    },
    {
      "cell_type": "markdown",
      "source": [
        "## Dedução do método"
      ],
      "metadata": {
        "id": "eIA35dSaYSJN"
      }
    },
    {
      "cell_type": "markdown",
      "source": [
        "<font size=4>O método de $1/3$ de Simpson consiste em aproximar a função $f(x)$, no intervalo $[x_{2i}, x_{2i+2}]$, pelo polinômio interpolador de grau $2$ que passa pelos pontos $(x_{2i}, f_{2i})$, $(x_{2i+1}, f_{2i+1})$ e $(x_{2i+2}, f_{2i+2})$. \n",
        "\n",
        "<font size=4>Assim, temos\n",
        "$$I_{i} \\approx \\displaystyle\\int_{x_{2i}}^{x_{2i+2}} p_{2}(x) ~dx$$\n",
        "\n",
        "<font size=4>Como já fizemos anteriormente no caso do método do trapézio, vamos determinar $p_{2}(x)$ utilizando uma fórmula de interpolação e a mudança de variável $z = (x -x_{2i})/h$, pois, assim, temos $dz = ~dx/h$ e\n",
        "$$\\begin{array}{rcl}\n",
        "x = x_{2i} \\rightarrow z = 0 \\\\\n",
        "x = x_{2i+2} \\rightarrow z = 2 \\\\\n",
        "\\end{array}$$"
      ],
      "metadata": {
        "id": "jlMA9BBwdrA_"
      }
    },
    {
      "cell_type": "markdown",
      "source": [
        "<font size=4>Portanto,\n",
        "$$\\begin{array}{rcl}\n",
        "I_{i}\n",
        "&=& \\displaystyle\\int_{x_{2i}}^{x_{2i+2}} f(x)~dx\n",
        "= \\displaystyle\\int_{x_{2i}}^{x_{2i+2}} p_{2i}(x)~dx \\\\ \\\\\n",
        "&=& \\displaystyle\\int_{x_{2i}}^{x_{2i+2}} [y_{2i} \\cdot L_{2i}(x) + y_{2i+1} \\cdot L_{2i+1}(x) + y_{2i+2} \\cdot L_{2i+2}(x)]~dx \\\\ \\\\\n",
        "&=& \\displaystyle\\int_{x_{2i}}^{x_{2i+2}}\n",
        "\\left[f(x_{2i}) \\dfrac{(x-x_{2i+1})(x-x_{2i+2})}{(x_{2i}-x_{2i+1})(x_{2i}-x_{2i+2})}+\n",
        "f(x_{2i+1}) \\dfrac{(x-x_{2i})(x-x_{2i+2})}{(x_{2i+1}-x_{2i})(x_{2i+1}-x_{2i+2})}+\n",
        "f(x_{2i+2}) \\dfrac{(x-x_{2i})(x-x_{2i+1})}{(x_{2i+2}-x_{2i})(x_{2i+2}-x_{2i+1})}\\right]~dx \\\\ \\\\\n",
        "&=&\n",
        "\\displaystyle\\int_{x_{2i}}^{x_{2i+2}}\\left[\n",
        "f(x_{2i}) \\dfrac{(x-x_{2i+1})(x-x_{2i+2})}{(-h)(-2h)}+\n",
        "f(x_{2i+1}) \\dfrac{(x-x_{2i})(x-x_{2i+2})}{(h)(-h)}+\n",
        "f(x_{2i+2}) \\dfrac{(x-x_{2i})(x-x_{2i+1})}{(2h)(h)}\\right]~dx \\\\ \\\\\n",
        "&=&\n",
        "\\dfrac{f(x_{2i})}{2h^2} \\displaystyle\\int_{x_{2i}}^{x_{2i+2}} (x-x_{2i+1})(x-x_{2i+2})~dx -\n",
        "\\dfrac{f(x_{2i+1})}{h^2} \\displaystyle\\int_{x_{2i}}^{x_{2i+2}} (x-x_{2i})(x-x_{2i+2})~dx +\n",
        "\\dfrac{f(x_{2i+2})}{2h^2} \\displaystyle\\int_{x_{2i}}^{x_{2i+2}} (x-x_{2i})(x-x_{2i+1})~dx \\\\\n",
        "& \\vdots &\n",
        "\\end{array}$$"
      ],
      "metadata": {
        "id": "44kp7vDPeoHQ"
      }
    },
    {
      "cell_type": "markdown",
      "source": [
        "<font size=4>Definimos, então, a fórmula 1/3 de Simpson no intervalo $[x_{i}, x_{2i}]$ como\n",
        "$$I_{1/3} = \\dfrac{h}{3}(f_{2i} + 4f_{2i+1} + f_{2i+2}).$$"
      ],
      "metadata": {
        "id": "tPYWyI67eyMw"
      }
    },
    {
      "cell_type": "markdown",
      "source": [
        "# <font color=green> MÉTODO 1/3 de SIMPSON ACUMULADO"
      ],
      "metadata": {
        "id": "UbTaFp83p-Z7"
      }
    },
    {
      "cell_type": "markdown",
      "source": [
        "<font size=4>Vamos, agora, determinar a fórmula do método 1/3 de Simpson para o intervalo $[a, b]$. Para isso, é necessário que tenhamos uma subdivisão do intervalo $[a, b]$ em um número par de subintervalos, ou seja, $m = 2k$, com $k \\in \\mathbb{N}$.\n",
        "\n",
        "<font size=4>Fazendo $h = (b-a)/m \\therefore x_{i} = a + ih$, em que $i = 0, 1, \\ldots, m$. Observe, neste caso, que temos $m + 1$ pontos $(x_{i}, f_{i})$, $i = 0, \\ldots, m$. Como\n",
        "$$I_{i}^{1/3} = \\dfrac{h}{3} (f_{2i} + 4f_{2i+1} + f_{2i+2}),$$\n",
        "\n",
        "<font size=4>Atribuindo valores a $i$\n",
        "$$\\begin{array}{rcl}\n",
        "i = 1 &\\implies& I_{1}^{1/3S} = \\dfrac{h}{3}(f_{0} + 4f_{1} + f_{2}) \\\\\n",
        "i = 2 &\\implies& I_{2}^{1/3S} = \\dfrac{h}{3}(f_{2} + 4f_{3} + f_{4}) \\\\\n",
        "i = 3 &\\implies& I_{3}^{1/3S} = \\dfrac{h}{3}(f_{4} + 4f_{5} + f_{6}) \\\\\n",
        "&\\vdots& \\\\\n",
        "i = j &\\implies& I_{j}^{1/3S} = \\dfrac{h}{3}(f_{2j} + 4f_{2j+1} + f_{2j+2}) \\\\\n",
        "&\\vdots& \\\\\n",
        "i = (m-2)/2 &\\implies& \\qquad \\quad \\dfrac{h}{3}(f_{m-2} + 4f_{m-1} + f_{m})\n",
        "\\end{array}$$\n",
        "\n",
        "<font size=4>A soma de todas as parcelas acima é:\n",
        "$$\n",
        "I_{m}^{1/3S} = \\dfrac{h}{3} [(f_{0} + 4f_{1} + f_{2}) + (f_{2} + 4f_{3} + f_{4}) + (f_{4} + 4f_{5} + f_{6}) + (f_{6} + 4f_{7} + f_{8}) + \\cdots + (f_{m-2} + 4f_{m-1} + f_{m})]\n",
        "$$\n",
        "\n",
        "<font size=4>Observando que os valores de $f$ com índice par, excetuando-se os índices $0$ e $m$, aparecem sempre duplicados, teremos:\n",
        "$$I_{m}^{S} = \\dfrac{h}{3} \\left[(f_{0} + f_{m}) + 2 \\sum_{i = 1}^{\\frac{m-2}{2}} f_{2i} + 4 \\sum_{i=1}^{\\frac{m-2}{2}} f_{2i+1}\\right].$$"
      ],
      "metadata": {
        "id": "48Bcuq-WqN0z"
      }
    },
    {
      "cell_type": "markdown",
      "source": [
        "## Código"
      ],
      "metadata": {
        "id": "sG7--skFYi5Y"
      }
    },
    {
      "cell_type": "code",
      "source": [
        "import numpy as np\n",
        "\n",
        "def simpson13(a,b,m,f):\n",
        "    h = (b-a)/m\n",
        "    simp1,simp2 = 0,0\n",
        "    x = np.linspace(a,b,m+1)\n",
        "    for i in range(1,m):\n",
        "        if i % 2 == 0:\n",
        "            simp1 += f(x[i])\n",
        "        else:\n",
        "            simp2 += f(x[i])\n",
        "\n",
        "    return h/3*(f(x[0])+f(x[m])+2*simp1+4*simp2)"
      ],
      "metadata": {
        "id": "vYHTwUH6YmBK"
      },
      "execution_count": null,
      "outputs": []
    },
    {
      "cell_type": "markdown",
      "source": [
        "## Exemplo:"
      ],
      "metadata": {
        "id": "5lCHXEQytCMt"
      }
    },
    {
      "cell_type": "markdown",
      "source": [
        "<font size=4>Determine uma aproximação para $\\pi = 4\\displaystyle\\int_{0}^{1} \\dfrac{~dx}{1 + x^{2}}$, usando o método 1/3 de Simpson, com $m = 10$."
      ],
      "metadata": {
        "id": "mlqHlPUgtIhv"
      }
    },
    {
      "cell_type": "markdown",
      "source": [
        "#### Solução"
      ],
      "metadata": {
        "id": "9DLq6TuMq7Jh"
      }
    },
    {
      "cell_type": "markdown",
      "source": [
        "<font size=4>A seguir um código para a calcular uma aproximação para uma função $f$ em um intervalo $[a,b]$ dividido em $m$ partes, com $m$ um número par."
      ],
      "metadata": {
        "id": "AqKuyDzIq_Vp"
      }
    },
    {
      "cell_type": "code",
      "source": [
        "f = lambda x: 4/(1+x**2)\n",
        "simpson13(0,1,10,f)"
      ],
      "metadata": {
        "colab": {
          "base_uri": "https://localhost:8080/"
        },
        "id": "hJWKXCja5n0y",
        "outputId": "fce7fcef-1d0c-4383-f4ce-dd76342b8a26"
      },
      "execution_count": null,
      "outputs": [
        {
          "output_type": "execute_result",
          "data": {
            "text/plain": [
              "3.141592613939215"
            ]
          },
          "metadata": {},
          "execution_count": 5
        }
      ]
    },
    {
      "cell_type": "code",
      "source": [
        "abs(_-np.pi)"
      ],
      "metadata": {
        "colab": {
          "base_uri": "https://localhost:8080/"
        },
        "id": "XGHfn4iEhqft",
        "outputId": "d429defc-658d-4c4b-a9d6-d7cbf70ea503"
      },
      "execution_count": null,
      "outputs": [
        {
          "output_type": "execute_result",
          "data": {
            "text/plain": [
              "3.9650577932093256e-08"
            ]
          },
          "metadata": {},
          "execution_count": 6
        }
      ]
    },
    {
      "cell_type": "markdown",
      "source": [
        "# <font color=green> COTA PARA O ERRO NA FÓRMULA 1/3 DE SIMPSON"
      ],
      "metadata": {
        "id": "SkLptMk7i_r0"
      }
    },
    {
      "cell_type": "markdown",
      "source": [
        "<font size=4>Vamos determinar $E_{i}^{S}$ que é o erro cometido na aproximação $I_{i}^{S}$.\n",
        "$$E_{i}^{S} = \\displaystyle\\int_{x_{i-1}}^{x_{i+1}} E_{i}(x) ~dx = \\dfrac{h}{6} \\displaystyle\\int_{0}^{2} z(z -1) (z_{2}) f''' (\\mu)h^{3} dz.$$\n",
        "\n",
        "<font size=4>Como a função $g(z) = z(z-1)(z -2)$ troca de sinal em $[0, 2]$ não é possível utilizar a mesma técnica utilizada na dedução do erro para a fórmula do trapézio."
      ],
      "metadata": {
        "id": "YRQ0cvOrjnKw"
      }
    },
    {
      "cell_type": "markdown",
      "source": [
        "<font size=4>Seja\n",
        "$$A(x) = \\displaystyle\\int_{a}^{x} f(t)~dt, x \\in [a,b]$$\n",
        "\n",
        "<font size=4>Podemos provar que\n",
        "$$\\dfrac{d}{dx}A(x) = f(x).$$\n",
        "\n",
        "<font size=4>Como $E(x) = f(x)- p_2(x)$, temos que:\n",
        "$$\\begin{array}{rcl}\n",
        "E_{i}^{S} & = & R(h)\n",
        " = \\displaystyle\\int_{x_{i} -h}^{x_{i} + h} f(x) ~dx -\\displaystyle\\int_{x_{i} -h}^{x_{i} + h} p_{2}(x) ~dx\n",
        "\\end{array}$$\n",
        "\n",
        "<font size=4>Portanto,\n",
        "$$\\begin{array}{rcl}\n",
        "R(h)\n",
        "&=& \\displaystyle\\int_{x_{i} -h}^{x_{i} + h} f(x)~dx -\\dfrac{h}{3}(f(x_{i}-h) + 4f(x_{i}) + f(x_{i} + h))\n",
        "\\end{array}$$\n",
        "\n",
        "<font size=4>Implicando em\n",
        "$$\\begin{array}{rcl}\n",
        "R'(h)\n",
        "&=& f(x_{i} + h) + f(x_{i} -h) -\\dfrac{1}{3}(f(x_{i} -h) + 4f(x_{i}) + f(x_{i} + h))-\\dfrac{h}{3}(-f'(x_{i} -h) + f'(x_{i} + h)) \\\\\n",
        "&=& \\dfrac{2}{3} \\left[f(x_{i} + h) + f(x_{i} -h)\\right] - \\dfrac{4}{3} f(x_{i}) - \\dfrac{h}{3}\\left[f'(x_{i} + h) -f'(x_{i} -h)\\right]\n",
        "\\end{array}$$\n",
        "\n",
        "<font size=4>Derivando essa relação mais duas vezes, com respeito a $h$, temos:\n",
        "$$\\begin{array}{rcl}\n",
        "R''(h)\n",
        "&=& \\dfrac{1}{3} \\left[f'(x_{i} + h) - f'(x_{i} -h)\\right] - \\dfrac{h}{3} \\left[f''(x_{i} + h) + f''(x_{i} -h)\\right] \\\\\n",
        "R'''(h)\n",
        "&=& -\\dfrac{h}{3} \\left[f'''(x_{i} + h) -f'''(x_{i} -h)\\right]\n",
        "\\end{array}$$\n",
        "\n",
        "<font size=4>Aplicando o Teorema do Valor Médio nesta equação, temos:\n",
        "$$R'''(h) = -\\dfrac{2}{3} h^{2} f^{(4)}(\\xi),\\quad \\xi \\in (x_{i} -h, x_{i} + h).$$\n",
        "\n",
        "<font size=4>A seguir, utilizaremos, repetidamente, o Teorema Fundamental do Cálculo e que\n",
        "$R(0) = 0$; $R'(0) = 0$  e $R''(0) = 0$.\n",
        "\n",
        "<font size=4>Portanto,\n",
        "$$\\begin{array}{rcl}\n",
        "R''(h)\n",
        "&=& R''(0) + \\displaystyle\\int_{0}^{h} R'''(t)~dt \\\\\n",
        "&=& -\\dfrac{2}{3} \\displaystyle\\int_{0}^{h}t^{2}f^{(4)} (\\xi_{i})~dt, \\quad \\xi_{i} \\in (x_{i-1}, x_{i}) \\\\\n",
        "&=& -\\dfrac{2}{3} f^{(4)} (\\xi_{i}) \\displaystyle\\int_{0}^{h} t^{2}~dt, \\quad \\xi_{i} \\in (x_{i-1}, x_{i}) \\\\\n",
        "&=& -\\dfrac{2}{9} h^{3} f^{(4)}(\\xi_{i}),\\quad \\xi_{i} \\in (x_{i-1}, x_{i}) \\\\\n",
        "R'(h)\n",
        "&=& R'(0) + \\displaystyle\\int_{0}^{h} R''(t)~dt \\\\\n",
        "&=& -\\dfrac{2}{9} \\displaystyle\\int_{0}^{h} t^{3}f^{(4)} (\\xi_{i})~dt, \\quad \\xi_{i} \\in (x_{i-1}, x_{i}) \\\\\n",
        "&=& -\\dfrac{2}{9} f^{(4)}(\\xi_{i}) \\displaystyle\\int_{0}^{h} t^{3}~dt, \\quad \\xi_{i} \\in (x_{i-1}, x_{i}) \\\\\n",
        "&=& -\\dfrac{1}{18} h^{4}f^{(4)} (\\xi_{i}),\\quad \\xi_{i} \\in (x_{i-1}, x_{i}) \\\\\n",
        "R(h)\n",
        "&=& R(0) + \\displaystyle\\int_{0}^{h} R'(t)~dt \\\\\n",
        "&=& -\\dfrac{1}{18} \\displaystyle\\int_{0}^{h} t^{4} f^{(4)} (\\xi_{i})~dt, \\quad \\xi_{i} \\in (x_{i-1}, x_{i}) \\\\\n",
        "&=& -\\dfrac{1}{18} f^{(4)}(\\xi_{i}) \\displaystyle\\int_{0}^{h} t^{4}~dt, \\quad \\xi_{i} \\in (x_{i-1}, x_{i}) \\\\\n",
        "&=& -\\dfrac{1}{90} h^{5} f^{(4)}(\\xi_{i}),\\quad \\xi_{i} \\in(x_{i-1}, x_{i})\n",
        "\\end{array}$$\n",
        "\n",
        "<font size=4>Assim, temos\n",
        "$$E_{i}^{S} = -\\dfrac{h^{5}}{90} f^{(4)}(\\xi_{i});\\quad \\xi_{i} \\in (x_{i-1}, x_{i}).$$\n",
        "\n",
        "<font size=4>Vamos, agora, determinar $E_{n}^{S}$.\n",
        "\n",
        "<font size=4>Para tanto, basta observar que:\n",
        "$$E_{m}^{S} = \\sum_{i=1}^{k} E_{i}^{S},$$\n",
        "em que $m = 2k$, ou seja, $k = \\dfrac{m}{2}$.\n",
        "$$\\sum_{i = 1}^{k} f^{(4)}(\\xi_{i}) = k f^{(4)}(\\xi), \\mbox{ para algum } \\xi \\in (a, b)$$\n",
        "\n",
        "<font size=4>Logo,\n",
        "$$\\begin{array}{rcl}\n",
        "E_{m}^{S}\n",
        "&=& -\\dfrac{m}{180} h^{5} f^{(4)}(\\mu) \\\\\n",
        "&=& -\\dfrac{(b -a) h^{4}}{180} f^{(4)}(\\mu),\\quad \\mu \\in (a, b) \\\\\n",
        "&=& -\\dfrac{(b -a)^{5}}{180~m^{4}} f^{(4)}(\\mu),\\quad \\mu \\in (a, b)\n",
        "\\end{array}$$\n",
        "\n",
        "<font size=4>ATENÇÃO! Observe que:\n",
        "\n",
        "<font size=4>1. $\\displaystyle\\lim_{m \\to \\infty} E_{m}^{S} = 0$\n",
        "\n",
        "<font size=4>2. $E_{m}^{S} = O(1/m^{4})$\n",
        "\n",
        "<font size=4>3. Se $M_{4}$ é uma cota para $f^{(4)}(x)$ em $[a, b]$, então, temos\n",
        "$$|E_{m}^{T}| \\leq \\dfrac{M_{4}}{180m^{4}} (b-a)^{5}$$\n",
        "\n",
        "<font size=4>4.\tPara determinar $\\displaystyle\\int_{a}^{b} f(x) ~dx$ com erro inferior à $\\epsilon > 0$, determine $m$ de modo que $m > \\sqrt[4]{\\dfrac{M_{4}(b-a)^{5}}{180~\\epsilon}}$ e $m$ par."
      ],
      "metadata": {
        "id": "Pt2OOnSZjP9K"
      }
    },
    {
      "cell_type": "markdown",
      "source": [
        "## Exemplo"
      ],
      "metadata": {
        "id": "K9-ggS6ht9Oy"
      }
    },
    {
      "cell_type": "markdown",
      "source": [
        "<font size=4>Retornando ao caso da integral $\\displaystyle\\int_{0}^{1} \\dfrac{4}{1+x^2} dx$"
      ],
      "metadata": {
        "id": "roaHZ_cCuAN9"
      }
    },
    {
      "cell_type": "code",
      "source": [
        "import sympy as sp\n",
        "\n",
        "x = sp.symbols('x')\n",
        "\n",
        "f = 4/(1+x**2)\n",
        "\n",
        "f.diff(x,5).factor()"
      ],
      "metadata": {
        "colab": {
          "base_uri": "https://localhost:8080/",
          "height": 62
        },
        "id": "-81x-YpVt1o0",
        "outputId": "327052d5-f598-4903-e003-f59299c78ea6"
      },
      "execution_count": null,
      "outputs": [
        {
          "output_type": "execute_result",
          "data": {
            "text/plain": [
              "-960*x*(x**2 - 3)*(3*x**2 - 1)/(x**2 + 1)**6"
            ],
            "text/latex": "$\\displaystyle - \\frac{960 x \\left(x^{2} - 3\\right) \\left(3 x^{2} - 1\\right)}{\\left(x^{2} + 1\\right)^{6}}$"
          },
          "metadata": {},
          "execution_count": 10
        }
      ]
    },
    {
      "cell_type": "code",
      "source": [
        "f.diff(x,4).subs(x,1/np.sqrt(3))\n",
        "f.diff(x,4).subs(x,1)\n",
        "maxf = f.diff(x,4).subs(x,0)\n",
        "maxf"
      ],
      "metadata": {
        "colab": {
          "base_uri": "https://localhost:8080/",
          "height": 37
        },
        "id": "1UmoadBywHY6",
        "outputId": "fa5eedea-e7e4-4996-a342-3952a17146fa"
      },
      "execution_count": null,
      "outputs": [
        {
          "output_type": "execute_result",
          "data": {
            "text/plain": [
              "96"
            ],
            "text/latex": "$\\displaystyle 96$"
          },
          "metadata": {},
          "execution_count": 17
        }
      ]
    },
    {
      "cell_type": "code",
      "source": [
        "pow(96*10**8/180,1/4)"
      ],
      "metadata": {
        "colab": {
          "base_uri": "https://localhost:8080/"
        },
        "id": "5qvuLNmtwu6D",
        "outputId": "e5bc83d4-6f11-4561-caf3-1825ad1beae9"
      },
      "execution_count": null,
      "outputs": [
        {
          "output_type": "execute_result",
          "data": {
            "text/plain": [
              "85.45740127924681"
            ]
          },
          "metadata": {},
          "execution_count": 18
        }
      ]
    },
    {
      "cell_type": "markdown",
      "source": [
        "## Exemplo"
      ],
      "metadata": {
        "id": "tb8ZBx9nPt0p"
      }
    },
    {
      "cell_type": "markdown",
      "source": [
        "Considere a função densidade de probabilidade\n",
        "$$\\phi(x) = \\dfrac{2}{\\sqrt{\\pi}} \\displaystyle\\int_{0}^{x} e^{-t^{2}} dt.$$\n",
        "Determine $\\phi(1.43)$ com erro inferior à $10^{-4}$."
      ],
      "metadata": {
        "id": "-TEsX8hMPsZW"
      }
    },
    {
      "cell_type": "markdown",
      "source": [
        "### Solução"
      ],
      "metadata": {
        "id": "KtaOqsEeP_Vk"
      }
    },
    {
      "cell_type": "markdown",
      "source": [
        "$$\\begin{array}{rcl}\n",
        "f(t) = e^{-t^{2}}\n",
        "&\\implies& f'(t) = e^{-t^{2}}(-2t) \\\\\n",
        "&\\implies& f''(t) = e^{-t^{2}}(4t^{2} -2) \\\\\n",
        "&\\implies& f'''(t) = e^{-t^{2}}(-8t^{3}+12t) \\\\\n",
        "&\\implies& f^{(4)}(t) = e^{-t^{2}}(16t^{4} -48t^{2} + 12)\n",
        "\\end{array}$$\n",
        "\n",
        "Logo\n",
        "$$\\left|f^{(4)}(t)\\right| = 4 |e^{-t^{2}}| |4t^{4}-12t^{2} + 3|.$$\n",
        "\n",
        "Como $|e^{-t^{2}}| \\leq 1$ e $|4t^{4}-12t^{2} + 3| \\leq 22,\\quad \\forall\\ t \\in (0, 1.43)$, temos que:\n",
        "$$|f^{(4)}(t)| \\leq 88,\\quad \\forall\\ t \\in (0, 1.43)$$\n",
        "\n",
        "Temos que $m$ é um número para que deve satisfazer a\n",
        "$$m > \\sqrt[4]{\\dfrac{88 (1.43)^{5} 10^{4}}{180 \\cdot \\sqrt{\\pi}}} \\approx 13.84$$\n",
        "\n",
        "Assim, tomemos $m = 14$.\n",
        "\n",
        "Segue que\n",
        "$$\\phi(1,43) = 0.9568566911365775.$$"
      ],
      "metadata": {
        "id": "P5a278DkQDKf"
      }
    },
    {
      "cell_type": "code",
      "source": [
        "pow(1.43**5*196*10**4/(180*np.pi**(0.5)),0.25)"
      ],
      "metadata": {
        "colab": {
          "base_uri": "https://localhost:8080/"
        },
        "id": "KMhaIMKWPr85",
        "outputId": "32db3042-8cba-4e44-b952-a8fb7e69bb9a"
      },
      "execution_count": null,
      "outputs": [
        {
          "output_type": "execute_result",
          "data": {
            "text/plain": [
              "13.844338336468262"
            ]
          },
          "metadata": {},
          "execution_count": 17
        }
      ]
    },
    {
      "cell_type": "code",
      "source": [
        "-12*1.43**2+3"
      ],
      "metadata": {
        "id": "sjDEC3Hii_OF",
        "colab": {
          "base_uri": "https://localhost:8080/"
        },
        "outputId": "12058ba1-d51c-4404-ea05-7dfea3f4c4d9"
      },
      "execution_count": null,
      "outputs": [
        {
          "output_type": "execute_result",
          "data": {
            "text/plain": [
              "-21.538799999999995"
            ]
          },
          "metadata": {},
          "execution_count": 15
        }
      ]
    },
    {
      "cell_type": "code",
      "source": [
        "4*1.43**4+3"
      ],
      "metadata": {
        "colab": {
          "base_uri": "https://localhost:8080/"
        },
        "id": "x4Z4eK8MgECB",
        "outputId": "b03bdfa2-a233-41c0-8dcd-8dc4c0aaca6e"
      },
      "execution_count": null,
      "outputs": [
        {
          "output_type": "execute_result",
          "data": {
            "text/plain": [
              "19.726464039999996"
            ]
          },
          "metadata": {},
          "execution_count": 16
        }
      ]
    },
    {
      "cell_type": "code",
      "source": [
        "import numpy as np\n",
        "\n",
        "m =14\n",
        "h= 1.43/m\n",
        "x = np.arange(0.0,1.44,h)\n",
        "\n",
        "x"
      ],
      "metadata": {
        "colab": {
          "base_uri": "https://localhost:8080/"
        },
        "id": "Rg8m5WWkmptP",
        "outputId": "ffe1e235-8c2a-40ff-a591-56ff0faeff9b"
      },
      "execution_count": null,
      "outputs": [
        {
          "output_type": "execute_result",
          "data": {
            "text/plain": [
              "array([0.        , 0.10214286, 0.20428571, 0.30642857, 0.40857143,\n",
              "       0.51071429, 0.61285714, 0.715     , 0.81714286, 0.91928571,\n",
              "       1.02142857, 1.12357143, 1.22571429, 1.32785714, 1.43      ])"
            ]
          },
          "metadata": {},
          "execution_count": 47
        }
      ]
    },
    {
      "cell_type": "code",
      "source": [
        "f = lambda x: 2/np.pi**(0.5)*np.exp(-x**2)\n",
        "s = f(x)\n",
        "s"
      ],
      "metadata": {
        "colab": {
          "base_uri": "https://localhost:8080/"
        },
        "id": "IobqE9hmp-37",
        "outputId": "9cd37ca6-5ad1-468f-bf88-59183255c75a"
      },
      "execution_count": null,
      "outputs": [
        {
          "output_type": "execute_result",
          "data": {
            "text/plain": [
              "array([1.12837917, 1.1166678 , 1.08225798, 1.0272484 , 0.95490027,\n",
              "       0.86931751, 0.77506248, 0.67675717, 0.57871786, 0.48466178,\n",
              "       0.39751044, 0.31929798, 0.25117804, 0.19351072, 0.14600451])"
            ]
          },
          "metadata": {},
          "execution_count": 48
        }
      ]
    },
    {
      "cell_type": "code",
      "source": [
        "s = np.copy(f(x))\n",
        "\n",
        "for i in range(1,m):\n",
        "    if i % 2 == 0:\n",
        "        s[i] = 2*f(x[i])\n",
        "    else:\n",
        "        s[i] = 4*f(x[i])\n",
        "\n",
        "s.sum()*h/3"
      ],
      "metadata": {
        "colab": {
          "base_uri": "https://localhost:8080/"
        },
        "id": "U54sLYgvngnU",
        "outputId": "ad204b63-488e-45c3-d14c-c6ff58110745"
      },
      "execution_count": null,
      "outputs": [
        {
          "output_type": "execute_result",
          "data": {
            "text/plain": [
              "0.9568566911365775"
            ]
          },
          "metadata": {},
          "execution_count": 51
        }
      ]
    },
    {
      "cell_type": "code",
      "source": [
        "import sympy as sp\n",
        "t = sp.symbols('t')\n",
        "\n",
        "g = lambda t: 2/np.pi**(0.5)*sp.exp(-t**2)\n",
        "sp.integrate(g(t),(t,0,1.43)).evalf()"
      ],
      "metadata": {
        "colab": {
          "base_uri": "https://localhost:8080/",
          "height": 37
        },
        "id": "Vf995Ek7oYxw",
        "outputId": "d0c38551-fe7f-44db-8c77-54f5ab6ba62d"
      },
      "execution_count": null,
      "outputs": [
        {
          "output_type": "execute_result",
          "data": {
            "text/plain": [
              "0.956857253144969"
            ],
            "text/latex": "$\\displaystyle 0.956857253144969$"
          },
          "metadata": {},
          "execution_count": 34
        }
      ]
    }
  ]
}
