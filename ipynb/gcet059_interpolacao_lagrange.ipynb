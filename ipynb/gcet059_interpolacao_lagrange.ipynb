{
  "nbformat": 4,
  "nbformat_minor": 0,
  "metadata": {
    "colab": {
      "provenance": []
    },
    "kernelspec": {
      "name": "python3",
      "display_name": "Python 3"
    },
    "language_info": {
      "name": "python"
    }
  },
  "cells": [
    {
      "cell_type": "markdown",
      "source": [
        "<div class=\"logo\">\n",
        "  <a href=\"https://colab.research.google.com/github/profpaulonascimento/gcet059/blob/main/gcet059_interpolacao_lagrange.ipynb\">\n",
        "    <img src=\"https://colab.research.google.com/assets/colab-badge.svg\" alt=\"Open In Colab\"></a>\n",
        "</div>"
      ],
      "metadata": {
        "id": "LQVB_9-MWUVx"
      }
    },
    {
      "cell_type": "markdown",
      "source": [
        "# <font color=green> MÉTODO DE LAGRANGE"
      ],
      "metadata": {
        "id": "YW7mSe7OWoQZ"
      }
    },
    {
      "cell_type": "markdown",
      "source": [
        "<font size=4>Considere os $n+1$ pontos $(x_{i}, f(x_{i}))$, $f(x_{i}) = y_{i}$, $i = 0, 1, 2, \\ldots, n$.\n",
        "Seja $p_{n}(x)$ o polinômio de grau menor igual a $n$ que interpola $f$ nos pontos $x_{i}$, $i = 0, 1, \\ldots, n$, representado por\n",
        "$$p_{n}(x) = y_{0} L_{0}(x) + y_{1} L_{1}(x) + \\ldots + y_{n}L_{n}(x) = \\displaystyle\\sum_{i = 0}^n y_{i} \\cdot L_{i}(x),$$\n",
        "onde os polinômios $L_{i}(x), i = 0, 1, 2, \\ldots, n$, são de grau $n$. Para cada $i$, queremos que a condição $p_{n}(x_{i}) = y_{i}$ seja satisfeita, ou seja,\n",
        "$$y_{0} L_{0}(x_{i}) + y_{1} L_{1}(x_{i}) + \\ldots + y_{n}L_{n}(x_{i}) = y_{i}$$\n",
        "e a forma mais simples de satisfazer essa igualdade é definir:\n",
        "$$L_{k}(x) = \\dfrac{(x-x_{0}) \\cdot (x-x_{1}) \\cdots (x-x_{k-1}) \\cdot (x-x_{k+1}) \\cdots (x-x_{n})}{(x_{k}-x_{0}) \\cdot (x_{k}-x_{1}) \\cdots (x_{k}-x_{k-1}) \\cdot (x_{k}-x_{k+1}) \\cdots (x_{k}-x_{n})}\n",
        "= \\prod_{{i = 0}\\atop{i\\neq k}}^{n} \\dfrac{(x-x_{k})}{(x_{k}-x_{i})}.$$\n",
        "\n",
        "<font size=4>Podemos verificar que\n",
        "$$L_{k}(x_{i}) = \\left\\{\\begin{array}{rcl}\n",
        "0, \\mbox{ se } k \\ne i \\\\\n",
        "1, \\mbox{ se } k = i. \\\\\n",
        "\\end{array}\\right.$$\n",
        "\n",
        "<font size=4>O numerador de $L_{k}(x)$ é um produto de $n$ fatores da forma $(x-x_{i}$, com $i = 0, 1, 2, \\ldots, n$ e $i \\ne k$, e, portanto, um polinômio de grau $n$. Consequentemente, $p_n(x)$ é um polinômio de grau menor ou igual a $n$. Sendo assim, temos a seguinte definição:\n",
        "\n",
        "<font size=4>**Definição 01**: [Forma de Lagrange] O polinômio\n",
        "$$p_n(x) = \\displaystyle\\sum_{i = 0}^{n} y_{i} \\cdot L_{i}(x), \\mbox{ com } L_{i}(x) = \\prod_{{k = 0}\\atop{k\\neq i}}^{n} \\dfrac{(x-x_{k})}{(x_{i}-x_{k})}$$\n",
        "é a <font color=blue>**forma de Lagrange**</font> para a interpolação de $(n+1)$ pontos $x = x_{i}$, $i = 0, 1, 2, \\ldots, n$."
      ],
      "metadata": {
        "id": "g6GVJycIWoBw"
      }
    },
    {
      "cell_type": "markdown",
      "source": [
        "## Exemplo:"
      ],
      "metadata": {
        "id": "722Na4skohww"
      }
    },
    {
      "cell_type": "markdown",
      "source": [
        "<font size=4>Encontre, pela forma de Lagrange, o polinômio que interpola os pontos da tabela\n",
        "$$\\begin{array}{c|c|c|c}\n",
        "x & -1 & 0 & 2 \\\\ \\hline\n",
        "f(x) & 4 & 1 & -1\n",
        "\\end{array}$$"
      ],
      "metadata": {
        "id": "eCq22IFgomxg"
      }
    },
    {
      "cell_type": "markdown",
      "source": [
        "### Solução:"
      ],
      "metadata": {
        "id": "hVPsMETnotGA"
      }
    },
    {
      "cell_type": "markdown",
      "source": [
        "<font size=4>O polinômio interpolador de Lagrange de grau $2$ (observe aqui que temos três pontos) é:\n",
        "$$p_2(x) = f(x_{0}) \\cdot L_{0}(x) + f(x_{1}) \\cdot L_{1}(x) + f(x_{2}) \\cdot L_2(x).$$\n",
        "\n",
        "<font size=4>Os multiplicadores $L_{i}(x)$, $i = 0, 1, 2$, são:\n",
        "$$\\begin{array}{rcl}\n",
        "L_{0}(x)\n",
        "& = & \\dfrac{(x-x_{1}) \\cdot (x-x_{2})}{(x_{0}-x_{1}) \\cdot (x_{0}-x_{2})}\n",
        " = \\dfrac{(x-0) \\cdot (x-2)}{(-1+0) \\cdot (0-2)}\n",
        " = \\dfrac{x^2-2x}{3} \\\\ \\\\\n",
        "L_{1}(x)\n",
        "& = & \\dfrac{(x-x_{0}) \\cdot (x-x_{2})}{(x_{1}-x_{0}) \\cdot (x_{1}-x_{2})}\n",
        " = \\dfrac{(x+1) \\cdot (x-2)}{(0+1) \\cdot (0-2)}\n",
        " = \\dfrac{-x^2+x+2}{2} \\\\ \\\\\n",
        "L_2(x)\n",
        "& = & \\dfrac{(x-x_{0}) \\cdot (x-x_{1})}{(x_{2}-x_{0}) \\cdot (x_{2}-x_{1})}\n",
        " = \\dfrac{(x+1) \\cdot (x-0)}{(2+1) \\cdot (2-0)}\n",
        " = \\dfrac{x^2+x}{6}\n",
        "\\end{array}$$\n",
        "\n",
        "<font size=4>Assim,\n",
        "$$p_2(x) = 4 \\cdot \\dfrac{x^2-2x}{3} + 1 \\cdot \\dfrac{-x^2+x+2}{2} + (-1) \\cdot \\dfrac{x^2+x}{6} = 1 - \\dfrac{7}{3}x+\\dfrac{2}{3}x^2.$$\n",
        "Observe que o polinômio obtido é o mesmo que o da resolução do sistema."
      ],
      "metadata": {
        "id": "96-eFE4lowYQ"
      }
    },
    {
      "cell_type": "markdown",
      "source": [
        "## Exemplo:"
      ],
      "metadata": {
        "id": "fNaeY6aSo4sb"
      }
    },
    {
      "cell_type": "markdown",
      "source": [
        "<font size=4>Determine $p_3(0.5)$ sabendo que o gráfico de $p_3$ passa pelos pontos $(-1,1)$, $(0,3)$, $(1,1)$, $(2,1)$."
      ],
      "metadata": {
        "id": "OvmsLyhQo6y2"
      }
    },
    {
      "cell_type": "markdown",
      "source": [
        "### Solução:"
      ],
      "metadata": {
        "id": "-44tno3mpHNt"
      }
    },
    {
      "cell_type": "markdown",
      "source": [
        "<font size=4>O polinômio interpolador de Lagrange de grau $3$ avaliado em $0,5$ é:\n",
        "$$p_2(0,5) = f(x_{0}) \\cdot L_{0}(0,5) + f(x_{1}) \\cdot L_{1}(0,5) + f(x_{2}) \\cdot L_2(0,5)+ f(x_{3}) \\cdot L_3(0,5).$$\n",
        "\n",
        "<font size=4>Os multiplicadores $L_{i}(x)$, $i = 0, 1, 2, 3$, avaliados em $x = 0,5$ são:\n",
        "$$\\begin{array}{rl}\n",
        "L_{0}(0,5)\n",
        "& = \\dfrac{(0,5-x_{1}) \\cdot (0,5-x_{2}) \\cdot (0,5-x_{3})}{(-1-x_{1}) \\cdot (-1-x_{2}) \\cdot (-1-x_{3})}\n",
        " = \\dfrac{(0,5-0) \\cdot (0,5-1) \\cdot (0,5-2)}{(-1-0) \\cdot (-1-1) \\cdot (-1-2)}\n",
        " = \\dfrac{1}{16} \\\\ \\\\\n",
        "L_{1}(0,5)\n",
        "& = \\dfrac{(0,5-x_{0}) \\cdot (0,5-x_{2}) \\cdot (0,5-x_{3})}{(x_{1}-x_{0}) \\cdot (x_{1}-x_{2}) \\cdot (x_{1}-x_{3})}\n",
        " = \\dfrac{(0,5+1) \\cdot (0,5-1) \\cdot (0,5-2)}{(0+1) \\cdot (0-1) \\cdot (0-2)}\n",
        " = \\dfrac{9}{16} \\\\ \\\\\n",
        "L_2(0,5)\n",
        "& = \\dfrac{(x-x_{0}) \\cdot (x-x_{1}) \\cdot (x-x_{3})}{(x_{2}-x_{0}) \\cdot (x_{2}-x_{1}) \\cdot (x_{2}-x_{3})}\n",
        " = \\dfrac{(0,5+1) \\cdot (0,5-0) \\cdot (0,5-2)}{(1+1) \\cdot (1-0) \\cdot (1-2)}\n",
        " = \\dfrac{1}{16} \\\\ \\\\\n",
        "L_3(0,5)\n",
        "& = \\dfrac{(x-x_{0}) \\cdot (x-x_{1}) \\cdot (x-x_{2})}{(x_{3}-x_{0}) \\cdot (x_{3}-x_{1}) \\cdot (x_{3}-x_{2})}\n",
        " = \\dfrac{(0,5+1) \\cdot (0,5-0) \\cdot (0,5-1)}{(2+1) \\cdot (2-0) \\cdot (2-1)}\n",
        " = \\dfrac{-1}{16}\n",
        "\\end{array}$$\n",
        "\n",
        "<font size=4>Assim,\n",
        "$$p_3(0,5) = 1 \\cdot \\dfrac{1}{16} + 3 \\cdot \\dfrac{9}{16} + 1 \\cdot \\dfrac{1}{16} + 1 \\cdot \\dfrac{-1}{16} = \\dfrac{7}{4}.$$\n",
        "Observe que não foi necessário determinar a expressão do polinômio."
      ],
      "metadata": {
        "id": "POtqFFdupJhR"
      }
    },
    {
      "cell_type": "markdown",
      "source": [
        "# <font color=green>Esquema prático para interpolação polinomial pela Forma de Lagrange"
      ],
      "metadata": {
        "id": "mE1ldrjlpQL0"
      }
    },
    {
      "cell_type": "markdown",
      "source": [
        "<font size=4>Para que possamos utilizar os mesmos cálculos tanto na interpolação quanto na determinação do erro, introduziremos, aqui, algumas notações para reescrevermos, de forma conveniente, as funções de Lagrange $L_{i}(x)$.\n",
        "\n",
        "<font size=4>O polinômio interpolador de Lagrange é dado por:\n",
        "$$p_{n}(x) = \\displaystyle\\sum_{i = 0}^n f(x_{i}) \\cdot L_{i}(x),$$\n",
        "em que\n",
        "$$%\\begin{array}{rcl}\n",
        "L_{i}(x)\n",
        " = \\displaystyle\\prod_{{j = 0}\\atop{j\\neq i}}^{n} \\dfrac{(x-x_j)}{(x_{i}-x_j)}\n",
        " = \\dfrac{(x-x_{0}) \\cdot \\ldots \\cdot (x-x_{i-1}) \\cdot (x-x_{i+1}) \\cdot \\ldots \\cdot (x-x_{n})}\n",
        "{(x_{i}-x_{0}) \\cdot \\ldots \\cdot (x_{i}-x_{i-1}) \\cdot (x_{i}-x_{i+1}) \\cdot \\ldots \\cdot (x_{i}-x_{n})}.\n",
        "%\\end{array}\n",
        "$$\n",
        "Multiplicando o numerador e o denominador desta última fração pelo fator $\\color{red}{(x-x_{i})}$, temos que:\n",
        "\n",
        "<font size=4>$$\\begin{array}{rcl}\n",
        "L_{i}(x)\n",
        "& = & \\dfrac{(x-x_{0}) \\cdot \\ldots \\cdot (x-x_{i-1})\\cdot \\color{red}{(x-x_{i})} \\cdot (x-x_{i+1}) \\cdot \\ldots \\cdot (x-x_{n})}\n",
        "{(x_{i}-x_{0}) \\cdot \\ldots \\cdot (x_{i}-x_{i-1}) \\cdot \\color{red}{(x-x_{i})} \\cdot (x_{i}-x_{i+1}) \\cdot \\ldots \\cdot (x_{i}-x_{n})}.\n",
        "\\end{array}$$\n",
        "\n",
        "<font size=4>Denotando o numerador por $N(x)$ e o denominador por $D_{i}(x)$, isto é,\n",
        "$$\\left\\{\\begin{array}{rcl}\n",
        "N(x) & = &(x-x_{0}) \\cdot \\ldots \\cdot (x-x_{i-1})\\cdot (x-x_{i}) \\cdot (x-x_{i+1}) \\cdot \\ldots \\cdot (x-x_{n})\\\\\n",
        "D_{i}(x) & = & (x_{i}-x_{0}) \\cdot \\ldots \\cdot (x_{i}-x_{i-1}) \\cdot {\\color{red}{(x-x_{i})}} \\cdot (x_{i}-x_{i+1}) \\cdot \\ldots \\cdot (x_{i}-x_{n})\n",
        "\\end{array}\\right.$$\n",
        "\n",
        "<font size=4>Temos, então\n",
        "$$L_{i}(x) = \\dfrac{N(x)}{D_{i}(x)}.$$\n",
        "\n",
        "<font size=4>Assim, podemos reescrever, respectivamente, o polinômio interpolador de Lagrange, da seguinte forma:\n",
        "\n",
        "<font size=4>$$p_{n}(x) = \\displaystyle\\sum_{i = 0}^n f(x_{i}) \\cdot L_{i}(x) = \\displaystyle\\sum_{i = 0}^n f(x_{i}) \\cdot \\dfrac{N(x)}{D_{i}(x)} = N(x) \\cdot \\displaystyle\\sum_{i = 0}^n \\dfrac{f(x_{i})}{D_{i}(x)},$$\n",
        "\n",
        "<font size=4>e a cota para o erro:\n",
        "$$E_{\\max}(x) = \\dfrac{|N|}{(n+1)!} \\cdot \\max_{x \\in [a,b]}\\{|f^{(n+1)}(x)|\\}.$$\n",
        "\n",
        "<font size=4>Com o intuito de determinar o valor de um polinômio de interpolação num ponto não tabelado, sem determinar sua expressão, a seguinte tabela pode ser utilizada\n",
        "$$\\begin{array}{|c|c|c|c|c|c|c|c|} \\hline\n",
        "i & & & & & D_{i}(x) & f(x_{i}) & f(x_{i})/D_{i}(x) \\\\ \\hline\n",
        "0 & \\color{red}{(x-x_{0})} & (x_{0}-x_{1}) & \\cdots & (x_{0}-x_{n}) & & & \\\\ \\hline\n",
        "1 & (x_{1}-x_{0}) & \\color{red}{(x-x_{1})} & \\cdots & (x_{1}-x_{n}) & & & \\\\ \\hline\n",
        "\\vdots & \\vdots & \\vdots & \\cdots & \\vdots & & & \\\\ \\hline\n",
        "n & (x_{n}-x_{0}) & (x_{n}-x_{1}) & \\cdots & \\color{red}{(x-x_{n})} & & & \\\\ \\hline\n",
        " & & & & & & & \\displaystyle\\sum f(x_{i})/D_{i}(x) \\\\ \\hline\n",
        "\\end{array}$$"
      ],
      "metadata": {
        "id": "KOB8qZNlpUQr"
      }
    },
    {
      "cell_type": "markdown",
      "source": [
        "## Exemplo:"
      ],
      "metadata": {
        "id": "3Z5ECOO5DN1z"
      }
    },
    {
      "cell_type": "markdown",
      "source": [
        "<font size=4>Usando a tabela de valores dada abaixo, determine uma aproximação para $e^{1,35}$ e calcule uma cota para o erro cometido\n",
        "$$\\begin{array}{c|c|c|c|c}\n",
        "x & 1.0 & 1.2 & 1.4 & 1.6 \\\\ \\hline\n",
        "e^x & 2.718 & 3.320 & 4.055 & 4.953\n",
        "\\end{array}$$"
      ],
      "metadata": {
        "id": "bs9bmwUUplKL"
      }
    },
    {
      "cell_type": "markdown",
      "source": [
        "### Solução:"
      ],
      "metadata": {
        "id": "witxmrVgpwH8"
      }
    },
    {
      "cell_type": "markdown",
      "source": [
        "<font size=4>O processo de determinação é feito através das tabelas a seguir:\n",
        "$$\\begin{array}{c}\n",
        "\\begin{array}{|c|c|c|c|c|c|c|c|} \\hline\n",
        "i & & & & & D_{i}(x) & f(x_{i}) & f(x_{i})/D_{i}(x) \\\\ \\hline\n",
        "0 & \\color{red}{1.35-1.00} & 1.00-1.20 & 1.00-1.40 & 1.00-1.60 & & & \\\\ \\hline\n",
        "1 & 1.20-1.00 & \\color{red}{1.35-1.20} & 1.20-1.40 & 1.20-1.60 & & & \\\\ \\hline\n",
        "2 & 1.40-1.00 & 1.40-1.20 & \\color{red}{1.35-1.40} & 1.40-1.60 & & & \\\\ \\hline\n",
        "3 & 1.60-1.00 & 1.60-1.20 & 1.60-1.40 & \\color{red}{1.35-1.60} & & & \\\\ \\hline\n",
        " & & & & & & & \\displaystyle\\sum f(x_{i})/D_{i}(x) \\\\ \\hline\n",
        "\\end{array}\n",
        "\\\\ \\Downarrow \\\\\n",
        "\\begin{array}{|c|c|c|c|c|c|c|c|} \\hline\n",
        "i & & & & & D_{i}(x) & f(x_{i}) & f(x_{i})/D_{i}(x) \\\\ \\hline\n",
        "0 & \\color{red}{0.35} & -0.20 & -0.40 & -0.60 & -0.0168 & 2.718 & -161.786 \\\\ \\hline\n",
        "1 & 0.20 & \\color{red}{0.15} & -0.20 & -0.40 & 0.0024 & 3.320 & 1383.333 \\\\ \\hline\n",
        "2 & 0.40 & 0.20 & \\color{red}{-0.05} & -0.20 & 0.0008 & 4.055 & 5068.750 \\\\ \\hline\n",
        "3 & 0.60 & 0.40 & 0.20 & \\color{red}{-0.25}  & -0.0120 & 4.953 & -412.750 \\\\ \\hline\n",
        " & & & & & & & 5877.547 \\\\ \\hline\n",
        "\\end{array}\n",
        "\\end{array}$$\n",
        "\n",
        "<font size=4>Portanto,\n",
        "$$N(1.35) = {\\color{red}{ 0.35 \\cdot 0.15 \\cdot (-0.05) \\cdot (-0.25)}} = 0.00065625.$$\n",
        "\n",
        "<font size=4>Logo,\n",
        "$$e^{1.35} \\approx 0.00065625 \\cdot 5877.547 \\approx 3.85714.$$\n",
        "\n",
        "<font size=4>Para estimar o erro obtido ao aplicarmos esse método, observemos que\n",
        "\n",
        "<font size=4>$$f(x) = e^x \\Longrightarrow f^{(4)}(x) = e^{x}.$$\n",
        "e $f^{(4)}(x) = e^{x}$ é uma função crescente no intervalo $[1.0,1.6]$, temos que\n",
        "\n",
        "<font size=4>$$|f^{(4)}(x)| \\leq e^{1.6} \\approx 4.953. \\forall\\ x \\in [1.0,1.6].$$\n",
        "\n",
        "<font size=4>Logo,\n",
        "\n",
        "<font size=4>$$E_{\\max} =  \\dfrac{|N|}{4!} \\cdot 4.953 \\approx 0.000136.$$"
      ],
      "metadata": {
        "id": "7C-HdiYupzOG"
      }
    },
    {
      "cell_type": "markdown",
      "source": [
        "# <font color=green>Código"
      ],
      "metadata": {
        "id": "t4a2_z76YyD5"
      }
    },
    {
      "cell_type": "code",
      "source": [
        "def poli_L(x,T): # T é uma lista de pares ordenados e x é a variável da função L_i(x)\n",
        "    p=0.0 # no início o polinômio interpolador é zero\n",
        "    for i in range(len(T)):\n",
        "        L=1.0 # no início a função de lagrange é 1\n",
        "        for j in range(len(T)):\n",
        "            if j==i: continue # pule o caso j=i\n",
        "            L=L*(x-T[j][0])/(T[i][0]-T[j][0])\n",
        "        p+=T[i][1]*L # T[i][1] são os valores das ordenadas dos nós de interpolação \n",
        "    return p # Retorna o polinômio interpolador p(x)"
      ],
      "metadata": {
        "id": "sq_NjzmQ0b0c"
      },
      "execution_count": null,
      "outputs": []
    },
    {
      "cell_type": "markdown",
      "source": [
        "## Exemplo:"
      ],
      "metadata": {
        "id": "jstyHyoYDevc"
      }
    },
    {
      "cell_type": "markdown",
      "source": [
        "<font size=4>Determine o polinômio que interpola os pontos $(-1,1), (0,1), (1,0)$. Construa o gráfico da função polinomial obtida e marque os nós da interpolação."
      ],
      "metadata": {
        "id": "My8AFfNYDk8m"
      }
    },
    {
      "cell_type": "markdown",
      "source": [
        "### Solução:"
      ],
      "metadata": {
        "id": "RwGaQI12GQfw"
      }
    },
    {
      "cell_type": "code",
      "source": [
        "from pylab import *\n",
        "import sympy as sp\n",
        "\n",
        "t = sp.symbols('t')\n",
        "\n",
        "T=[(-1,1),(0,1),(1,0.0)]\n",
        "Tx = [T[i][0] for i in range(len(T))]\n",
        "Ty = [T[i][1] for i in range(len(T))]\n",
        "\n",
        "p = lambda x: poli_L(x,T) # define o polinomio interpolador p(x)\n",
        "\n",
        "P = p(t).expand()\n",
        "\n",
        "x=linspace(-1,1,150)\n",
        "plot(x,p(x),'r',label='$p(x)=$'+str(P))\n",
        "scatter(Tx,Ty)\n",
        "legend()\n",
        "grid()\n",
        "show()"
      ],
      "metadata": {
        "colab": {
          "base_uri": "https://localhost:8080/",
          "height": 430
        },
        "id": "y4ioRNVZ4Omi",
        "outputId": "a1bdef02-944d-4f64-954d-41471d1b4750"
      },
      "execution_count": null,
      "outputs": [
        {
          "output_type": "display_data",
          "data": {
            "text/plain": [
              "<Figure size 640x480 with 1 Axes>"
            ],
            "image/png": "[encoded data removed]"
          },
          "metadata": {}
        }
      ]
    },
    {
      "cell_type": "markdown",
      "source": [
        "# <font color=green>Exercícios"
      ],
      "metadata": {
        "id": "ppoxdIkvsGN-"
      }
    },
    {
      "cell_type": "markdown",
      "source": [
        "## Questão 01"
      ],
      "metadata": {
        "id": "9wNIORs7GIJJ"
      }
    },
    {
      "cell_type": "markdown",
      "source": [
        "<font size=4>Determine, em cada caso, $p_3(1.5)$, sabendo que o gráfico de $p_3$ passa pelos pontos:\n",
        "\n",
        ">- (a) $(0,1)$, $(1,2)$, $(2,3)$, $(3,0)$;\n",
        ">- (b) $(-1,1)$, $(0,5)$, $(2,-1)$, $(3,4)$."
      ],
      "metadata": {
        "id": "9-CMalBEsNLF"
      }
    },
    {
      "cell_type": "markdown",
      "source": [
        "## Questão 02"
      ],
      "metadata": {
        "id": "o1_A19TCGmjU"
      }
    },
    {
      "cell_type": "markdown",
      "source": [
        "<font size=4>Determine, utilizando o código feito, o polinômio $p_3$ de grau 3 que interpola os pontos $(0,f(0))$, $(1,f(1))$, $(2,f(2))$ e $(3,f(3))$, sabendo que $f(x) = \\ln(\\sec(x)+\\tan(x))$."
      ],
      "metadata": {
        "id": "X03W2z55Go3G"
      }
    },
    {
      "cell_type": "markdown",
      "source": [
        "## Questão 03"
      ],
      "metadata": {
        "id": "Dk0dijykGx9w"
      }
    },
    {
      "cell_type": "markdown",
      "source": [
        "<font size=4>O grau Fahrenheit (ºF) é uma escala de temperatura tal que:\n",
        "\n",
        "* <font size=4>o ponto de fusão da água é de 32 ºF (equivalente a 0 ºC) e\n",
        "* <font size=4>o ponto de ebulição da água é de 212 ºF (equivalente a 100 ºC).\n",
        "\n",
        "<font size=4>Utilizando o método de Lagrange para interpolação linear, calcule a relação entre grau Fahrenheit e\n",
        "grau Celsius."
      ],
      "metadata": {
        "id": "BKkN3N22G20j"
      }
    },
    {
      "cell_type": "markdown",
      "source": [
        "## Questão 04"
      ],
      "metadata": {
        "id": "ok9XJ8_DG-Y6"
      }
    },
    {
      "cell_type": "markdown",
      "source": [
        "<font size=4>Um biólogo precisa realizar vários experimentos em uma cobaia, calculando sua resposta a certos estímulos. Tanto a resposta como os estímulos podem ser convertidos para um número real. De acordo com teorias, a resposta tem uma relação aproximadamente quadrática em relação ao estímulo fornecido. Os dados já obtidos foram:\n",
        "\n",
        "<font size=4>$$(1.0, 3.0), (2.0, 5.0) \\mbox{ e } (3.0, 3.0).$$\n",
        "\n",
        ">- <font size=4>(a) Calcule o valor esperado para o estímulo medido como $3.5$ (sugestão: utilize o algoritmo criado para interpolar pontos).\n",
        ">- <font size=4>(b) Construa um código que plote uma figura onde aparecem os $4$ pontos desta questão e o gráfico da função interpoladora. "
      ],
      "metadata": {
        "id": "Ws1_YH35HDYQ"
      }
    },
    {
      "cell_type": "markdown",
      "source": [
        "## Questão 05"
      ],
      "metadata": {
        "id": "RpEty1T6HtBo"
      }
    },
    {
      "cell_type": "markdown",
      "source": [
        "<font size=4>Um tanque com capacidade para $10𝑚^3$ de água, inicialmente completamente cheio (tempo $𝑡 = 0$), está sendo esvaziado com uma velocidade que varia linearmente com o tempo (logo o volume varia de forma quadrática). Constata-se que o tanque está com $8𝑚^3$ em $𝑡 = 1$ min e com $4𝑚^3$ em $𝑡 = 2$ min. Utilizando interpolação de Lagrange, calcule o instante de tempo em que o tanque estará vazio."
      ],
      "metadata": {
        "id": "ydKw_NbDHPny"
      }
    }
  ]
}