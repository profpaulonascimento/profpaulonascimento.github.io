{
  "nbformat": 4,
  "nbformat_minor": 0,
  "metadata": {
    "colab": {
      "provenance": [],
      "authorship_tag": "ABX9TyPXZoY7zaGMF3PLhKpYHEB0"
    },
    "kernelspec": {
      "name": "python3",
      "display_name": "Python 3"
    },
    "language_info": {
      "name": "python"
    }
  },
  "cells": [
    {
      "cell_type": "markdown",
      "source": [
        "<div class=\"logo\">\n",
        "  <a href=\"https://colab.research.google.com/github/profpaulonascimento/gcet059/blob/main/gcet059_integracao_38simpson.ipynb\">\n",
        "    <img src=\"https://colab.research.google.com/assets/colab-badge.svg\" alt=\"Open In Colab\"></a>\n",
        "</div>"
      ],
      "metadata": {
        "id": "FsPKGdzD7V1x"
      }
    },
    {
      "cell_type": "markdown",
      "source": [
        "# <font color=green> MÉTODO 3/8 DE SIMPSON"
      ],
      "metadata": {
        "id": "zlpHbfevG6Js"
      }
    },
    {
      "cell_type": "markdown",
      "source": [
        "## Dedução do método"
      ],
      "metadata": {
        "id": "bsXv5yf2_GTr"
      }
    },
    {
      "cell_type": "markdown",
      "source": [
        "<font size=4>A regra de 3/8 de Simpson é uma técnica de integração numérica que aproxima a integral de uma função $f(x)$ no intervalo $[a,b]$ por uma fórmula envolvendo o valor da função em quatro pontos igualmente espaçados nesse intervalo.\n",
        "\n",
        "<font size=4>A dedução da fórmula de 3/8 de Simpson pode ser feita por meio da interpolação polinomial de Lagrange de terceira ordem para a função $f(x)$ nos pontos $x_0 = a$, $x_1 = a+h$, $x_2 = a+2h$ e $x_3 = b$.\n",
        "\n",
        "<font size=4>O polinômio interpolador resultante é dado por:\n",
        "\n",
        "<font size=4>\n",
        "\\begin{eqnarray}\n",
        "p(x) = f(x_0)\\cdot L_0(x) + f(x_1)\\cdot L_1(x) + f(x_2)\\cdot L_2(x) + f(x_3)\\cdot L_3(x),\n",
        "\\end{eqnarray}\n",
        "\n",
        "<font size=4>em que $L_0(x)$, $L_1(x)$, $L_2(x)$ e $L_3(x)$ são os polinômios de Lagrange de segunda ordem para os pontos $x_0$, $x_1$, $x_2$ e $x_3$, respectivamente. \n",
        "\n",
        "<font size=4>Considerando que $x_3-x_2=x_2-x_1=x_1-x_0=h$ e que $z= \\dfrac{x - x_0}{h}$ e , consequentemente, $z-1= \\dfrac{x-x_1}{h}$, $z-2= \\dfrac{x-x_2}{h}$ e $z-3= \\dfrac{x-x_3}{h}$,\n",
        "esses polinômios são dados por:\n",
        "$$\\begin{array}{rcl}\n",
        "L_0(x)\n",
        "&=& \\dfrac{(x-x_1)(x-x_2)(x-x_3)}{(x_0-x_1)(x_0-x_2)(x_0-x_3)}\n",
        "= \\dfrac{(h(z-1))(h(z-2))(h(z-3))}{(-h)(-2h)(-3h)} \\\\\n",
        "&=& \\dfrac{h^3(z^{3} - 6 z^{2} + 11 z - 6)}{-6h^3}\n",
        "= \\dfrac{z^{3} - 6 z^{2} + 11 z - 6}{-6} \\\\\n",
        "\\\\\n",
        "L_1(x)\n",
        "&=& \\dfrac{(x-x_0)(x-x_2)(x-x_3)}{(x_1-x_0)(x_1-x_2)(x_1-x_3)}\n",
        "= \\dfrac{(hz)(h(z-2))(h(z-3))}{(h)(-h)(-2h)} \\\\\n",
        "&=& \\dfrac{h^3(z^{3} - 5 z^{2} + 6 z)}{2h^3}\n",
        "= \\dfrac{z^{3} - 5 z^{2} + 6 z}{2}\n",
        "\\\\ \\\\\n",
        "L_2(x)\n",
        "&=& \\dfrac{(x-x_0)(x-x_1)(x-x_3)}{(x_2-x_0)(x_2-x_1)(x_2-x_3)}\n",
        "= \\dfrac{(hz)(h(z-1))(h(z-z_3))}{(2h)(h)(-h)} \\\\\n",
        "&=& \\dfrac{h^3(z^{3} - 4 z^{2} + 3 z)}{-2h^3}\n",
        "= \\dfrac{z^{3} - 4 z^{2} + 3 z}{-2}\n",
        "\\\\ \\\\\n",
        "L_3(x)\n",
        "&=& \\dfrac{(x-x_0)(x-x_1)(x-x_2)}{(x_3-x_0)(x_3-x_1)(x_3-x_2)}\n",
        "= \\dfrac{(hz)(h(z-1))(h(z-2))}{(3h)(2h)(h)} \\\\\n",
        "&=& \\dfrac{h^3(z^{3} - 3 z^{2} + 2 z)}{6h^3} \n",
        "= \\dfrac{z^{3} - 3 z^{2} + 2 z}{6} \n",
        "\\end{array}$$\n",
        "\n",
        "<font size=4>A integral de $f(x)$ no intervalo $[a,b]$ pode ser aproximada pela integral do polinômio interpolador $p_3(x)$ no mesmo intervalo.\n",
        "\n",
        "<font size=4>Portanto,\n",
        "$$\\begin{array}{rcl}\n",
        "\\displaystyle\\int_{a}^{b} f(x)~dx &\\approx&\n",
        "  f(x_0) \\displaystyle\\int_{0}^{3} \\dfrac{z^{3} - 6 z^{2} + 11 z - 6}{-6} h~dz \\\\\n",
        "&& + f(x_1) \\displaystyle\\int_{0}^{3} \\dfrac{z^{3} - 5 z^{2} + 6 z}{2} h~dz \\\\\n",
        "&& + f(x_2) \\displaystyle\\int_{0}^{3} \\dfrac{z^{3} - 4 z^{2} + 3 z}{-2} h~dz \\\\\n",
        "&& + f(x_3) \\displaystyle\\int_{0}^{3} \\dfrac{z^{3} - 3 z^{2} + 2 z}{6} h~dz\n",
        "\\\\ \\\\\n",
        "&=&  -f(x_0) \\dfrac{h}{6} \\left[\\dfrac{z^{4}}{4} - 6 \\dfrac{z^{3}}{3} + 11 \\dfrac{z^{2}}{2} - 6z \\right|_{0}^{3} \\\\\n",
        "&& + f(x_1) \\dfrac{h}{2} \\left[\\dfrac{z^{4}}{4} - 5 \\dfrac{z^{3}}{3} + 6 \\dfrac{z^{2}}{2} \\right|_{0}^{3} \\\\\n",
        "&& - f(x_2) \\dfrac{h}{2} \\left[\\dfrac{z^{4}}{4} - 4 \\dfrac{z^{2}}{3} + 3 \\dfrac{z^{2}}{2} \\right|_{0}^{3} \\\\\n",
        "&& + f(x_3) \\dfrac{h}{6} \\left[\\dfrac{z^{4}}{4} - 3 \\dfrac{z^{3}}{3} + 2 \\dfrac{z^{2}}{2} \\right|_{0}^{3}\n",
        "\\\\ \\\\\n",
        "&=& - f(x_0) \\dfrac{h}{6} \\left(\\dfrac{-9}{4}\\right) + f(x_1) \\dfrac{h}{2} \\left(\\dfrac{9}{4}\\right) - f(x_2) \\dfrac{h}{2} \\left(\\dfrac{-9}{4}\\right) + f(x_3) \\dfrac{h}{6} \\left(\\dfrac{9}{4}\\right) \\\\\n",
        "&=&\n",
        "\\dfrac{3}{8} h [f(x_0)+3f(x_1)+3f(x_2)+f(x_3)]\n",
        "\\end{array}$$\n",
        "\n",
        "<font size=4>Assim, a integral de $f(x)$ no intervalo $[a,b]$ pode ser aproximada pela seguinte fórmula:\n",
        "$$\n",
        "\\displaystyle\\int_{a}^{b} f(x)~dx \\approx \\dfrac{3}{8} h [f(x_0)+3f(x_1)+3f(x_2)+f(x_3)],\n",
        "$$\n",
        "em que $h = \\dfrac{b-a}{3}$ é o tamanho de cada subintervalo."
      ],
      "metadata": {
        "id": "wFCwJrLLLPqK"
      }
    },
    {
      "cell_type": "markdown",
      "source": [
        "## Código"
      ],
      "metadata": {
        "id": "AoIsiu0N_eCE"
      }
    },
    {
      "cell_type": "code",
      "source": [
        "import numpy as np\n",
        "\n",
        "def simpson38(a,b,f):\n",
        "    h = (b-a)/3\n",
        "    x = np.linspace(a,b,4)\n",
        "    return 3/8*h*(f(x[0])+3*(f(x[1])+f(x[2]))+f(x[3]))"
      ],
      "metadata": {
        "id": "ounObPgDFTFd"
      },
      "execution_count": 5,
      "outputs": []
    },
    {
      "cell_type": "markdown",
      "source": [
        "## Cota para o erro no método de 3/8 Simpson"
      ],
      "metadata": {
        "id": "rR25G3K8jr-2"
      }
    },
    {
      "cell_type": "markdown",
      "source": [
        "<font size=4>O Método 3/8 de Simpson tem cota estabelecida pela seguinte fórmula:\n",
        "\\begin{equation}\n",
        "\\dfrac{3}{80} h^5 \\max\\limits_{x \\in [a,b]} \\{|f^{(4)}(x)|\\},\n",
        "\\end{equation}\n",
        "em que $m$ é o número, múltiplo de $3$, de subintervalos de mesmo comprimento $h = \\dfrac{b-a}{3}$.\n",
        "\n",
        "<font size=4>Assim, o erro $E_{3/8}$ é tal que\n",
        "\\begin{equation}\n",
        "|E_{3/8}| < \\dfrac{3}{80} h^5 \\max\\limits_{x \\in [a,b]} \\{|f^{(4)}(x)|\\}\n",
        "\\end{equation}"
      ],
      "metadata": {
        "id": "A2JVjxZiEKDa"
      }
    },
    {
      "cell_type": "markdown",
      "source": [
        "## Exemplo"
      ],
      "metadata": {
        "id": "fQHmb7gxCZXo"
      }
    },
    {
      "cell_type": "markdown",
      "source": [
        "<font size=4> Determine\n",
        "$$\\displaystyle \\int_{1.2}^{1.5} x e^{x}~dx,$$\n",
        "\n",
        "> - <font size=4>(a) utilizando a regra 3/8 de Simpson;\n",
        "> - <font size=4>(b) a cota para o erro;\n",
        "> - <font size=4>(c) o erro absoluto."
      ],
      "metadata": {
        "id": "fYxBduC_DPml"
      }
    },
    {
      "cell_type": "markdown",
      "source": [
        "### Solução:"
      ],
      "metadata": {
        "id": "MxV65CXltadx"
      }
    },
    {
      "cell_type": "markdown",
      "source": [
        "<font size=4>(a) Devemos informar qual a função que queremos integrar e os limites de integração podem ser inseridos como argumentos. Para isso, utilizaremos o método `lambda`. Em seguida, chamaremos a função `simpson38(a,b,f)`, substituindo os devidos valores de `a`e `b`, para obter a aproximação requerida."
      ],
      "metadata": {
        "id": "T09wTQaQA3Ir"
      }
    },
    {
      "cell_type": "code",
      "source": [
        "f = lambda x: x*np.exp(x)\n",
        "\n",
        "v_approx1 = simpson38(1.2,1.5,f)\n",
        "v_approx1"
      ],
      "metadata": {
        "colab": {
          "base_uri": "https://localhost:8080/"
        },
        "id": "3eE1qTAVASSE",
        "outputId": "6ed54f39-c9cd-495e-f315-9fda0144ff56"
      },
      "execution_count": 11,
      "outputs": [
        {
          "output_type": "execute_result",
          "data": {
            "text/plain": [
              "1.5768289041470118"
            ]
          },
          "metadata": {},
          "execution_count": 11
        }
      ]
    },
    {
      "cell_type": "markdown",
      "source": [
        "(b) Para determinar a cota para o erro, vamos, iniciamente, determinar:\n",
        "\\begin{equation}\n",
        "\\max\\limits_{x \\in [a,b]} \\{|f^{(4)}(x)|\\}.\n",
        "\\end{equation}\n",
        "para isso, precisamos verificar o sinal da função $f^{(4)}$ em vizinhanças dos pontos críticos, caso existam. Caso, não exista ponto crítico, a função $f^{(4)}$ será monótona crescente ou decrescente.\n",
        "\n"
      ],
      "metadata": {
        "id": "2zvGi2wLEYHC"
      }
    },
    {
      "cell_type": "code",
      "source": [
        "import sympy as sp\n",
        "\n",
        "x = sp.symbols('x')\n",
        "a=1.2; b=1.5; h = (b-a)/3\n",
        "print(sp.Derivative(x*sp.exp(x),x,5).doit())"
      ],
      "metadata": {
        "colab": {
          "base_uri": "https://localhost:8080/"
        },
        "id": "0w4IL1XrEhS9",
        "outputId": "7d2b3557-8c9c-4455-f55a-f1f1becd26be"
      },
      "execution_count": 23,
      "outputs": [
        {
          "output_type": "stream",
          "name": "stdout",
          "text": [
            "(x + 5)*exp(x)\n"
          ]
        }
      ]
    },
    {
      "cell_type": "markdown",
      "source": [
        "<font size=4>Observamos que\n",
        "* $f^{(5)}(x) = 0 \\implies x = -5$, o ponto crítico de $f^{(4)}$.\n",
        "\n",
        "<font size=4>Além disso,\n",
        "* $f^{(5)}(x)<0$, se $x<-5$, ou seja, $f^{(4)}$ é decrescente em $]-\\infty,-5[$ e\n",
        "* $f^{(5)}(x)>0$, se $x>-5$, ou seja, $f^{(4)}$ é crescente em $]-5,\\infty[$.\n",
        "\n",
        "<font size=4>Portanto, o ponto crítico da função $f^{(4)}$ é mínimo e, dessa forma, como o máximo da função $f^{(4)}$ é para ser determinado localmente, no intervalo $[1.2,1.5]$, temos que $f^{(4)}$ assume valor máximo em $1.5$.\n",
        "\n",
        "<font size=4>Os comandos a seguir mostram o que fora aqui discutido."
      ],
      "metadata": {
        "id": "CtuslfcuKu-d"
      }
    },
    {
      "cell_type": "code",
      "source": [
        "f4 = sp.Derivative(x*sp.exp(x),x,4).doit()\n",
        "f4_max = f4.subs(x,1.5)\n",
        "print(f4_max)"
      ],
      "metadata": {
        "colab": {
          "base_uri": "https://localhost:8080/"
        },
        "id": "6TN0ClCzKnFg",
        "outputId": "e926e85b-099a-4a53-a585-a361d414b433"
      },
      "execution_count": 45,
      "outputs": [
        {
          "output_type": "stream",
          "name": "stdout",
          "text": [
            "24.6492898868594\n"
          ]
        }
      ]
    },
    {
      "cell_type": "markdown",
      "source": [
        "<font size=4>Agora, basta substituir o valor em\n",
        "\\begin{equation}\n",
        "\\dfrac{3}{80} h^5 \\max\\limits_{x \\in [a,b]} \\{|f^{(4)}(x)|\\},\n",
        "\\end{equation}"
      ],
      "metadata": {
        "id": "_vqcirWDO6IO"
      }
    },
    {
      "cell_type": "code",
      "source": [
        "round(3*h**5/80*f4_max,10)"
      ],
      "metadata": {
        "colab": {
          "base_uri": "https://localhost:8080/",
          "height": 37
        },
        "id": "bgxTNsNePBiJ",
        "outputId": "5ed9fa23-aa20-41c6-cecb-b81240a559d3"
      },
      "execution_count": 27,
      "outputs": [
        {
          "output_type": "execute_result",
          "data": {
            "text/plain": [
              "9.2435e-6"
            ],
            "text/latex": "$\\displaystyle 9.2435 \\cdot 10^{-6}$"
          },
          "metadata": {},
          "execution_count": 27
        }
      ]
    },
    {
      "cell_type": "markdown",
      "source": [
        "<font size=4>(c) Para o valor exato da integral, consideraremos o valor obtido pelo método de integração `sympy integrate`, da seguinte maneira:"
      ],
      "metadata": {
        "id": "4bwSQMkRCTwP"
      }
    },
    {
      "cell_type": "code",
      "source": [
        "v_exato1 = sp.integrate(x*sp.exp(x),(x,1.2,1.5))\n",
        "round(abs(v_approx1-v_exato1),10)"
      ],
      "metadata": {
        "colab": {
          "base_uri": "https://localhost:8080/",
          "height": 37
        },
        "id": "DjNZl7zEFFYa",
        "outputId": "36c676e0-31ae-481f-86e9-901acef7d9c6"
      },
      "execution_count": 46,
      "outputs": [
        {
          "output_type": "execute_result",
          "data": {
            "text/plain": [
              "7.7535e-6"
            ],
            "text/latex": "$\\displaystyle 7.7535 \\cdot 10^{-6}$"
          },
          "metadata": {},
          "execution_count": 46
        }
      ]
    },
    {
      "cell_type": "markdown",
      "source": [
        "# <font color = green> MÉTODO 3/8 de SIMPSON COMPOSTO"
      ],
      "metadata": {
        "id": "XFJaIrdaGY12"
      }
    },
    {
      "cell_type": "markdown",
      "source": [
        "## Dedução do Método"
      ],
      "metadata": {
        "id": "r075mTHFaGF6"
      }
    },
    {
      "cell_type": "markdown",
      "source": [
        "<font size=4 align = justify>Vamos, agora, determinar a fórmula do método 3/8 de Simpson Acumulado para o intervalo $[a, b]$. Para isso, é necessário que tenhamos uma subdivisão do intervalo $[a, b]$ em um número de subintervalos divisível por $3$, ou seja, $m = 3k$, com $k \\in \\mathbb{N}$.\n",
        "\n",
        "<font size=4>Fazendo $h = \\dfrac{b-a}{m} \\therefore x_{i} = a + ih$, em que $i = 0, 1, \\ldots, m$. Observe, neste caso, que temos $m + 1$ pontos $(x_{i}, f_{i})$, $i = 0, \\ldots, m$. Como\n",
        "$$I_{i} = \\dfrac{3}{8} h (f_{3i} + 3 f_{3i+1} + 3 f_{3i+2} + f(3i+3),$$\n",
        "\n",
        "<font size=4>Atribuindo valores a $i$\n",
        "$$\\begin{array}{rcl}\n",
        "i = 0 &\\implies& I_{0} = \\dfrac{3}{8} h \\left(f_{0} + 3f_{1} + 3f_{2} + f_{3}\\right) \\\\\n",
        "i = 1 &\\implies& I_{1} = \\dfrac{3}{8} h \\left(f_{3} + 3f_{4} + 3f_{5} + f_{6}\\right) \\\\\n",
        "i = 2 &\\implies& I_{2} = \\dfrac{3}{8} h \\left(f_{6} + 3f_{7} + 3f_{8} + f_{9}\\right) \\\\\n",
        "&\\vdots& \\\\\n",
        "i = j &\\implies& I_{j} = \\dfrac{3}{8} h \\left(f_{3j} + 3f_{3j+1} + f_{3j+2} + f_{3j+3} \\right) \\\\\n",
        "&\\vdots& \\\\\n",
        "i = (m-3)/3 &\\implies& \\qquad \\quad \\dfrac{3}{8} h \\left(f_{m-3} + 3f_{m-2} + 3f_{m-1} + f_{m} \\right)\n",
        "\\end{array}$$\n",
        "\n",
        "<font size=4>A soma de todas as parcelas acima é:\n",
        "$$\n",
        "= \\dfrac{3}{8} h \\left[\n",
        "(f_{0} + 3f_{1} + 3f_{2} + f_{3}) +\n",
        "(f_{3} + 3f_{4} + 3f_{5} + f_{6}) +\n",
        "(f_{6} + 3f_{7} + 3f_{8} + f_{9}) + \\cdots +\n",
        "(f_{m-3} + 3f_{m-2} + 3f_{m-1} + f_{m})\n",
        "\\right]\n",
        "$$\n",
        "\n",
        "<font size=4>Observando que os valores de $f$ com índice divisível por $3$, excetuando-se os índices $0$ e $m$, aparecem sempre duplicados, teremos:\n",
        "$$I = \\dfrac{3}{8}h \\left[(f_{0} + f_{m}) + 2 \\sum_{i = 1}^{\\frac{m-3}{3}} f_{3i} + 3 \\left(\\sum_{i=1}^{\\frac{m-3}{3}} f_{3i+1} + \\sum_{i=1}^{\\frac{m-3}{3}} f_{3i+2}\\right)\\right].$$"
      ],
      "metadata": {
        "id": "LokMPFykGfcY"
      }
    },
    {
      "cell_type": "markdown",
      "source": [
        "## Exemplo"
      ],
      "metadata": {
        "id": "okA3_mz_K7Lj"
      }
    },
    {
      "cell_type": "markdown",
      "source": [
        "<font size=4>Resolva o exemplo anterior utilizando a regra 3/8 de Simpson com a divisão do intervalo em 12 partes iguais"
      ],
      "metadata": {
        "id": "8eCezrj1K-Ct"
      }
    },
    {
      "cell_type": "markdown",
      "source": [
        "## Solução:"
      ],
      "metadata": {
        "id": "iI3Th87DVlR3"
      }
    },
    {
      "cell_type": "code",
      "source": [
        "import numpy as np\n",
        "a=1.2\n",
        "b=1.5\n",
        "m=12\n",
        "x = np.linspace(a,b,m+1)\n",
        "f = lambda x: x*np.exp(x)\n",
        "len(x)"
      ],
      "metadata": {
        "colab": {
          "base_uri": "https://localhost:8080/"
        },
        "id": "OOpmLKdyN_EY",
        "outputId": "57a2ceaa-d7f4-4e07-e13d-8ffd92ebccda"
      },
      "execution_count": null,
      "outputs": [
        {
          "output_type": "execute_result",
          "data": {
            "text/plain": [
              "13"
            ]
          },
          "metadata": {},
          "execution_count": 15
        }
      ]
    },
    {
      "cell_type": "code",
      "source": [
        "def simpson38(x0,xm,m):\n",
        "    h = (xm-x0)/m\n",
        "    integral = f(x0)+f(xm)\n",
        "\n",
        "    for i in range(1,m):\n",
        "        j = x0+i*h\n",
        "        if i % 3 == 0:\n",
        "            integral += 2*f(j)\n",
        "        else:\n",
        "            integral += 3*f(j)\n",
        "    integral = integral *3*h/8\n",
        "    return integral"
      ],
      "metadata": {
        "id": "nCN_G95iKxIx"
      },
      "execution_count": null,
      "outputs": []
    },
    {
      "cell_type": "code",
      "source": [
        "# calcular o valor exato da integral\n",
        "\n",
        "import sympy as sp\n",
        "\n",
        "t = sp.symbols('t')\n",
        "f = lambda t: t*sp.exp(t)\n",
        "\n",
        "sp.integrate(f(t),(t,1.2,1.5))"
      ],
      "metadata": {
        "id": "DrO1YoHWSkfJ",
        "colab": {
          "base_uri": "https://localhost:8080/",
          "height": 37
        },
        "outputId": "1dcb1588-272a-4d3a-85cf-cf69182bfc99"
      },
      "execution_count": null,
      "outputs": [
        {
          "output_type": "execute_result",
          "data": {
            "text/plain": [
              "1.57682115062172"
            ],
            "text/latex": "$\\displaystyle 1.57682115062172$"
          },
          "metadata": {},
          "execution_count": 21
        }
      ]
    },
    {
      "cell_type": "markdown",
      "source": [],
      "metadata": {
        "id": "IKEFdQcChZgj"
      }
    },
    {
      "cell_type": "markdown",
      "source": [
        "## Cota para o erro no método de 3/8 Simpson composto"
      ],
      "metadata": {
        "id": "V_4UwjU3aNt4"
      }
    },
    {
      "cell_type": "markdown",
      "source": [
        "<font size=4>O Método 3/8 de Simpson Acumulado tem cota estabelecida pela seguinte fórmula:\n",
        "\\begin{equation}\n",
        "\\dfrac{3m}{80} h^5 \\max\\limits_{x \\in [a,b]} \\left\\{\\left|f^{(4)}(x)\\right|\\right\\},\n",
        "\\end{equation}\n",
        "em que $m$ é o número, múltiplo de $3$, de subintervalos de mesmo comprimento $h = \\dfrac{b-a}{3}$.\n",
        "\n",
        "<font size=4>Assim, o erro $E_{3/8}$ é tal que\n",
        "\\begin{equation}\n",
        "|E_{3/8}| < \\dfrac{3m}{80} h^5 \\max\\limits_{x \\in [a,b]} \\left\\{\\left|f^{(4)}(x)\\right|\\right\\}.\n",
        "\\end{equation}\n"
      ],
      "metadata": {
        "id": "1wUDrpjKabyO"
      }
    },
    {
      "cell_type": "markdown",
      "source": [
        "## Exemplo"
      ],
      "metadata": {
        "id": "0jk0zdVBpNJT"
      }
    },
    {
      "cell_type": "markdown",
      "source": [
        "<font size=4>Determine\n",
        "$$\\displaystyle\\int_{-2}^{2} \\dfrac{x^2}{5} + 2\\sin(2x)~dx$$\n",
        "utilizando a regra 3/8 de Simpson com 6 subintervalos. Em seguida, estime o erro."
      ],
      "metadata": {
        "id": "zsdTofhLpSBY"
      }
    },
    {
      "cell_type": "code",
      "source": [],
      "metadata": {
        "id": "4LmIndt8pMQG"
      },
      "execution_count": null,
      "outputs": []
    },
    {
      "cell_type": "markdown",
      "source": [
        "# <font color=green>TEOREMA GERAL DO ERRO"
      ],
      "metadata": {
        "id": "Ilha-9AiXcp5"
      }
    },
    {
      "cell_type": "markdown",
      "source": [
        "<font size=4>Apresentaremos, aqui, o enunciado do teorema geral do erro para as fórmulas de Newton-Cotes sem demonstrá-la.\n",
        "\n",
        "<font size=4>Seja $p_{n}$ o polinômio que interpola nos $n+1$ pontos $(x_{i},f(x_{i}))$, com $0 \\le i \\le n$, em que $f$ é uma função derivável até ordem $n+2$, com estas derivadas contínuas em $[a,b]$. Então\n",
        "\n",
        "* <font size=4>caso $n$ seja ímpar:\n",
        "$$E_{n} = \\dfrac{h^{n+2} f^{(n+1)}(\\xi)}{(n+1)!} \\displaystyle\\int_{0}^n \\prod_{i = 0}^{n} (u-i) du, \\xi \\in [a,b]$$\n",
        "\n",
        "* <font size=4>caso $n$ seja par:\n",
        "$$E_{n} = \\dfrac{h^{n+3} f^{(n+2)}(\\xi)}{(n+2)!} \\displaystyle\\int_{0}^n \\left(u - \\dfrac{n}{2}\\right) \\prod_{i = 0}^{n} (u-i) du, \\xi \\in [a,b].$$"
      ],
      "metadata": {
        "id": "cgyQmkc-YOcs"
      }
    },
    {
      "cell_type": "markdown",
      "source": [
        "# <font color=green>EXERCÍCIOS"
      ],
      "metadata": {
        "id": "Yb9x1D8sU4Mr"
      }
    },
    {
      "cell_type": "markdown",
      "source": [
        "### Questão 01"
      ],
      "metadata": {
        "id": "VOABtisuU7pr"
      }
    },
    {
      "cell_type": "markdown",
      "source": [
        "<font size=4>Determine uma aproximação para\n",
        "$$\\displaystyle\\int_{0}^{1.2} e^{x} \\cos(2x)\\ dx$$\n",
        "utilizando o método 3/8 de Simpson com 12 subdivisões do intervalo de integração."
      ],
      "metadata": {
        "id": "hC_q9lqZVCEb"
      }
    }
  ]
}