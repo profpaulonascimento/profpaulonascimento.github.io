{
  "nbformat": 4,
  "nbformat_minor": 0,
  "metadata": {
    "colab": {
      "provenance": [],
      "toc_visible": true,
      "mount_file_id": "1kuczTBWXGM9-yNFJxi5FCMyn-vxzpz2M",
      "authorship_tag": "ABX9TyNB7cxAQ9z/zzJDLjG45sFo"
    },
    "kernelspec": {
      "name": "python3",
      "display_name": "Python 3"
    },
    "language_info": {
      "name": "python"
    }
  },
  "cells": [
    {
      "cell_type": "markdown",
      "source": [
        "<div class=\"logo\">\n",
        "  <a href=\"https://colab.research.google.com/github/profpaulonascimento/gcet059/blob/main/gcet059_integracao_trapezios.ipynb\">\n",
        "    <img src=\"https://colab.research.google.com/assets/colab-badge.svg\" alt=\"Open In Colab\"></a>\n",
        "</div>"
      ],
      "metadata": {
        "id": "Ym2iAuT6bRfD"
      }
    },
    {
      "cell_type": "markdown",
      "source": [
        "# <font color=green> INTRODUÇÃO"
      ],
      "metadata": {
        "id": "P2yaNCsDGbMN"
      }
    },
    {
      "cell_type": "markdown",
      "source": [
        "<font size=4>Vimos, em cursos de Cálculo Diferencial e Integral, que o valor da integral definida de uma função $f$, contínua no intervalo $[a, b]$, pode ser determinada através da fórmula de Newton-Leibnitz\n",
        "$$\\displaystyle\\int_{a}^{b} f(x)~dx = F(b) - F(a),$$\n",
        "desde que a primitiva $F$ da função $f$ seja conhecida e que um dos métodos de integração a resolva.\n",
        "\n",
        "<font size=4>Em muitos casos é difícil ou às vezes até impossível determinarmos a primitiva de $f$. Portanto, nosso objetivo aqui é o de estudar métodos numéricos de integração na determinação de aproximações para os valores das integrais definidas através dos valores da imagem da função do integrando para valores uniformemente espaçados de seu domínio. Mais especificamente, os métodos de Newton-Côtes, em que utilizam polinômios interpoladores da função do integrando para obter tal aproximação."
      ],
      "metadata": {
        "id": "dI6FN7vkGf85"
      }
    },
    {
      "cell_type": "markdown",
      "source": [
        "## Integração Numérica Polinomial"
      ],
      "metadata": {
        "id": "h2dqs7DpJcYQ"
      }
    },
    {
      "cell_type": "markdown",
      "source": [
        "<font size=4>Neste método numérico de integração, a aproximação para o problema de determinação da integral definida é feita através da substituição do integrando $f$ por um polinômio $p_{n}$ de grau $n$ suficientemente próximo, ou seja,\n",
        "$$|f(x)-p_{n}(x)| < \\varepsilon,\\ x \\in [a,b].$$"
      ],
      "metadata": {
        "id": "6c0e-RMdIVCM"
      }
    },
    {
      "cell_type": "markdown",
      "source": [
        "# <font color=green> MÉTODO DO TRAPÉZIO"
      ],
      "metadata": {
        "id": "ipoMLOJRJ2HI"
      }
    },
    {
      "cell_type": "markdown",
      "source": [
        "<font size=4>Seja\n",
        "$$I = \\displaystyle\\int_a^b f(x)~dx.$$\n",
        "Queremos substituir a função $f$ por um polinômio interpolador de grau $1$ (uma aproximação para $f$).\n",
        "\n",
        "<font size=4>Assim, por Lagrange, temos que\n",
        "$$\\begin{array}{rcl}\n",
        "p_{1}(x)\n",
        "&=& y_{0} \\cdot L_{0}(x) + y_{1} \\cdot L_{1}(x) \\\\ \\\\\n",
        "&=& f(x_{0}) \\cdot \\dfrac{x-x_{1}}{x_{0}-x_{1}} + f(x_{1}) \\cdot \\dfrac{x-x_{0}}{x_{1}-x_{0}}.\n",
        "\\end{array}$$\n",
        "\n",
        "<font size=4> Fazendo\n",
        "$$\\begin{array}{rcl}\n",
        "a &=& x_{0} \\\\ \\\\\n",
        "b &=& x_{1} \\\\ \\\\\n",
        "h &=& x_{1}-x_{0} \\\\ \\\\\n",
        "z &=& \\dfrac{x-x_{0}}{h},\n",
        "\\end{array}$$\n",
        "temos,\n",
        "$$z-1 = \\dfrac{x-x_{0}}{h} - 1 = \\dfrac{x-x_{0}-h}{h} = \\dfrac{x-x_{1}}{h}$$\n",
        "e\n",
        "$$dx = h~dz.$$\n",
        "\n",
        "<font size=4>Segue que\n",
        "$$\\begin{array}{rcl}\n",
        "I &=& \\displaystyle\\int_a^b f(x)~dx\n",
        "\\approx \\displaystyle\\int_{x_{0}}^{x_{1}} p_{1}(x)~dx \\\\[0.5cm]\n",
        "&=& \\displaystyle\\int_{x_{0}}^{x_{1}} \\left[f(x_{0}) \\cdot \\dfrac{x-x_{1}}{x_{0}-x_{1}} + f(x_{1}) \\cdot \\dfrac{x-x_{0}}{x_{1}-x_{0}}\\right]~dx \\\\ \\\\\n",
        "&=& \\displaystyle\\int_{x_{0}}^{x_{1}} \\left[f(x_{0}) \\cdot \\dfrac{x-x_{1}}{-h} + f(x_{1}) \\cdot \\dfrac{x-x_{0}}{h}\\right]~dx \\\\ \\\\\n",
        "&=& -f(x_{0}) \\displaystyle\\int_{0}^{1} h(z-1)~dz + f(x_{1}) \\displaystyle\\int_{0}^{1} h z~dx \\\\ \\\\\n",
        "&=& -h f(x_{0}) \\left(\\dfrac{z^2}{2}-z\\right)\\Big|_{0}^{1} + h f(x_{1}) \\left(\\dfrac{z^2}{2}\\right)\\Big|_{0}^{1} \\\\ \\\\\n",
        "& = & \\dfrac{f(x_{0})+f(x_{1})}{2h} (x_{0}^2+x_{1}^2-2x_{0}x_{1}) \\\\ \\\\\n",
        "& = & \\dfrac{f(x_{0})+f(x_{1})}{2h} (x_{1}-x_{0})^2 \\\\ \\\\\n",
        "& = & \\dfrac{h}{2} [f(x_{0})+f(x_{1})]\n",
        "\\end{array}$$\n",
        "\n",
        "<font size=4>Portanto, o método do trapézio em $[a,b]$ obtém a seguinte aproximação:\n",
        "\\begin{equation*}\n",
        "\\displaystyle\\int_a^b f(x)~dx \\approx \\dfrac{h}{2} [f(a)+f(b)]\n",
        "\\end{equation*}"
      ],
      "metadata": {
        "id": "VWLz8aTAMg4l"
      }
    },
    {
      "cell_type": "markdown",
      "source": [
        "## Gráfico ilustrativo mostrando a aproximação obtida"
      ],
      "metadata": {
        "id": "xYR2gKhvePik"
      }
    },
    {
      "cell_type": "code",
      "source": [
        "import matplotlib.pyplot as plt\n",
        "import numpy as np\n",
        "\n",
        "x_plot = np.linspace(0.8,3.2,200)\n",
        "x_1 = np.linspace(1,2,100)\n",
        "x_2 = np.linspace(2,3,100)\n",
        "x_3 = np.linspace(1,3,200)\n",
        "\n",
        "# Sistema para calcular os coef da função f\n",
        "#A = np.array([[1,1,1,1],[8,4,2,1],[27,9,3,1],[12,4,1,0.0]])\n",
        "#b = np.array([[3],[5],[7.0],[0]])\n",
        "\n",
        "#coef = np.linalg.inv(A)@b\n",
        "#coef\n",
        "\n",
        "f = lambda x: 2*x**3-12*x**2+24*x-11\n",
        "g = lambda x: 2*x+1\n",
        "\n",
        "plt.plot(x_plot,f(x_plot),c='black',)\n",
        "plt.plot(x_plot,g(x_plot),c='black')\n",
        "\n",
        "\n",
        "plt.fill_between(x_1, f(x_1), g(x_1), where=(f(x_1) > g(x_1)), color='blue', alpha=0.2)\n",
        "plt.fill_between(x_2, f(x_2), g(x_2), where=(g(x_2) > f(x_2)), color='blue', alpha=0.2)\n",
        "plt.fill_between(x_3, 0, g(x_3), where=(g(x_3) > 0), color='red', alpha=0.2)\n",
        "\n",
        "plt.xlabel('x')\n",
        "plt.show()"
      ],
      "metadata": {
        "colab": {
          "base_uri": "https://localhost:8080/",
          "height": 449
        },
        "id": "WGk10PFxJzmk",
        "outputId": "7dbadc20-78c0-45ee-82d0-d524e143c780"
      },
      "execution_count": null,
      "outputs": [
        {
          "output_type": "display_data",
          "data": {
            "text/plain": [
              "<Figure size 640x480 with 1 Axes>"
            ],
            "image/png": "[encoded data removed]"
          },
          "metadata": {}
        }
      ]
    },
    {
      "cell_type": "markdown",
      "source": [
        "## Cota para o erro ao aplicar o método do Trapézio"
      ],
      "metadata": {
        "id": "Tu7Lqklse5Je"
      }
    },
    {
      "cell_type": "markdown",
      "source": [
        "<font size=4>Como\n",
        "$$\n",
        "\\displaystyle\\int_a^b f(x) ~dx\n",
        "= \\displaystyle\\int_{x_{0}}^{x_{1}} [p_{1}(x) + E_p(x)] ~dx\n",
        "\\implies\n",
        "\\displaystyle\\int_a^b f(x) ~dx - \\displaystyle\\int_{x_{0}}^{x_{1}} p_{1}(x) ~dx = \\displaystyle\\int_{x_{0}}^{x_{1}} E_p(x) ~dx.\n",
        "$$\n",
        "\n",
        "<font size=4>Logo, fazendo\n",
        "$$E_{i}(x) = \\displaystyle\\int_a^b f(x) ~dx - \\displaystyle\\int_{x_{0}}^{x_{1}} p_{1}(x) ~dx,$$\n",
        "como sendo o erro na integração utilizando a regra do trapézio, temos:\n",
        "$$\n",
        "E_{i}(x) = \\displaystyle\\int_{x_{0}}^{x_{1}} E_p(x) ~dx.\n",
        "$$\n",
        "\n",
        "<font size=4>Como o erro na interpolação polinomial através de um polinômio de grau um é dado por:\n",
        "$$\n",
        "E_p(x) = \\dfrac{f''(c)}{2} (x-x_{0}) \\cdot (x-x_{1}),\n",
        "$$\n",
        "temos que\n",
        "$$\n",
        "\\begin{array}{rcl}\n",
        "E_{i}(x)\n",
        "& = & \\displaystyle\\int_{x_{0}}^{x_{1}} E_p(x) ~dx \\\\\n",
        "&=& \\displaystyle\\int_{x_{0}}^{x_{1}} \\dfrac{f''(c)}{2} (x-x_{0}) \\cdot (x-x_{1}) ~dx \\\\\n",
        "&=& \\dfrac{f''(c)}{2} \\left[\\dfrac{x^3}{3} - (x_{0}+x_{1}) \\dfrac{x^2}{2} + x_{0}x_{1} x\\right]_{x_{0}}^{x_{1}} \\\\\n",
        "& = & \\dfrac{f''(c)}{2} \\left[\\dfrac{x_{1}^3-x_{0}^3}{3} - (x_{0}+x_{1}) \\dfrac{x_{1}^2-x_{0}^2}{2} + x_{0}x_{1} (x_{1}-x_{0})\\right] \\\\\n",
        "& = & \\dfrac{f''(c)}{12} \\left(2x_{1}^3-2x_{0}^3-3x_{0}x_{1}^2+3x_{0}^3-3x_{1}^3+3x_{1}x_{0}^2+6x_{0}x_{1}^2-6x_{0}^2x_{1}\\right) \\\\\n",
        "& = & \\dfrac{f''(c)}{12} (-x_{1}^3+x_{0}^3+3x_{0}x_{1}^2-3x_{0}^2x_{1}) \\\\\n",
        "& = & \\dfrac{f''(c)}{12} (x_{0}-x_{1})^3\n",
        "\\end{array}\n",
        "$$\n",
        "\n",
        "<font size=4>Como\n",
        "$$x_{1}-x_{0} = h \\implies x_{0}-x_{1} = -h,$$\n",
        "temos que\n",
        "$$E_{i}(x) = -\\dfrac{f''(c)}{12} h^3.$$\n",
        "\n",
        "<font size=4>Devido a impossibilidade de se obter o valor para $c$ tal que a equação acima seja satisfeita, fazemos uma estimativa do valor do erro $E_{i}$, substituindo $f''(c)$ por\n",
        "$$\\displaystyle \\max_{x \\in [a,b]} \\{|f''(x)|\\}.$$\n",
        "\n",
        "<font size=4>Assim, o erro máximo ao aplicarmos a regra do trapézio na integração definida em $[a,b]$ é\n",
        "$$E_{Imax} = \\displaystyle \\max_{x \\in [a,b]} \\{|f''(x)|\\} \\dfrac{h^3}{12}.$$"
      ],
      "metadata": {
        "id": "vL1TpwNN8hAG"
      }
    },
    {
      "cell_type": "markdown",
      "source": [
        "## Exemplo 01"
      ],
      "metadata": {
        "id": "0bhWku-8pjb4"
      }
    },
    {
      "cell_type": "markdown",
      "source": [
        "<font size=4>Dado\n",
        "$$\\displaystyle\\int_{0}^{0,1} x^2~dx,$$\n",
        "determine:\n",
        "\n",
        ">- <font size=4> (a) um valor aproximado utilizando o método do trapézio;\n",
        ">- <font size=4> (b) uma estimativa para o erro;\n",
        ">- <font size=4> (c) o erro."
      ],
      "metadata": {
        "id": "0MGQruLxX8dT"
      }
    },
    {
      "cell_type": "markdown",
      "source": [
        "### Solução:"
      ],
      "metadata": {
        "id": "X4jAdwY0qzvg"
      }
    },
    {
      "cell_type": "markdown",
      "source": [
        "<font size=4>(a) para determinar uma aproximação da integral, temos que\n",
        "\n",
        "* <font size=4>$x_0 = 0$,\n",
        "* $x_1 = 0.1$,\n",
        "* $f(x_0) = 0^2 = 0$ e\n",
        "* $f(x_1) = 0.1^2 = 0.01$\n",
        "\n",
        "<font size=4>O código a seguir determina uma aproximação para o valor da integral em questão."
      ],
      "metadata": {
        "id": "L8adkpqKq32h"
      }
    },
    {
      "cell_type": "code",
      "source": [
        "f = lambda x: x**2\n",
        "x0 = 0\n",
        "x1 = 0.1\n",
        "h = x1-x0\n",
        "\n",
        "I_T = h/2*(f(x0)+f(x1))\n",
        "I_T"
      ],
      "metadata": {
        "colab": {
          "base_uri": "https://localhost:8080/"
        },
        "id": "XvxRp7F9qI8I",
        "outputId": "883130c0-697c-4ff1-97dc-5b9473a83b51"
      },
      "execution_count": null,
      "outputs": [
        {
          "output_type": "execute_result",
          "data": {
            "text/plain": [
              "0.0005000000000000001"
            ]
          },
          "metadata": {},
          "execution_count": 42
        }
      ]
    },
    {
      "cell_type": "markdown",
      "source": [
        "<font size=4>(b) Para estimar o erro na integração pelo método do trapézios, temos que usar a fórmula:\n",
        "$$E_{Imax} = \\dfrac{h^3}{12}\\displaystyle \\max_{x \\in [a,b]} \\{|f''(x)|\\}.$$\n",
        "\n",
        "<font size=4>O código a seguir determina uma cota para o valor da integral em questão."
      ],
      "metadata": {
        "id": "RAVJdVoNtnCA"
      }
    },
    {
      "cell_type": "code",
      "source": [
        "import sympy as sp\n",
        "x = sp.symbols('x')\n",
        "\n",
        "EImax = float(sp.Derivative(f(x),x,x).doit()*h**3/12)\n",
        "EImax"
      ],
      "metadata": {
        "colab": {
          "base_uri": "https://localhost:8080/"
        },
        "id": "0J3-7iIWrE1S",
        "outputId": "7c81dcd3-2dbe-45f0-b133-63dd52836147"
      },
      "execution_count": null,
      "outputs": [
        {
          "output_type": "execute_result",
          "data": {
            "text/plain": [
              "0.00016666666666666672"
            ]
          },
          "metadata": {},
          "execution_count": 48
        }
      ]
    },
    {
      "cell_type": "markdown",
      "source": [
        "<font size=4>(c) Podemos determinar o valor exato da intergral, utilizando o teorema fundamental do Cálculo. Entretanto, o faremos utilizando os seguintes comandos: "
      ],
      "metadata": {
        "id": "eL7QyWybxd-t"
      }
    },
    {
      "cell_type": "code",
      "source": [
        "I = float(sp.integrate(f(x),(x,0,0.1)))\n",
        "I"
      ],
      "metadata": {
        "colab": {
          "base_uri": "https://localhost:8080/"
        },
        "id": "gnZbSIMPxkoC",
        "outputId": "8ff26845-a8ee-41f9-92d4-54a6f5fd7f78"
      },
      "execution_count": null,
      "outputs": [
        {
          "output_type": "execute_result",
          "data": {
            "text/plain": [
              "0.0003333333333333334"
            ]
          },
          "metadata": {},
          "execution_count": 49
        }
      ]
    },
    {
      "cell_type": "markdown",
      "source": [
        "<font size=4>A seguir, temos o valor exato do erro ao calcular a aproximação utilizando o método do trapézio."
      ],
      "metadata": {
        "id": "lmTjnbv4aLdp"
      }
    },
    {
      "cell_type": "code",
      "source": [
        "abs(I_T-I)"
      ],
      "metadata": {
        "colab": {
          "base_uri": "https://localhost:8080/"
        },
        "id": "iNHIDABPySa6",
        "outputId": "8c70db20-4ea2-4a67-8bc2-680d79d95497"
      },
      "execution_count": null,
      "outputs": [
        {
          "output_type": "execute_result",
          "data": {
            "text/plain": [
              "0.00016666666666666674"
            ]
          },
          "metadata": {},
          "execution_count": 50
        }
      ]
    },
    {
      "cell_type": "code",
      "source": [
        "EImax > abs(I_T-I)"
      ],
      "metadata": {
        "colab": {
          "base_uri": "https://localhost:8080/"
        },
        "id": "0rwhkqyJ1Voi",
        "outputId": "43519802-ecee-4ad4-a864-104d242ec92b"
      },
      "execution_count": null,
      "outputs": [
        {
          "output_type": "execute_result",
          "data": {
            "text/plain": [
              "False"
            ]
          },
          "metadata": {},
          "execution_count": 51
        }
      ]
    },
    {
      "cell_type": "markdown",
      "source": [
        "# <font color=green> MÉTODO DOS TRAPÉZIOS ACUMULADOS"
      ],
      "metadata": {
        "id": "5u56csB14YPC"
      }
    },
    {
      "cell_type": "markdown",
      "source": [
        "<font size=4>Podemos intuir, pela expressão do erro, que o método do trapézio só se torna interessante em casos os quais o intervalo $[a,b]$ é relativamente pequeno. Nos casos em que o intervalo $[a,b]$ é grande, devemos dividi-lo em $m$ partes iguais de modo a aplicar a regra do trapézio repetidas vezes, em cada um desses intervalos."
      ],
      "metadata": {
        "id": "Bmwhwkxz-CWS"
      }
    },
    {
      "cell_type": "markdown",
      "source": [
        "<font size=4>Seja\n",
        "$$I = \\displaystyle\\int_a^b f(x)~dx.$$\n",
        "\n",
        "<font size=4>Considere uma subdivisão do intervalo $[a, b]$ em $m$ subintervalos $[x_{i}, x_{i+1}]$ de comprimento $h > 0$.\n",
        "\n",
        "<font size=4>Assim,\n",
        "\\begin{eqnarray*}\n",
        "h & = & \\dfrac{(b-a)}{m} \\\\\n",
        "x_{i} & = & a + i~h,\\quad i = 0, 1, \\ldots, m.\n",
        "\\end{eqnarray*}\n",
        "\n",
        "<font size=4>Denotando\n",
        "$$I_{i} = \\displaystyle\\int^{x_{i+1}}_{x_{i}} f(x) ~dx,$$\n",
        "temos que\n",
        "$$I\n",
        "= \\displaystyle\\int_a^b f(x)~dx\n",
        "= \\displaystyle\\sum_{i = 0}^{m-1} \\displaystyle\\int^{x_{i+1}}_{x_{i}} f(x)~dx\n",
        "= \\displaystyle\\sum_{i = 0}^{m-1} I_{i}.\n",
        "$$\n",
        "O método dos Trapézios consiste em substituir, no intervalo $[x_{i}, x_{i+1}]$, a função $f(x)$ por um polinômio ${p_{1}}_{i}(x)$, de grau $1$, que interpola os pontos $(x_{i}, f_{i})$, $(x_{i+1}, f_{i+1})$.\n",
        "\n",
        "<font size=4>Assim,\n",
        "$$\\begin{array}{rcl}\n",
        "I\n",
        "& = & \\displaystyle\\int_{a}^{b} f(x)~dx\n",
        " = \\displaystyle\\sum_{i = 0}^{m-1} \\displaystyle\\int^{x_{i+1}}_{x_{i}} \\left[p_{1i}(x) + E_{i}\\right]~dx\n",
        "= \\displaystyle\\sum_{i = 0}^{m-1} \\left(\\dfrac{h}{2} \\cdot [f(x_{i})+f(x_{i+1})] - \\dfrac{h^3}{12} \\cdot f''(c_{i}) \\right) \\\\ \\\\\n",
        "& = & \\dfrac{h}{2} \\left[ (f(x_{1})+f(x_{2})) + (f(x_{2})+f(x_{3})) + (f(x_{3})+f(x_4)) + \\ldots + (f(x_{m-1})+f(x_{m})) \\right] - \\displaystyle\\sum_{i = 0}^{m-1} \\dfrac{h^3}{12} \\cdot f''(c_{i}) \\\\ \\\\\n",
        "& = & \\dfrac{h}{2} \\left[f(x_{1})+ 2 f(x_{2}) + 2 f(x_{3}) + \\ldots + 2 f(x_{n-1}) + f(x_{m}) \\right] - \\displaystyle\\sum_{i = 0}^{m-1} \\dfrac{h^3}{12} \\cdot f''(c_{i}) \\\\ \\\\\n",
        "& = & \\dfrac{h}{2} \\left[f(x_{1})+ f(x_{m}) + 2 \\displaystyle\\sum_{i = 2}^{m-1} f(x_{i}) \\right]- \\displaystyle\\sum_{i = 0}^{m-1} \\dfrac{h^3}{12} \\cdot f''(c_{i}), c_{i} \\in (x_{i}; x_{i+1})\n",
        "\\end{array}$$\n",
        "\n",
        "<font size=4>A seguinte aproximação pode ser então considerada\n",
        "$$\n",
        "I = \\displaystyle\\int_{a}^{b} f(x)~dx \\approx \\dfrac{h}{2} \\left[f(x_{0})+ f(x_{m}) + 2 \\sum_{i = 1}^{m-1} f(x_{i}) \\right].\n",
        "$$\n",
        "\n",
        "<font size=4>Como estamos supondo $f''(x)$ contínua em $[a,b]$, uma generalização do teorema do valor médio nos garante que existe um $c \\in [a,b]$ tal que\n",
        "$$\n",
        "\\sum_{i = 0}^{m-1} f''(c_{i}) = m \\cdot f''(c)\n",
        "$$\n",
        "e o erro cometido nessa aproximação é dado por\n",
        "$$\n",
        "E = -\\dfrac{mh^3}{12} f''(c).\n",
        "$$\n",
        "\n",
        "<font size=4>Devido a impossibilidade de se obter o valor para $c$ tal que a equação acima seja satisfeita, fazemos uma estimativa do valor do erro $E$, substituindo $f''(c)$ por $\\displaystyle \\max_{x \\in [a,b]} \\{|f''(x)|\\}$ e a cota para o Erro na Fórmula dos Trapézios Acumulados é dada por\n",
        "\n",
        "$$\n",
        "E = -\\dfrac{mh^3}{12} \\displaystyle \\max_{x \\in [a,b]} \\{|f''(x)|\\}.\n",
        "$$"
      ],
      "metadata": {
        "id": "6bGrgYxW4oEG"
      }
    },
    {
      "cell_type": "markdown",
      "source": [
        "## Código Método dos Trapézios Acumulados"
      ],
      "metadata": {
        "id": "WC-FNJ3kRM0b"
      }
    },
    {
      "cell_type": "code",
      "source": [
        "import numpy as np\n",
        "\n",
        "def trapezio(func, a, b, m):\n",
        "    x = np.linspace(a, b, m+1)\n",
        "    h = x[1]-x[0]\n",
        "    y = func(x)\n",
        "    S = y[0] + 2. * np.sum(y[1:-1]) + y[-1]\n",
        "    return h/2 * S\n",
        "\n",
        "def f(x):\n",
        "    return np.sin(x)\n",
        "\n",
        "print(trapezio(f, 0, np.pi, 100))"
      ],
      "metadata": {
        "colab": {
          "base_uri": "https://localhost:8080/"
        },
        "id": "K7bInXfnRMSA",
        "outputId": "8e2c0e1d-7f08-4012-b96a-11a7dec23cb9"
      },
      "execution_count": null,
      "outputs": [
        {
          "output_type": "stream",
          "name": "stdout",
          "text": [
            "1.9998355038874436\n"
          ]
        }
      ]
    },
    {
      "cell_type": "markdown",
      "source": [
        "## Exemplo 02"
      ],
      "metadata": {
        "id": "1GOBVScNAGo6"
      }
    },
    {
      "cell_type": "markdown",
      "source": [
        "> - <font size=4>(a) Calcule, aproximadamente, $I = \\displaystyle\\int_{0}^{1} e^x~dx$ utilizando o método dos trapézios com $10$ subintervalos.\n",
        "> - <font size=4>(b) Estime o erro cometido.\n",
        "> - <font size=4>(c) Determine qual a quantidade de subintervalos que devemos ter para que o erro seja inferior a $10^{-3}$."
      ],
      "metadata": {
        "id": "8KDoMGmDAKSm"
      }
    },
    {
      "cell_type": "markdown",
      "source": [
        "### Solução:"
      ],
      "metadata": {
        "id": "jpz4hPcEExqs"
      }
    },
    {
      "cell_type": "markdown",
      "source": [
        "<font size=4>(a) Criamos a função $f$ utilizando o método ```lambda``` e em seguida, a função ```trapezio``` para determinar a aproximação requerida."
      ],
      "metadata": {
        "id": "OG_S0dAUyQvT"
      }
    },
    {
      "cell_type": "code",
      "source": [
        "f = lambda x: np.exp(x)\n",
        "print(trapezio(f, 0, 1, 10))"
      ],
      "metadata": {
        "colab": {
          "base_uri": "https://localhost:8080/"
        },
        "id": "lc5xFz2UAhoa",
        "outputId": "61c6d604-6f9d-40f3-8bf3-8fabf46ff4b6"
      },
      "execution_count": null,
      "outputs": [
        {
          "output_type": "stream",
          "name": "stdout",
          "text": [
            "1.7197134913893146\n"
          ]
        }
      ]
    },
    {
      "cell_type": "markdown",
      "source": [
        "<font size=4>(b) Determinamos a derivada da função $f$ utilizando o comando `sp.diff` e com o comando `subs()` temos, na expressão da derivada, a variável $x$ assumindo o valor $1$ (A função exponencial é crescente e, por isso, assume valor máximo em $1$). Em seguida, aplicamos o comando `evalf`para que seja exibido o valor numérico calculado. Com isso, determinamos a cota para o valor do erro absoluto. "
      ],
      "metadata": {
        "id": "OWFVgs5vyzRO"
      }
    },
    {
      "cell_type": "code",
      "source": [
        "max = float(sp.diff(sp.exp(x),x,x).subs(x,1).evalf())\n",
        "print('A estimativa de erro é: ', 10*h**3/12*max)"
      ],
      "metadata": {
        "colab": {
          "base_uri": "https://localhost:8080/"
        },
        "id": "4-BuASdmCo18",
        "outputId": "a213bd75-6026-434a-eb75-b05f34295875"
      },
      "execution_count": null,
      "outputs": [
        {
          "output_type": "stream",
          "name": "stdout",
          "text": [
            "A estimativa de erro é:  0.0022652348570492047\n"
          ]
        }
      ]
    },
    {
      "cell_type": "markdown",
      "source": [
        "<font size=4>(c) Precisamos resolver o sistema\n",
        "$$\\begin{array}{rcl}\n",
        "E &=& 10^{-3} \\\\\n",
        "E &=& \\dfrac{mh^3}{12} \\displaystyle \\max_{x \\in [a,b]} \\{|f''(x)|\\}.\n",
        "\\end{array}$$\n",
        "\n",
        "Como $h = \\dfrac{b-a}{m} = \\dfrac{1}{m}$ e $\\max\\limits_{x \\in [a,b]} \\{|f''(x)|\\} = e$, temos, então, que:\n",
        "$$10^{-3} = \\dfrac{m}{12} \\dfrac{1}{m^3} e \\implies m = \\sqrt{\\dfrac{1000 e}{12}}$$"
      ],
      "metadata": {
        "id": "UZdUSbpqFCrf"
      }
    },
    {
      "cell_type": "code",
      "source": [
        "pow(1000*np.exp(1)/12,0.5)"
      ],
      "metadata": {
        "colab": {
          "base_uri": "https://localhost:8080/"
        },
        "id": "5i7VBeQ4EZds",
        "outputId": "6f3be5b4-deb6-45c9-ff0d-77a7b1848274"
      },
      "execution_count": null,
      "outputs": [
        {
          "output_type": "execute_result",
          "data": {
            "text/plain": [
              "15.05069718335069"
            ]
          },
          "metadata": {},
          "execution_count": 89
        }
      ]
    },
    {
      "cell_type": "markdown",
      "source": [
        "<font size=4>Portanto, precisaremos de 16 intervalos para que o erro seja inferior a $10^{-3}$."
      ],
      "metadata": {
        "id": "Zd2SQdILIwRu"
      }
    },
    {
      "cell_type": "markdown",
      "source": [
        "# <font color=green>EXERCÍCIOS"
      ],
      "metadata": {
        "id": "QnSq7jrIbytX"
      }
    },
    {
      "cell_type": "markdown",
      "source": [
        "## Questão 01"
      ],
      "metadata": {
        "id": "Pf_AXUiocJFv"
      }
    },
    {
      "cell_type": "markdown",
      "source": [
        "<font size=4>Calcule, aproximadamente,\n",
        "$$\\displaystyle\\int_{0}^{0,1} x^3~dx$$\n",
        "utilizando o método do trapézio, em seguida, estime o erro e determine-o."
      ],
      "metadata": {
        "id": "FuqaQfIhcIxa"
      }
    },
    {
      "cell_type": "markdown",
      "source": [
        "## Questão 02"
      ],
      "metadata": {
        "id": "pPlTSUJfI-uf"
      }
    },
    {
      "cell_type": "markdown",
      "source": [
        "<font size=4>Considerando que $\\dfrac{\\pi}{4} = \\displaystyle\\int_{0}^{1} \\dfrac{~dx}{1+x^2}$:\n",
        "\n",
        ">- <font size=4>(a) Determine uma aproximação para $\\pi$ usando a fórmula do trapézio com $m = 12$;\n",
        "- <font size=4>(b) Compare o resultado obtido com o valor exato de $\\dfrac{\\pi}{4} = 0.7854$ com $4$ casas decimais exatas."
      ],
      "metadata": {
        "id": "vI7LNHW6JFiM"
      }
    },
    {
      "cell_type": "markdown",
      "source": [
        "## Questão 03"
      ],
      "metadata": {
        "id": "BbwBKVsxJFXx"
      }
    },
    {
      "cell_type": "markdown",
      "source": [
        "<font size=4>Seja $I = \\displaystyle\\int_{0}^{1} e^{-x^2}~dx$.\n",
        "\n",
        "> - <font size=4>(a) Calcule $I$, aproximadamente, utilizando o método dos trapézios com divisão em $6$ subintervalos.\n",
        "> - <font size=4>(b) Estime o erro cometido;\n",
        "> - <font size=4>(c) Qual a quantidade de subintervalos que devemos ter para que o erro seja inferior a $10^{-2}$."
      ],
      "metadata": {
        "id": "pL_vGzS5JE0J"
      }
    }
  ]
}